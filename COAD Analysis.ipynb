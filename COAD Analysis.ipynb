{
 "cells": [
  {
   "cell_type": "markdown",
   "id": "accepted-surname",
   "metadata": {},
   "source": [
    "# TCGA - COAD ML"
   ]
  },
  {
   "cell_type": "code",
   "execution_count": 2,
   "id": "quality-number",
   "metadata": {},
   "outputs": [],
   "source": [
    "# import libraries\n",
    "\n",
    "#import python packages \n",
    "import pandas as pd\n",
    "from scipy import stats\n",
    "import matplotlib.pyplot as plt\n",
    "import seaborn as sns\n",
    "import numpy as np\n",
    "import sklearn\n",
    "from matplotlib import cm\n",
    "import random\n",
    "from matplotlib.lines import Line2D\n",
    "\n",
    "# PCA Analyis\n",
    "from sklearn.decomposition import PCA\n",
    "from IPython.display import Image\n",
    "\n",
    "# ML \n",
    "from sklearn import svm\n",
    "from sklearn.model_selection import train_test_split,KFold, StratifiedKFold,cross_val_score\n",
    "from sklearn.preprocessing import LabelEncoder, StandardScaler\n",
    "from sklearn.pipeline import Pipeline\n",
    "from sklearn.metrics import confusion_matrix,roc_curve, auc\n",
    "from sklearn.ensemble import RandomForestClassifier\n",
    "\n",
    "# Deep Learning\n",
    "from keras.models import Sequential\n",
    "from keras.layers import Dense, Dropout\n",
    "from keras.wrappers.scikit_learn import KerasClassifier\n",
    "from keras.utils import np_utils\n",
    "from tensorflow import keras\n",
    "import tensorflow as tf\n",
    "\n",
    "\n",
    "# Other\n",
    "%matplotlib inline\n",
    "import warnings\n",
    "import os\n",
    "warnings.filterwarnings('ignore')\n",
    "os.environ['TF_CPP_MIN_LOG_LEVEL'] = '2'"
   ]
  },
  {
   "cell_type": "markdown",
   "id": "0dba0f7c",
   "metadata": {},
   "source": [
    "# Code Functions"
   ]
  },
  {
   "cell_type": "code",
   "execution_count": 3,
   "id": "7db04b51",
   "metadata": {},
   "outputs": [],
   "source": [
    "# SVM Plot code\n",
    "def make_meshgrid(x, y, h=.02):\n",
    "    x_min, x_max = x.min() - 1, x.max() + 1\n",
    "    y_min, y_max = y.min() - 1, y.max() + 1\n",
    "    xx, yy = np.meshgrid(np.arange(x_min, x_max, h), np.arange(y_min, y_max, h))\n",
    "    return xx, yy\n",
    "\n",
    "# SVM Plot code\n",
    "def plot_contours(ax, clf, xx, yy, **params):\n",
    "    Z = clf.predict(np.c_[xx.ravel(), yy.ravel()])\n",
    "    Z = Z.reshape(xx.shape)\n",
    "    out = ax.contourf(xx, yy, Z, **params)\n",
    "    return out"
   ]
  },
  {
   "cell_type": "markdown",
   "id": "positive-wichita",
   "metadata": {},
   "source": [
    "## Read in data using pandas\n",
    "Has to be transformed to be used downstream (transposed)"
   ]
  },
  {
   "cell_type": "code",
   "execution_count": 4,
   "id": "american-massage",
   "metadata": {},
   "outputs": [
    {
     "data": {
      "text/html": [
       "<div>\n",
       "<style scoped>\n",
       "    .dataframe tbody tr th:only-of-type {\n",
       "        vertical-align: middle;\n",
       "    }\n",
       "\n",
       "    .dataframe tbody tr th {\n",
       "        vertical-align: top;\n",
       "    }\n",
       "\n",
       "    .dataframe thead th {\n",
       "        text-align: right;\n",
       "    }\n",
       "</style>\n",
       "<table border=\"1\" class=\"dataframe\">\n",
       "  <thead>\n",
       "    <tr style=\"text-align: right;\">\n",
       "      <th></th>\n",
       "      <th>TSPAN6</th>\n",
       "      <th>TNMD</th>\n",
       "      <th>DPM1</th>\n",
       "      <th>SCYL3</th>\n",
       "      <th>C1orf112</th>\n",
       "      <th>FGR</th>\n",
       "      <th>CFH</th>\n",
       "      <th>FUCA2</th>\n",
       "      <th>GCLC</th>\n",
       "      <th>NFYA</th>\n",
       "      <th>...</th>\n",
       "      <th>RPS3P6</th>\n",
       "      <th>GSTM2</th>\n",
       "      <th>ST13P11</th>\n",
       "      <th>RANP6</th>\n",
       "      <th>NAP1L1P3</th>\n",
       "      <th>LINC00671</th>\n",
       "      <th>GAPDHP71</th>\n",
       "      <th>COG8</th>\n",
       "      <th>EIF4E2P1</th>\n",
       "      <th>ARHGAP19</th>\n",
       "    </tr>\n",
       "  </thead>\n",
       "  <tbody>\n",
       "    <tr>\n",
       "      <th>TCGA.A6.5665_Tumor1</th>\n",
       "      <td>12.716704</td>\n",
       "      <td>4.833520</td>\n",
       "      <td>10.605669</td>\n",
       "      <td>9.666432</td>\n",
       "      <td>7.583105</td>\n",
       "      <td>7.746044</td>\n",
       "      <td>11.347351</td>\n",
       "      <td>11.594550</td>\n",
       "      <td>10.737055</td>\n",
       "      <td>10.027522</td>\n",
       "      <td>...</td>\n",
       "      <td>0.000000</td>\n",
       "      <td>8.526498</td>\n",
       "      <td>0.000000</td>\n",
       "      <td>0.938912</td>\n",
       "      <td>1.907370</td>\n",
       "      <td>2.481663</td>\n",
       "      <td>0.000000</td>\n",
       "      <td>9.736349</td>\n",
       "      <td>0.000000</td>\n",
       "      <td>8.861221</td>\n",
       "    </tr>\n",
       "    <tr>\n",
       "      <th>TCGA.AA.3662_Healthy</th>\n",
       "      <td>12.728542</td>\n",
       "      <td>4.440389</td>\n",
       "      <td>11.323393</td>\n",
       "      <td>9.904937</td>\n",
       "      <td>8.998116</td>\n",
       "      <td>7.706970</td>\n",
       "      <td>10.133867</td>\n",
       "      <td>12.214890</td>\n",
       "      <td>10.983066</td>\n",
       "      <td>10.429991</td>\n",
       "      <td>...</td>\n",
       "      <td>1.409756</td>\n",
       "      <td>7.478087</td>\n",
       "      <td>0.870630</td>\n",
       "      <td>1.409756</td>\n",
       "      <td>2.108974</td>\n",
       "      <td>0.870630</td>\n",
       "      <td>5.488914</td>\n",
       "      <td>9.867042</td>\n",
       "      <td>0.000000</td>\n",
       "      <td>8.487418</td>\n",
       "    </tr>\n",
       "    <tr>\n",
       "      <th>TCGA.A6.2684_Healthy</th>\n",
       "      <td>11.812955</td>\n",
       "      <td>5.701675</td>\n",
       "      <td>10.132944</td>\n",
       "      <td>9.498977</td>\n",
       "      <td>7.727813</td>\n",
       "      <td>8.735967</td>\n",
       "      <td>11.234999</td>\n",
       "      <td>11.428503</td>\n",
       "      <td>11.081855</td>\n",
       "      <td>10.148888</td>\n",
       "      <td>...</td>\n",
       "      <td>1.708694</td>\n",
       "      <td>9.612037</td>\n",
       "      <td>0.000000</td>\n",
       "      <td>0.000000</td>\n",
       "      <td>2.138477</td>\n",
       "      <td>4.077288</td>\n",
       "      <td>1.093779</td>\n",
       "      <td>10.020849</td>\n",
       "      <td>0.000000</td>\n",
       "      <td>9.067167</td>\n",
       "    </tr>\n",
       "    <tr>\n",
       "      <th>TCGA.A6.5659_Tumor1</th>\n",
       "      <td>14.650295</td>\n",
       "      <td>6.689371</td>\n",
       "      <td>11.628497</td>\n",
       "      <td>9.949801</td>\n",
       "      <td>9.991783</td>\n",
       "      <td>6.240809</td>\n",
       "      <td>9.251160</td>\n",
       "      <td>10.941951</td>\n",
       "      <td>12.294520</td>\n",
       "      <td>11.672900</td>\n",
       "      <td>...</td>\n",
       "      <td>0.000000</td>\n",
       "      <td>7.407009</td>\n",
       "      <td>0.000000</td>\n",
       "      <td>0.000000</td>\n",
       "      <td>4.465318</td>\n",
       "      <td>2.904814</td>\n",
       "      <td>0.000000</td>\n",
       "      <td>10.547631</td>\n",
       "      <td>9.220101</td>\n",
       "      <td>9.383200</td>\n",
       "    </tr>\n",
       "    <tr>\n",
       "      <th>TCGA.AA.3511_Healthy</th>\n",
       "      <td>12.432469</td>\n",
       "      <td>5.258396</td>\n",
       "      <td>12.154352</td>\n",
       "      <td>8.850606</td>\n",
       "      <td>8.023267</td>\n",
       "      <td>9.108951</td>\n",
       "      <td>11.370980</td>\n",
       "      <td>11.932527</td>\n",
       "      <td>11.113362</td>\n",
       "      <td>10.297657</td>\n",
       "      <td>...</td>\n",
       "      <td>2.661122</td>\n",
       "      <td>7.883856</td>\n",
       "      <td>0.916508</td>\n",
       "      <td>0.916508</td>\n",
       "      <td>2.185919</td>\n",
       "      <td>1.872878</td>\n",
       "      <td>3.648240</td>\n",
       "      <td>10.005464</td>\n",
       "      <td>0.000000</td>\n",
       "      <td>8.782451</td>\n",
       "    </tr>\n",
       "  </tbody>\n",
       "</table>\n",
       "<p>5 rows × 21083 columns</p>\n",
       "</div>"
      ],
      "text/plain": [
       "                         TSPAN6      TNMD       DPM1     SCYL3  C1orf112  \\\n",
       "TCGA.A6.5665_Tumor1   12.716704  4.833520  10.605669  9.666432  7.583105   \n",
       "TCGA.AA.3662_Healthy  12.728542  4.440389  11.323393  9.904937  8.998116   \n",
       "TCGA.A6.2684_Healthy  11.812955  5.701675  10.132944  9.498977  7.727813   \n",
       "TCGA.A6.5659_Tumor1   14.650295  6.689371  11.628497  9.949801  9.991783   \n",
       "TCGA.AA.3511_Healthy  12.432469  5.258396  12.154352  8.850606  8.023267   \n",
       "\n",
       "                           FGR        CFH      FUCA2       GCLC       NFYA  \\\n",
       "TCGA.A6.5665_Tumor1   7.746044  11.347351  11.594550  10.737055  10.027522   \n",
       "TCGA.AA.3662_Healthy  7.706970  10.133867  12.214890  10.983066  10.429991   \n",
       "TCGA.A6.2684_Healthy  8.735967  11.234999  11.428503  11.081855  10.148888   \n",
       "TCGA.A6.5659_Tumor1   6.240809   9.251160  10.941951  12.294520  11.672900   \n",
       "TCGA.AA.3511_Healthy  9.108951  11.370980  11.932527  11.113362  10.297657   \n",
       "\n",
       "                      ...    RPS3P6     GSTM2   ST13P11     RANP6  NAP1L1P3  \\\n",
       "TCGA.A6.5665_Tumor1   ...  0.000000  8.526498  0.000000  0.938912  1.907370   \n",
       "TCGA.AA.3662_Healthy  ...  1.409756  7.478087  0.870630  1.409756  2.108974   \n",
       "TCGA.A6.2684_Healthy  ...  1.708694  9.612037  0.000000  0.000000  2.138477   \n",
       "TCGA.A6.5659_Tumor1   ...  0.000000  7.407009  0.000000  0.000000  4.465318   \n",
       "TCGA.AA.3511_Healthy  ...  2.661122  7.883856  0.916508  0.916508  2.185919   \n",
       "\n",
       "                      LINC00671  GAPDHP71       COG8  EIF4E2P1  ARHGAP19  \n",
       "TCGA.A6.5665_Tumor1    2.481663  0.000000   9.736349  0.000000  8.861221  \n",
       "TCGA.AA.3662_Healthy   0.870630  5.488914   9.867042  0.000000  8.487418  \n",
       "TCGA.A6.2684_Healthy   4.077288  1.093779  10.020849  0.000000  9.067167  \n",
       "TCGA.A6.5659_Tumor1    2.904814  0.000000  10.547631  9.220101  9.383200  \n",
       "TCGA.AA.3511_Healthy   1.872878  3.648240  10.005464  0.000000  8.782451  \n",
       "\n",
       "[5 rows x 21083 columns]"
      ]
     },
     "execution_count": 4,
     "metadata": {},
     "output_type": "execute_result"
    }
   ],
   "source": [
    "# Load in Data + Trnasform Direction\n",
    "df=pd.read_csv('log2transformed_and_normalized_gene_expression_data.csv') # load\n",
    "df=df.transpose()\n",
    "\n",
    "genes=df.loc['Unnamed: 0'].to_list() # saves all genes as list\n",
    "df.columns=genes\n",
    "\n",
    "samples=df.index.to_list()\n",
    "samples=samples[1:] # removes the \"New_Gene\" Label\n",
    "\n",
    "df=df.drop(['Unnamed: 0']).reset_index(drop=True) # remove gene column \n",
    "df.index=samples # set index names \n",
    "\n",
    "df=df.astype(float) # weird nonsense step thats needed ~sometimes~\n",
    "df.head() # show results"
   ]
  },
  {
   "cell_type": "markdown",
   "id": "raising-carry",
   "metadata": {},
   "source": [
    "## Using Gene Signature"
   ]
  },
  {
   "cell_type": "code",
   "execution_count": 5,
   "id": "angry-license",
   "metadata": {},
   "outputs": [
    {
     "data": {
      "text/html": [
       "<div>\n",
       "<style scoped>\n",
       "    .dataframe tbody tr th:only-of-type {\n",
       "        vertical-align: middle;\n",
       "    }\n",
       "\n",
       "    .dataframe tbody tr th {\n",
       "        vertical-align: top;\n",
       "    }\n",
       "\n",
       "    .dataframe thead th {\n",
       "        text-align: right;\n",
       "    }\n",
       "</style>\n",
       "<table border=\"1\" class=\"dataframe\">\n",
       "  <thead>\n",
       "    <tr style=\"text-align: right;\">\n",
       "      <th></th>\n",
       "      <th>TREML2</th>\n",
       "      <th>PTPRN</th>\n",
       "      <th>PGLYRP1</th>\n",
       "      <th>NOG</th>\n",
       "      <th>VIP</th>\n",
       "      <th>RIMKLB</th>\n",
       "      <th>NKAIN4</th>\n",
       "      <th>FAM171B</th>\n",
       "      <th>ZNF417</th>\n",
       "      <th>GLRA2</th>\n",
       "      <th>...</th>\n",
       "      <th>GLTP</th>\n",
       "      <th>METTL7A</th>\n",
       "      <th>CITED2</th>\n",
       "      <th>SCARA5</th>\n",
       "      <th>CDH3</th>\n",
       "      <th>IL6R</th>\n",
       "      <th>PKIB</th>\n",
       "      <th>GLP2R</th>\n",
       "      <th>EPB41L3</th>\n",
       "      <th>NR3C2</th>\n",
       "    </tr>\n",
       "  </thead>\n",
       "  <tbody>\n",
       "    <tr>\n",
       "      <th>TCGA.A6.5665_Tumor1</th>\n",
       "      <td>5.163865</td>\n",
       "      <td>7.045953</td>\n",
       "      <td>0.000000</td>\n",
       "      <td>2.481663</td>\n",
       "      <td>10.630085</td>\n",
       "      <td>8.925217</td>\n",
       "      <td>3.970238</td>\n",
       "      <td>7.505138</td>\n",
       "      <td>7.438055</td>\n",
       "      <td>7.065840</td>\n",
       "      <td>...</td>\n",
       "      <td>12.320419</td>\n",
       "      <td>13.399920</td>\n",
       "      <td>11.965595</td>\n",
       "      <td>11.574300</td>\n",
       "      <td>5.235852</td>\n",
       "      <td>11.012812</td>\n",
       "      <td>12.250186</td>\n",
       "      <td>8.858374</td>\n",
       "      <td>11.055709</td>\n",
       "      <td>11.847057</td>\n",
       "    </tr>\n",
       "    <tr>\n",
       "      <th>TCGA.AA.3662_Healthy</th>\n",
       "      <td>4.494414</td>\n",
       "      <td>5.566627</td>\n",
       "      <td>1.409756</td>\n",
       "      <td>2.765371</td>\n",
       "      <td>8.883848</td>\n",
       "      <td>7.230001</td>\n",
       "      <td>4.134978</td>\n",
       "      <td>6.968887</td>\n",
       "      <td>7.122600</td>\n",
       "      <td>7.329957</td>\n",
       "      <td>...</td>\n",
       "      <td>11.079559</td>\n",
       "      <td>10.185072</td>\n",
       "      <td>10.063010</td>\n",
       "      <td>8.463916</td>\n",
       "      <td>12.636749</td>\n",
       "      <td>9.847715</td>\n",
       "      <td>8.060350</td>\n",
       "      <td>5.980358</td>\n",
       "      <td>8.926231</td>\n",
       "      <td>9.717484</td>\n",
       "    </tr>\n",
       "    <tr>\n",
       "      <th>TCGA.A6.2684_Healthy</th>\n",
       "      <td>5.130507</td>\n",
       "      <td>8.512218</td>\n",
       "      <td>3.625649</td>\n",
       "      <td>4.259210</td>\n",
       "      <td>11.042827</td>\n",
       "      <td>9.282183</td>\n",
       "      <td>4.077288</td>\n",
       "      <td>8.289738</td>\n",
       "      <td>7.466139</td>\n",
       "      <td>4.495193</td>\n",
       "      <td>...</td>\n",
       "      <td>11.973354</td>\n",
       "      <td>13.375031</td>\n",
       "      <td>12.171185</td>\n",
       "      <td>12.763005</td>\n",
       "      <td>5.176484</td>\n",
       "      <td>11.718993</td>\n",
       "      <td>12.312365</td>\n",
       "      <td>8.498709</td>\n",
       "      <td>12.099533</td>\n",
       "      <td>12.006744</td>\n",
       "    </tr>\n",
       "    <tr>\n",
       "      <th>TCGA.A6.5659_Tumor1</th>\n",
       "      <td>1.390835</td>\n",
       "      <td>4.106267</td>\n",
       "      <td>4.992032</td>\n",
       "      <td>3.805130</td>\n",
       "      <td>6.919465</td>\n",
       "      <td>9.289066</td>\n",
       "      <td>1.390835</td>\n",
       "      <td>8.249686</td>\n",
       "      <td>11.917585</td>\n",
       "      <td>10.136038</td>\n",
       "      <td>...</td>\n",
       "      <td>10.236458</td>\n",
       "      <td>10.887394</td>\n",
       "      <td>10.581628</td>\n",
       "      <td>7.474363</td>\n",
       "      <td>10.411630</td>\n",
       "      <td>7.447798</td>\n",
       "      <td>7.262062</td>\n",
       "      <td>3.627154</td>\n",
       "      <td>8.804561</td>\n",
       "      <td>9.454988</td>\n",
       "    </tr>\n",
       "    <tr>\n",
       "      <th>TCGA.AA.3511_Healthy</th>\n",
       "      <td>3.017981</td>\n",
       "      <td>6.444461</td>\n",
       "      <td>1.472531</td>\n",
       "      <td>2.850558</td>\n",
       "      <td>8.858903</td>\n",
       "      <td>8.409564</td>\n",
       "      <td>5.002881</td>\n",
       "      <td>8.382962</td>\n",
       "      <td>7.238352</td>\n",
       "      <td>4.877810</td>\n",
       "      <td>...</td>\n",
       "      <td>10.939757</td>\n",
       "      <td>11.527948</td>\n",
       "      <td>10.070021</td>\n",
       "      <td>8.283735</td>\n",
       "      <td>12.064537</td>\n",
       "      <td>9.143323</td>\n",
       "      <td>8.808388</td>\n",
       "      <td>4.787968</td>\n",
       "      <td>9.854585</td>\n",
       "      <td>9.599585</td>\n",
       "    </tr>\n",
       "    <tr>\n",
       "      <th>TCGA.AZ.6600_Healthy</th>\n",
       "      <td>3.977576</td>\n",
       "      <td>8.669881</td>\n",
       "      <td>3.160928</td>\n",
       "      <td>4.342888</td>\n",
       "      <td>12.103200</td>\n",
       "      <td>10.055780</td>\n",
       "      <td>4.171764</td>\n",
       "      <td>8.539548</td>\n",
       "      <td>7.494323</td>\n",
       "      <td>6.288557</td>\n",
       "      <td>...</td>\n",
       "      <td>11.844244</td>\n",
       "      <td>12.943214</td>\n",
       "      <td>11.804974</td>\n",
       "      <td>12.725764</td>\n",
       "      <td>5.604791</td>\n",
       "      <td>11.635214</td>\n",
       "      <td>11.966696</td>\n",
       "      <td>8.736652</td>\n",
       "      <td>11.906556</td>\n",
       "      <td>12.022857</td>\n",
       "    </tr>\n",
       "    <tr>\n",
       "      <th>TCGA.A6.5667_Tumor</th>\n",
       "      <td>4.634540</td>\n",
       "      <td>5.527445</td>\n",
       "      <td>2.394234</td>\n",
       "      <td>1.829520</td>\n",
       "      <td>7.228764</td>\n",
       "      <td>6.590308</td>\n",
       "      <td>4.584222</td>\n",
       "      <td>7.082368</td>\n",
       "      <td>7.953643</td>\n",
       "      <td>6.442794</td>\n",
       "      <td>...</td>\n",
       "      <td>11.128845</td>\n",
       "      <td>9.393930</td>\n",
       "      <td>12.342774</td>\n",
       "      <td>7.161718</td>\n",
       "      <td>12.650770</td>\n",
       "      <td>8.900208</td>\n",
       "      <td>10.341715</td>\n",
       "      <td>5.059747</td>\n",
       "      <td>8.982645</td>\n",
       "      <td>8.871648</td>\n",
       "    </tr>\n",
       "    <tr>\n",
       "      <th>TCGA.A6.2685_Tumor</th>\n",
       "      <td>4.916248</td>\n",
       "      <td>8.422069</td>\n",
       "      <td>3.640337</td>\n",
       "      <td>3.376315</td>\n",
       "      <td>12.151396</td>\n",
       "      <td>9.643311</td>\n",
       "      <td>6.502569</td>\n",
       "      <td>8.667484</td>\n",
       "      <td>7.093277</td>\n",
       "      <td>5.550845</td>\n",
       "      <td>...</td>\n",
       "      <td>11.899099</td>\n",
       "      <td>12.661834</td>\n",
       "      <td>11.813086</td>\n",
       "      <td>10.758106</td>\n",
       "      <td>7.732441</td>\n",
       "      <td>11.215730</td>\n",
       "      <td>11.941403</td>\n",
       "      <td>9.227620</td>\n",
       "      <td>11.393996</td>\n",
       "      <td>11.491781</td>\n",
       "    </tr>\n",
       "    <tr>\n",
       "      <th>TCGA.A6.2684_Tumor1</th>\n",
       "      <td>3.206278</td>\n",
       "      <td>1.121457</td>\n",
       "      <td>2.511636</td>\n",
       "      <td>5.901671</td>\n",
       "      <td>4.125926</td>\n",
       "      <td>5.550007</td>\n",
       "      <td>0.000000</td>\n",
       "      <td>7.138572</td>\n",
       "      <td>6.816194</td>\n",
       "      <td>0.000000</td>\n",
       "      <td>...</td>\n",
       "      <td>11.054336</td>\n",
       "      <td>9.616860</td>\n",
       "      <td>11.261972</td>\n",
       "      <td>5.813943</td>\n",
       "      <td>11.950234</td>\n",
       "      <td>7.319355</td>\n",
       "      <td>9.069057</td>\n",
       "      <td>3.800364</td>\n",
       "      <td>7.732133</td>\n",
       "      <td>8.527413</td>\n",
       "    </tr>\n",
       "    <tr>\n",
       "      <th>TCGA.AA.3655_Healthy</th>\n",
       "      <td>4.446107</td>\n",
       "      <td>8.773972</td>\n",
       "      <td>4.308667</td>\n",
       "      <td>2.310769</td>\n",
       "      <td>10.452634</td>\n",
       "      <td>10.314724</td>\n",
       "      <td>4.510210</td>\n",
       "      <td>8.280703</td>\n",
       "      <td>7.767462</td>\n",
       "      <td>4.074326</td>\n",
       "      <td>...</td>\n",
       "      <td>11.363796</td>\n",
       "      <td>13.159404</td>\n",
       "      <td>11.826820</td>\n",
       "      <td>12.049773</td>\n",
       "      <td>9.089351</td>\n",
       "      <td>11.307408</td>\n",
       "      <td>9.882385</td>\n",
       "      <td>9.046760</td>\n",
       "      <td>11.920838</td>\n",
       "      <td>11.320875</td>\n",
       "    </tr>\n",
       "  </tbody>\n",
       "</table>\n",
       "<p>10 rows × 29 columns</p>\n",
       "</div>"
      ],
      "text/plain": [
       "                        TREML2     PTPRN   PGLYRP1       NOG        VIP  \\\n",
       "TCGA.A6.5665_Tumor1   5.163865  7.045953  0.000000  2.481663  10.630085   \n",
       "TCGA.AA.3662_Healthy  4.494414  5.566627  1.409756  2.765371   8.883848   \n",
       "TCGA.A6.2684_Healthy  5.130507  8.512218  3.625649  4.259210  11.042827   \n",
       "TCGA.A6.5659_Tumor1   1.390835  4.106267  4.992032  3.805130   6.919465   \n",
       "TCGA.AA.3511_Healthy  3.017981  6.444461  1.472531  2.850558   8.858903   \n",
       "TCGA.AZ.6600_Healthy  3.977576  8.669881  3.160928  4.342888  12.103200   \n",
       "TCGA.A6.5667_Tumor    4.634540  5.527445  2.394234  1.829520   7.228764   \n",
       "TCGA.A6.2685_Tumor    4.916248  8.422069  3.640337  3.376315  12.151396   \n",
       "TCGA.A6.2684_Tumor1   3.206278  1.121457  2.511636  5.901671   4.125926   \n",
       "TCGA.AA.3655_Healthy  4.446107  8.773972  4.308667  2.310769  10.452634   \n",
       "\n",
       "                         RIMKLB    NKAIN4   FAM171B     ZNF417      GLRA2  \\\n",
       "TCGA.A6.5665_Tumor1    8.925217  3.970238  7.505138   7.438055   7.065840   \n",
       "TCGA.AA.3662_Healthy   7.230001  4.134978  6.968887   7.122600   7.329957   \n",
       "TCGA.A6.2684_Healthy   9.282183  4.077288  8.289738   7.466139   4.495193   \n",
       "TCGA.A6.5659_Tumor1    9.289066  1.390835  8.249686  11.917585  10.136038   \n",
       "TCGA.AA.3511_Healthy   8.409564  5.002881  8.382962   7.238352   4.877810   \n",
       "TCGA.AZ.6600_Healthy  10.055780  4.171764  8.539548   7.494323   6.288557   \n",
       "TCGA.A6.5667_Tumor     6.590308  4.584222  7.082368   7.953643   6.442794   \n",
       "TCGA.A6.2685_Tumor     9.643311  6.502569  8.667484   7.093277   5.550845   \n",
       "TCGA.A6.2684_Tumor1    5.550007  0.000000  7.138572   6.816194   0.000000   \n",
       "TCGA.AA.3655_Healthy  10.314724  4.510210  8.280703   7.767462   4.074326   \n",
       "\n",
       "                      ...       GLTP    METTL7A     CITED2     SCARA5  \\\n",
       "TCGA.A6.5665_Tumor1   ...  12.320419  13.399920  11.965595  11.574300   \n",
       "TCGA.AA.3662_Healthy  ...  11.079559  10.185072  10.063010   8.463916   \n",
       "TCGA.A6.2684_Healthy  ...  11.973354  13.375031  12.171185  12.763005   \n",
       "TCGA.A6.5659_Tumor1   ...  10.236458  10.887394  10.581628   7.474363   \n",
       "TCGA.AA.3511_Healthy  ...  10.939757  11.527948  10.070021   8.283735   \n",
       "TCGA.AZ.6600_Healthy  ...  11.844244  12.943214  11.804974  12.725764   \n",
       "TCGA.A6.5667_Tumor    ...  11.128845   9.393930  12.342774   7.161718   \n",
       "TCGA.A6.2685_Tumor    ...  11.899099  12.661834  11.813086  10.758106   \n",
       "TCGA.A6.2684_Tumor1   ...  11.054336   9.616860  11.261972   5.813943   \n",
       "TCGA.AA.3655_Healthy  ...  11.363796  13.159404  11.826820  12.049773   \n",
       "\n",
       "                           CDH3       IL6R       PKIB     GLP2R    EPB41L3  \\\n",
       "TCGA.A6.5665_Tumor1    5.235852  11.012812  12.250186  8.858374  11.055709   \n",
       "TCGA.AA.3662_Healthy  12.636749   9.847715   8.060350  5.980358   8.926231   \n",
       "TCGA.A6.2684_Healthy   5.176484  11.718993  12.312365  8.498709  12.099533   \n",
       "TCGA.A6.5659_Tumor1   10.411630   7.447798   7.262062  3.627154   8.804561   \n",
       "TCGA.AA.3511_Healthy  12.064537   9.143323   8.808388  4.787968   9.854585   \n",
       "TCGA.AZ.6600_Healthy   5.604791  11.635214  11.966696  8.736652  11.906556   \n",
       "TCGA.A6.5667_Tumor    12.650770   8.900208  10.341715  5.059747   8.982645   \n",
       "TCGA.A6.2685_Tumor     7.732441  11.215730  11.941403  9.227620  11.393996   \n",
       "TCGA.A6.2684_Tumor1   11.950234   7.319355   9.069057  3.800364   7.732133   \n",
       "TCGA.AA.3655_Healthy   9.089351  11.307408   9.882385  9.046760  11.920838   \n",
       "\n",
       "                          NR3C2  \n",
       "TCGA.A6.5665_Tumor1   11.847057  \n",
       "TCGA.AA.3662_Healthy   9.717484  \n",
       "TCGA.A6.2684_Healthy  12.006744  \n",
       "TCGA.A6.5659_Tumor1    9.454988  \n",
       "TCGA.AA.3511_Healthy   9.599585  \n",
       "TCGA.AZ.6600_Healthy  12.022857  \n",
       "TCGA.A6.5667_Tumor     8.871648  \n",
       "TCGA.A6.2685_Tumor    11.491781  \n",
       "TCGA.A6.2684_Tumor1    8.527413  \n",
       "TCGA.AA.3655_Healthy  11.320875  \n",
       "\n",
       "[10 rows x 29 columns]"
      ]
     },
     "execution_count": 5,
     "metadata": {},
     "output_type": "execute_result"
    }
   ],
   "source": [
    "df_gene_sig=df[['TREML2', 'PTPRN', 'PGLYRP1', 'NOG', 'VIP',\\\n",
    "    'RIMKLB', 'NKAIN4', 'FAM171B', 'ZNF417', 'GLRA2', 'HOXA7', 'FABP6', 'MUSK',\\\n",
    "    'HTR6', 'GRIP2', 'VEGFA', 'AKAP12', 'RHEB', 'PMEPA1','GLTP', 'METTL7A',\\\n",
    "    'CITED2', 'SCARA5', 'CDH3','IL6R', 'PKIB', 'GLP2R', 'EPB41L3', 'NR3C2']]\n",
    "\n",
    "# Genes not found from gene signature (possible naming issues)\n",
    "# PADI4, NCKIPSD C5orf53 TREML3 HES5 OR8D2 KLRK1 NCRNA00152 PPAP2A LINC00974\n",
    "\n",
    "df_gene_sig.head(10)"
   ]
  },
  {
   "cell_type": "markdown",
   "id": "db779d49",
   "metadata": {},
   "source": [
    "## Using DESeq2"
   ]
  },
  {
   "cell_type": "code",
   "execution_count": 6,
   "id": "f5ce6fc1",
   "metadata": {},
   "outputs": [
    {
     "name": "stdout",
     "output_type": "stream",
     "text": [
      "(267, 3)\n"
     ]
    },
    {
     "data": {
      "text/html": [
       "<div>\n",
       "<style scoped>\n",
       "    .dataframe tbody tr th:only-of-type {\n",
       "        vertical-align: middle;\n",
       "    }\n",
       "\n",
       "    .dataframe tbody tr th {\n",
       "        vertical-align: top;\n",
       "    }\n",
       "\n",
       "    .dataframe thead th {\n",
       "        text-align: right;\n",
       "    }\n",
       "</style>\n",
       "<table border=\"1\" class=\"dataframe\">\n",
       "  <thead>\n",
       "    <tr style=\"text-align: right;\">\n",
       "      <th></th>\n",
       "      <th>RNU4-2</th>\n",
       "      <th>SNORA73B</th>\n",
       "      <th>RNU4-1</th>\n",
       "      <th>RNY3</th>\n",
       "      <th>SNORA12</th>\n",
       "      <th>SNORA53</th>\n",
       "      <th>SNORD15B</th>\n",
       "      <th>RNU1-11P</th>\n",
       "      <th>SNORA23</th>\n",
       "      <th>SNORA22</th>\n",
       "      <th>...</th>\n",
       "      <th>LRRN3</th>\n",
       "      <th>SLC5A3</th>\n",
       "      <th>CHORDC1_2093</th>\n",
       "      <th>PLAG1</th>\n",
       "      <th>ZNF451</th>\n",
       "      <th>LYPLA1</th>\n",
       "      <th>ALG10</th>\n",
       "      <th>PABIR3</th>\n",
       "      <th>GUSBP1</th>\n",
       "      <th>SLC10A1</th>\n",
       "    </tr>\n",
       "  </thead>\n",
       "  <tbody>\n",
       "    <tr>\n",
       "      <th>TCGA.A6.5665_Tumor1</th>\n",
       "      <td>0.000000</td>\n",
       "      <td>2.700992</td>\n",
       "      <td>1.502923</td>\n",
       "      <td>0.000000</td>\n",
       "      <td>0.000000</td>\n",
       "      <td>1.907370</td>\n",
       "      <td>0.938912</td>\n",
       "      <td>0.000000</td>\n",
       "      <td>0.000000</td>\n",
       "      <td>0.000000</td>\n",
       "      <td>...</td>\n",
       "      <td>6.590610</td>\n",
       "      <td>9.931882</td>\n",
       "      <td>9.158420</td>\n",
       "      <td>6.446350</td>\n",
       "      <td>10.139671</td>\n",
       "      <td>12.274157</td>\n",
       "      <td>6.830370</td>\n",
       "      <td>6.617808</td>\n",
       "      <td>8.383275</td>\n",
       "      <td>3.470914</td>\n",
       "    </tr>\n",
       "    <tr>\n",
       "      <th>TCGA.AA.3662_Healthy</th>\n",
       "      <td>1.409756</td>\n",
       "      <td>4.546490</td>\n",
       "      <td>0.000000</td>\n",
       "      <td>0.000000</td>\n",
       "      <td>1.409756</td>\n",
       "      <td>2.108974</td>\n",
       "      <td>2.765371</td>\n",
       "      <td>0.000000</td>\n",
       "      <td>1.409756</td>\n",
       "      <td>1.409756</td>\n",
       "      <td>...</td>\n",
       "      <td>3.557041</td>\n",
       "      <td>10.914748</td>\n",
       "      <td>9.852894</td>\n",
       "      <td>5.591628</td>\n",
       "      <td>10.295708</td>\n",
       "      <td>12.017719</td>\n",
       "      <td>6.708154</td>\n",
       "      <td>6.239579</td>\n",
       "      <td>7.581547</td>\n",
       "      <td>1.801317</td>\n",
       "    </tr>\n",
       "    <tr>\n",
       "      <th>TCGA.A6.2684_Healthy</th>\n",
       "      <td>1.093779</td>\n",
       "      <td>2.964573</td>\n",
       "      <td>0.000000</td>\n",
       "      <td>0.000000</td>\n",
       "      <td>1.708694</td>\n",
       "      <td>1.708694</td>\n",
       "      <td>0.000000</td>\n",
       "      <td>0.000000</td>\n",
       "      <td>0.000000</td>\n",
       "      <td>2.138477</td>\n",
       "      <td>...</td>\n",
       "      <td>7.213951</td>\n",
       "      <td>10.397222</td>\n",
       "      <td>9.747661</td>\n",
       "      <td>6.501623</td>\n",
       "      <td>9.949821</td>\n",
       "      <td>11.371584</td>\n",
       "      <td>6.622811</td>\n",
       "      <td>6.446398</td>\n",
       "      <td>6.483449</td>\n",
       "      <td>2.964573</td>\n",
       "    </tr>\n",
       "    <tr>\n",
       "      <th>TCGA.A6.5659_Tumor1</th>\n",
       "      <td>15.782877</td>\n",
       "      <td>12.947932</td>\n",
       "      <td>13.669877</td>\n",
       "      <td>8.729353</td>\n",
       "      <td>10.411630</td>\n",
       "      <td>11.636606</td>\n",
       "      <td>10.674774</td>\n",
       "      <td>11.299458</td>\n",
       "      <td>10.778350</td>\n",
       "      <td>11.328872</td>\n",
       "      <td>...</td>\n",
       "      <td>12.092301</td>\n",
       "      <td>13.950209</td>\n",
       "      <td>13.261148</td>\n",
       "      <td>9.557940</td>\n",
       "      <td>13.321837</td>\n",
       "      <td>12.757258</td>\n",
       "      <td>10.569358</td>\n",
       "      <td>9.471567</td>\n",
       "      <td>9.567225</td>\n",
       "      <td>7.636052</td>\n",
       "    </tr>\n",
       "    <tr>\n",
       "      <th>TCGA.AA.3511_Healthy</th>\n",
       "      <td>1.872878</td>\n",
       "      <td>3.303842</td>\n",
       "      <td>0.000000</td>\n",
       "      <td>0.000000</td>\n",
       "      <td>0.000000</td>\n",
       "      <td>1.872878</td>\n",
       "      <td>2.442999</td>\n",
       "      <td>0.000000</td>\n",
       "      <td>0.000000</td>\n",
       "      <td>0.916508</td>\n",
       "      <td>...</td>\n",
       "      <td>6.059141</td>\n",
       "      <td>9.745448</td>\n",
       "      <td>10.195440</td>\n",
       "      <td>7.570208</td>\n",
       "      <td>10.066443</td>\n",
       "      <td>11.846131</td>\n",
       "      <td>7.304647</td>\n",
       "      <td>6.968734</td>\n",
       "      <td>7.168865</td>\n",
       "      <td>1.872878</td>\n",
       "    </tr>\n",
       "  </tbody>\n",
       "</table>\n",
       "<p>5 rows × 267 columns</p>\n",
       "</div>"
      ],
      "text/plain": [
       "                         RNU4-2   SNORA73B     RNU4-1      RNY3    SNORA12  \\\n",
       "TCGA.A6.5665_Tumor1    0.000000   2.700992   1.502923  0.000000   0.000000   \n",
       "TCGA.AA.3662_Healthy   1.409756   4.546490   0.000000  0.000000   1.409756   \n",
       "TCGA.A6.2684_Healthy   1.093779   2.964573   0.000000  0.000000   1.708694   \n",
       "TCGA.A6.5659_Tumor1   15.782877  12.947932  13.669877  8.729353  10.411630   \n",
       "TCGA.AA.3511_Healthy   1.872878   3.303842   0.000000  0.000000   0.000000   \n",
       "\n",
       "                        SNORA53   SNORD15B   RNU1-11P    SNORA23    SNORA22  \\\n",
       "TCGA.A6.5665_Tumor1    1.907370   0.938912   0.000000   0.000000   0.000000   \n",
       "TCGA.AA.3662_Healthy   2.108974   2.765371   0.000000   1.409756   1.409756   \n",
       "TCGA.A6.2684_Healthy   1.708694   0.000000   0.000000   0.000000   2.138477   \n",
       "TCGA.A6.5659_Tumor1   11.636606  10.674774  11.299458  10.778350  11.328872   \n",
       "TCGA.AA.3511_Healthy   1.872878   2.442999   0.000000   0.000000   0.916508   \n",
       "\n",
       "                      ...      LRRN3     SLC5A3  CHORDC1_2093     PLAG1  \\\n",
       "TCGA.A6.5665_Tumor1   ...   6.590610   9.931882      9.158420  6.446350   \n",
       "TCGA.AA.3662_Healthy  ...   3.557041  10.914748      9.852894  5.591628   \n",
       "TCGA.A6.2684_Healthy  ...   7.213951  10.397222      9.747661  6.501623   \n",
       "TCGA.A6.5659_Tumor1   ...  12.092301  13.950209     13.261148  9.557940   \n",
       "TCGA.AA.3511_Healthy  ...   6.059141   9.745448     10.195440  7.570208   \n",
       "\n",
       "                         ZNF451     LYPLA1      ALG10    PABIR3    GUSBP1  \\\n",
       "TCGA.A6.5665_Tumor1   10.139671  12.274157   6.830370  6.617808  8.383275   \n",
       "TCGA.AA.3662_Healthy  10.295708  12.017719   6.708154  6.239579  7.581547   \n",
       "TCGA.A6.2684_Healthy   9.949821  11.371584   6.622811  6.446398  6.483449   \n",
       "TCGA.A6.5659_Tumor1   13.321837  12.757258  10.569358  9.471567  9.567225   \n",
       "TCGA.AA.3511_Healthy  10.066443  11.846131   7.304647  6.968734  7.168865   \n",
       "\n",
       "                       SLC10A1  \n",
       "TCGA.A6.5665_Tumor1   3.470914  \n",
       "TCGA.AA.3662_Healthy  1.801317  \n",
       "TCGA.A6.2684_Healthy  2.964573  \n",
       "TCGA.A6.5659_Tumor1   7.636052  \n",
       "TCGA.AA.3511_Healthy  1.872878  \n",
       "\n",
       "[5 rows x 267 columns]"
      ]
     },
     "execution_count": 6,
     "metadata": {},
     "output_type": "execute_result"
    }
   ],
   "source": [
    "df_deseq=pd.read_csv('top_genes.csv') # load\n",
    "df_deseq.drop(labels=['baseMean','lfcSE','stat','pvalue'],axis=1,inplace=True)\n",
    "df_deseq.rename(columns={'Unnamed: 0':'genes'},inplace=True)\n",
    "#num_gens=100;\n",
    "#df_deseq=df_deseq[:num_gens].copy()\n",
    "print(np.shape(df_deseq))\n",
    "df_deseq.head()\n",
    "\n",
    "\n",
    "df_SEQ=df[df_deseq['genes'].to_list()]\n",
    "df_SEQ.head()"
   ]
  },
  {
   "cell_type": "markdown",
   "id": "a54d8c3c",
   "metadata": {},
   "source": [
    "# Filtering Data - not yet implemented "
   ]
  },
  {
   "cell_type": "code",
   "execution_count": 7,
   "id": "c69e4495",
   "metadata": {},
   "outputs": [
    {
     "name": "stdout",
     "output_type": "stream",
     "text": [
      "Removed 80 genes. These genes did not meet 10 sample mininum. \n",
      "We have 187 genes left \n"
     ]
    },
    {
     "data": {
      "text/html": [
       "<div>\n",
       "<style scoped>\n",
       "    .dataframe tbody tr th:only-of-type {\n",
       "        vertical-align: middle;\n",
       "    }\n",
       "\n",
       "    .dataframe tbody tr th {\n",
       "        vertical-align: top;\n",
       "    }\n",
       "\n",
       "    .dataframe thead th {\n",
       "        text-align: right;\n",
       "    }\n",
       "</style>\n",
       "<table border=\"1\" class=\"dataframe\">\n",
       "  <thead>\n",
       "    <tr style=\"text-align: right;\">\n",
       "      <th></th>\n",
       "      <th>SNORA73B</th>\n",
       "      <th>SNORA53</th>\n",
       "      <th>SNORD15B</th>\n",
       "      <th>ZNF460</th>\n",
       "      <th>SNORD94</th>\n",
       "      <th>ZBTB20</th>\n",
       "      <th>H4C3</th>\n",
       "      <th>RN7SKP80</th>\n",
       "      <th>SNORA14B</th>\n",
       "      <th>SNORA5A</th>\n",
       "      <th>...</th>\n",
       "      <th>LRRN3</th>\n",
       "      <th>SLC5A3</th>\n",
       "      <th>CHORDC1_2093</th>\n",
       "      <th>PLAG1</th>\n",
       "      <th>ZNF451</th>\n",
       "      <th>LYPLA1</th>\n",
       "      <th>ALG10</th>\n",
       "      <th>PABIR3</th>\n",
       "      <th>GUSBP1</th>\n",
       "      <th>SLC10A1</th>\n",
       "    </tr>\n",
       "  </thead>\n",
       "  <tbody>\n",
       "    <tr>\n",
       "      <th>TCGA.A6.5665_Tumor1</th>\n",
       "      <td>1.308601</td>\n",
       "      <td>1.067249</td>\n",
       "      <td>0.662127</td>\n",
       "      <td>1.806336</td>\n",
       "      <td>1.067249</td>\n",
       "      <td>1.675314</td>\n",
       "      <td>0.917459</td>\n",
       "      <td>0.917459</td>\n",
       "      <td>0.662127</td>\n",
       "      <td>1.170283</td>\n",
       "      <td>...</td>\n",
       "      <td>2.026912</td>\n",
       "      <td>2.391684</td>\n",
       "      <td>2.318303</td>\n",
       "      <td>2.007724</td>\n",
       "      <td>2.410513</td>\n",
       "      <td>2.585819</td>\n",
       "      <td>2.058010</td>\n",
       "      <td>2.030489</td>\n",
       "      <td>2.238929</td>\n",
       "      <td>1.497593</td>\n",
       "    </tr>\n",
       "    <tr>\n",
       "      <th>TCGA.AA.3662_Healthy</th>\n",
       "      <td>1.713165</td>\n",
       "      <td>1.134293</td>\n",
       "      <td>1.325846</td>\n",
       "      <td>1.703732</td>\n",
       "      <td>1.493296</td>\n",
       "      <td>1.693851</td>\n",
       "      <td>0.626275</td>\n",
       "      <td>1.212659</td>\n",
       "      <td>1.030090</td>\n",
       "      <td>1.493296</td>\n",
       "      <td>...</td>\n",
       "      <td>1.516674</td>\n",
       "      <td>2.477777</td>\n",
       "      <td>2.384432</td>\n",
       "      <td>1.885800</td>\n",
       "      <td>2.424423</td>\n",
       "      <td>2.566311</td>\n",
       "      <td>2.042279</td>\n",
       "      <td>1.979563</td>\n",
       "      <td>2.149614</td>\n",
       "      <td>1.030090</td>\n",
       "    </tr>\n",
       "    <tr>\n",
       "      <th>TCGA.A6.2684_Healthy</th>\n",
       "      <td>1.377398</td>\n",
       "      <td>0.996466</td>\n",
       "      <td>0.000000</td>\n",
       "      <td>1.841537</td>\n",
       "      <td>0.738971</td>\n",
       "      <td>1.761101</td>\n",
       "      <td>0.738971</td>\n",
       "      <td>1.558668</td>\n",
       "      <td>0.738971</td>\n",
       "      <td>0.738971</td>\n",
       "      <td>...</td>\n",
       "      <td>2.105834</td>\n",
       "      <td>2.433370</td>\n",
       "      <td>2.374688</td>\n",
       "      <td>2.015119</td>\n",
       "      <td>2.393323</td>\n",
       "      <td>2.515402</td>\n",
       "      <td>2.031145</td>\n",
       "      <td>2.007730</td>\n",
       "      <td>2.012694</td>\n",
       "      <td>1.377398</td>\n",
       "    </tr>\n",
       "    <tr>\n",
       "      <th>TCGA.A6.5659_Tumor1</th>\n",
       "      <td>2.635331</td>\n",
       "      <td>2.536598</td>\n",
       "      <td>2.457430</td>\n",
       "      <td>2.562808</td>\n",
       "      <td>2.358340</td>\n",
       "      <td>2.579550</td>\n",
       "      <td>2.332528</td>\n",
       "      <td>2.342198</td>\n",
       "      <td>2.311417</td>\n",
       "      <td>2.303956</td>\n",
       "      <td>...</td>\n",
       "      <td>2.572024</td>\n",
       "      <td>2.704725</td>\n",
       "      <td>2.657539</td>\n",
       "      <td>2.356878</td>\n",
       "      <td>2.661785</td>\n",
       "      <td>2.621567</td>\n",
       "      <td>2.448360</td>\n",
       "      <td>2.348664</td>\n",
       "      <td>2.357757</td>\n",
       "      <td>2.155946</td>\n",
       "    </tr>\n",
       "    <tr>\n",
       "      <th>TCGA.AA.3511_Healthy</th>\n",
       "      <td>1.459508</td>\n",
       "      <td>1.055314</td>\n",
       "      <td>1.236343</td>\n",
       "      <td>1.700929</td>\n",
       "      <td>1.348218</td>\n",
       "      <td>1.739089</td>\n",
       "      <td>0.650505</td>\n",
       "      <td>1.297770</td>\n",
       "      <td>0.650505</td>\n",
       "      <td>0.650505</td>\n",
       "      <td>...</td>\n",
       "      <td>1.954323</td>\n",
       "      <td>2.374482</td>\n",
       "      <td>2.415507</td>\n",
       "      <td>2.148292</td>\n",
       "      <td>2.403917</td>\n",
       "      <td>2.553043</td>\n",
       "      <td>2.116815</td>\n",
       "      <td>2.075526</td>\n",
       "      <td>2.100330</td>\n",
       "      <td>1.055314</td>\n",
       "    </tr>\n",
       "  </tbody>\n",
       "</table>\n",
       "<p>5 rows × 187 columns</p>\n",
       "</div>"
      ],
      "text/plain": [
       "                      SNORA73B   SNORA53  SNORD15B    ZNF460   SNORD94  \\\n",
       "TCGA.A6.5665_Tumor1   1.308601  1.067249  0.662127  1.806336  1.067249   \n",
       "TCGA.AA.3662_Healthy  1.713165  1.134293  1.325846  1.703732  1.493296   \n",
       "TCGA.A6.2684_Healthy  1.377398  0.996466  0.000000  1.841537  0.738971   \n",
       "TCGA.A6.5659_Tumor1   2.635331  2.536598  2.457430  2.562808  2.358340   \n",
       "TCGA.AA.3511_Healthy  1.459508  1.055314  1.236343  1.700929  1.348218   \n",
       "\n",
       "                        ZBTB20      H4C3  RN7SKP80  SNORA14B   SNORA5A  ...  \\\n",
       "TCGA.A6.5665_Tumor1   1.675314  0.917459  0.917459  0.662127  1.170283  ...   \n",
       "TCGA.AA.3662_Healthy  1.693851  0.626275  1.212659  1.030090  1.493296  ...   \n",
       "TCGA.A6.2684_Healthy  1.761101  0.738971  1.558668  0.738971  0.738971  ...   \n",
       "TCGA.A6.5659_Tumor1   2.579550  2.332528  2.342198  2.311417  2.303956  ...   \n",
       "TCGA.AA.3511_Healthy  1.739089  0.650505  1.297770  0.650505  0.650505  ...   \n",
       "\n",
       "                         LRRN3    SLC5A3  CHORDC1_2093     PLAG1    ZNF451  \\\n",
       "TCGA.A6.5665_Tumor1   2.026912  2.391684      2.318303  2.007724  2.410513   \n",
       "TCGA.AA.3662_Healthy  1.516674  2.477777      2.384432  1.885800  2.424423   \n",
       "TCGA.A6.2684_Healthy  2.105834  2.433370      2.374688  2.015119  2.393323   \n",
       "TCGA.A6.5659_Tumor1   2.572024  2.704725      2.657539  2.356878  2.661785   \n",
       "TCGA.AA.3511_Healthy  1.954323  2.374482      2.415507  2.148292  2.403917   \n",
       "\n",
       "                        LYPLA1     ALG10    PABIR3    GUSBP1   SLC10A1  \n",
       "TCGA.A6.5665_Tumor1   2.585819  2.058010  2.030489  2.238929  1.497593  \n",
       "TCGA.AA.3662_Healthy  2.566311  2.042279  1.979563  2.149614  1.030090  \n",
       "TCGA.A6.2684_Healthy  2.515402  2.031145  2.007730  2.012694  1.377398  \n",
       "TCGA.A6.5659_Tumor1   2.621567  2.448360  2.348664  2.357757  2.155946  \n",
       "TCGA.AA.3511_Healthy  2.553043  2.116815  2.075526  2.100330  1.055314  \n",
       "\n",
       "[5 rows x 187 columns]"
      ]
     },
     "execution_count": 7,
     "metadata": {},
     "output_type": "execute_result"
    }
   ],
   "source": [
    "count=0; # keep track of how many genese removed\n",
    "test=df_SEQ.copy()\n",
    "thresh=10 # min number of samples needed\n",
    "for col in test.columns.to_list():\n",
    "    n_zeros=test[col].isin([0]).sum()\n",
    "    \n",
    "    if n_zeros >= thresh:\n",
    "        count+=1\n",
    "        test.drop([col],axis=1,inplace=True)\n",
    "\n",
    "print(\"Removed %d genes. These genes did not meet 10 sample mininum. \\nWe have %d genes left \\\n",
    "\"%(count,len(test.columns.to_list())))\n",
    "df_log=pd.DataFrame()\n",
    "for col in test.columns.to_list():\n",
    "    test[col] = test[col].apply(lambda x: np.log(x+1))\n",
    "test.head()"
   ]
  },
  {
   "cell_type": "markdown",
   "id": "bb15f565",
   "metadata": {},
   "source": [
    "## Getting Random genes"
   ]
  },
  {
   "cell_type": "code",
   "execution_count": 8,
   "id": "e5ac1a2e",
   "metadata": {},
   "outputs": [],
   "source": [
    "num_genes=100\n",
    "genes=df.columns.to_list()\n",
    "# generate random genes\n",
    "random.seed(32)\n",
    "n = random.sample(range(0, len(genes)), num_genes)\n",
    "rand_genes=[genes[i] for i in n]\n",
    "# subset dataset\n",
    "rand_df=df[rand_genes].copy()"
   ]
  },
  {
   "cell_type": "markdown",
   "id": "distributed-static",
   "metadata": {},
   "source": [
    "## Extract Tissue sample from columns (healthy or tumor)\n",
    "and then stick that into a panda series (single column dataframe). This is out \"Y\" while the df1 which contains all the genes is our \"X\".\n",
    "\n",
    "We can do this since the \"X\" and \"y\" align via index. \n",
    "\n",
    "E.g 3rd row in df1 (TCGA.A6.2684_Healthy) has target  of \"healthy\" in Y!"
   ]
  },
  {
   "cell_type": "code",
   "execution_count": 9,
   "id": "temporal-january",
   "metadata": {},
   "outputs": [],
   "source": [
    "# Create Target vector\n",
    "target=[]\n",
    "sample_names=[]\n",
    "\n",
    "# loop through and extract tumor + healthy\n",
    "for i in samples:\n",
    "    \n",
    "    temp=i.split('_')[1] # Split string using \"_\"\n",
    "    #remove numbers at end (if they have it)\n",
    "    if temp[-1].isnumeric():\n",
    "        temp=temp[:-1]\n",
    "    \n",
    "    target.append(temp)# save tissues type to list (in order)\n",
    "\n",
    "        \n",
    "# Convert to Panda Series\n",
    "target=pd.Series(target,name='Tissue')"
   ]
  },
  {
   "cell_type": "code",
   "execution_count": 10,
   "id": "visible-sunglasses",
   "metadata": {},
   "outputs": [],
   "source": [
    "# Convert to binary tumor=(1) + healthy=(0)\n",
    "target_binary=[]\n",
    "for i in target:\n",
    "    if i=='Healthy':\n",
    "        target_binary.append(0)\n",
    "    else:\n",
    "        target_binary.append(1)\n",
    "        \n",
    "# Convert to Panda Series\n",
    "target_binary=pd.Series(target_binary)"
   ]
  },
  {
   "cell_type": "code",
   "execution_count": 11,
   "id": "exposed-department",
   "metadata": {},
   "outputs": [],
   "source": [
    "# create colors labels for PCA\n",
    "colors=[]\n",
    "for i in target_binary:\n",
    "    if i ==1:\n",
    "        colors.append('red')\n",
    "    else:\n",
    "        colors.append('blue')\n",
    "    "
   ]
  },
  {
   "cell_type": "markdown",
   "id": "superb-brand",
   "metadata": {},
   "source": [
    "# Visualize Data"
   ]
  },
  {
   "cell_type": "code",
   "execution_count": 12,
   "id": "superior-brick",
   "metadata": {},
   "outputs": [
    {
     "data": {
      "text/plain": [
       "<matplotlib.legend.Legend at 0x7f84188e3fd0>"
      ]
     },
     "execution_count": 12,
     "metadata": {},
     "output_type": "execute_result"
    },
    {
     "data": {
      "image/png": "[encoded data removed]",
      "text/plain": [
       "<Figure size 396x324 with 1 Axes>"
      ]
     },
     "metadata": {
      "needs_background": "light"
     },
     "output_type": "display_data"
    }
   ],
   "source": [
    "# Generate Colors + numbers\n",
    "fig =plt.figure(figsize=(5.5,4.5))\n",
    "num_list=range(0,54)\n",
    "\n",
    "# PCA \n",
    "pca = PCA(n_components=2)\n",
    "X_r = pca.fit(df).transform(df)\n",
    "# Plot\n",
    "\n",
    "for color, i, target_name in zip(colors, num_list, samples):\n",
    "    plt.scatter(X_r[i,0], X_r[i,1], color=color, alpha=.8, lw=2,\n",
    "                label=target_name)\n",
    "    \n",
    "\n",
    "plt.title('PCA Using All Genes (n=21,085)', fontsize=18, fontweight='black', color = '#333F4B')\n",
    "plt.axvline(x=0,linestyle='--',c='k')\n",
    "plt.axhline(y=0,linestyle='--',c='k')\n",
    "plt.tick_params(axis='y', which='major', labelsize=14)\n",
    "plt.tick_params(axis='x', which='major', labelsize=14)\n",
    "plt.grid(True)\n",
    "plt.xlabel('Component 1', fontsize=14, fontweight='black', color = '#333F4B')\n",
    "plt.ylabel('Component 2', fontsize=14, fontweight='black', color = '#333F4B')\n",
    "\n",
    "# Adding legend\n",
    "\n",
    "legend_elements = [ Line2D([0], [0], marker='o', color='w', label='Healthy', markerfacecolor='b', markersize=12),\\\n",
    "                   Line2D([0], [0], marker='o', color='w', label='Tumor', markerfacecolor='r', markersize=12)]\n",
    "plt.legend(handles=legend_elements,loc='best')\n"
   ]
  },
  {
   "cell_type": "code",
   "execution_count": 13,
   "id": "incorrect-enforcement",
   "metadata": {},
   "outputs": [
    {
     "data": {
      "text/plain": [
       "<matplotlib.legend.Legend at 0x7f841cc9fc70>"
      ]
     },
     "execution_count": 13,
     "metadata": {},
     "output_type": "execute_result"
    },
    {
     "data": {
      "image/png": "[encoded data removed]",
      "text/plain": [
       "<Figure size 396x324 with 1 Axes>"
      ]
     },
     "metadata": {
      "needs_background": "light"
     },
     "output_type": "display_data"
    }
   ],
   "source": [
    "# Generate Colors + numbers\n",
    "num_list=range(0,54)\n",
    "fig =plt.figure(figsize=(5.5,4.5))\n",
    "# PCA \n",
    "pca = PCA(n_components=2)\n",
    "X_r = pca.fit(df_gene_sig).transform(df_gene_sig)\n",
    "# Plot\n",
    "\n",
    "for color, i, target_name in zip(colors, num_list, samples):\n",
    "    plt.scatter(X_r[i,0], X_r[i,1], color=color, alpha=.8, lw=2,\n",
    "                label=target_name)\n",
    "    \n",
    "    \n",
    "plt.title('PCA Using Gene Signature (n=29)', fontsize=18, fontweight='black', color = '#333F4B')\n",
    "plt.axvline(x=0,linestyle='--',c='k')\n",
    "plt.axhline(y=0,linestyle='--',c='k')\n",
    "plt.tick_params(axis='y', which='major', labelsize=14)\n",
    "plt.tick_params(axis='x', which='major', labelsize=14)\n",
    "plt.grid(True)\n",
    "plt.xlabel('Component 1', fontsize=14, fontweight='black', color = '#333F4B')\n",
    "plt.ylabel('Component 2', fontsize=14, fontweight='black', color = '#333F4B')\n",
    "\n",
    "# Adding legend\n",
    "\n",
    "legend_elements = [ Line2D([0], [0], marker='o', color='w', label='Healthy', markerfacecolor='b', markersize=12),\\\n",
    "                   Line2D([0], [0], marker='o', color='w', label='Tumor', markerfacecolor='r', markersize=12)]\n",
    "plt.legend(handles=legend_elements,loc='best')"
   ]
  },
  {
   "cell_type": "code",
   "execution_count": 14,
   "id": "a7618515",
   "metadata": {},
   "outputs": [
    {
     "data": {
      "text/plain": [
       "<matplotlib.legend.Legend at 0x7f851429f9d0>"
      ]
     },
     "execution_count": 14,
     "metadata": {},
     "output_type": "execute_result"
    },
    {
     "data": {
      "image/png": "[encoded data removed]",
      "text/plain": [
       "<Figure size 396x324 with 1 Axes>"
      ]
     },
     "metadata": {
      "needs_background": "light"
     },
     "output_type": "display_data"
    }
   ],
   "source": [
    "# Generate Colors + numbers\n",
    "num_list=range(0,54)\n",
    "fig =plt.figure(figsize=(5.5,4.5))\n",
    "# PCA \n",
    "pca = PCA(n_components=2)\n",
    "X_r = pca.fit(df_SEQ).transform(df_SEQ)\n",
    "# Plot\n",
    "\n",
    "for color, i, target_name in zip(colors, num_list, samples):\n",
    "    plt.scatter(X_r[i,0], X_r[i,1], color=color, alpha=.8, lw=2,\n",
    "                label=target_name)\n",
    "    \n",
    "    \n",
    "plt.title('PCA Using DESeq2 (n=100)', fontsize=18, fontweight='black', color = '#333F4B')\n",
    "plt.axvline(x=0,linestyle='--',c='k')\n",
    "plt.axhline(y=0,linestyle='--',c='k')\n",
    "plt.tick_params(axis='y', which='major', labelsize=14)\n",
    "plt.tick_params(axis='x', which='major', labelsize=14)\n",
    "plt.grid(True)\n",
    "plt.xlabel('Component 1', fontsize=14, fontweight='black', color = '#333F4B')\n",
    "plt.ylabel('Component 2', fontsize=14, fontweight='black', color = '#333F4B')\n",
    "\n",
    "# Adding legend\n",
    "\n",
    "legend_elements = [ Line2D([0], [0], marker='o', color='w', label='Healthy', markerfacecolor='b', markersize=12),\\\n",
    "                   Line2D([0], [0], marker='o', color='w', label='Tumor', markerfacecolor='r', markersize=12)]\n",
    "plt.legend(handles=legend_elements,loc='best')\n"
   ]
  },
  {
   "cell_type": "markdown",
   "id": "verified-sterling",
   "metadata": {},
   "source": [
    "## Split Data - K Folds Cross Validation"
   ]
  },
  {
   "cell_type": "code",
   "execution_count": 16,
   "id": "informational-style",
   "metadata": {},
   "outputs": [
    {
     "name": "stdout",
     "output_type": "stream",
     "text": [
      "(55, 21083)\n",
      "(55,)\n",
      "(55, 29)\n"
     ]
    }
   ],
   "source": [
    "print(np.shape(df))\n",
    "print(np.shape(target_binary))\n",
    "print(np.shape(df_gene_sig))"
   ]
  },
  {
   "cell_type": "markdown",
   "id": "fde4a277",
   "metadata": {},
   "source": [
    "# Machine Learning"
   ]
  },
  {
   "cell_type": "markdown",
   "id": "86ee1c33",
   "metadata": {},
   "source": [
    "## SVM"
   ]
  },
  {
   "cell_type": "markdown",
   "id": "7d9233a1",
   "metadata": {},
   "source": [
    "### Create Model"
   ]
  },
  {
   "cell_type": "code",
   "execution_count": 17,
   "id": "883a82b3",
   "metadata": {},
   "outputs": [],
   "source": [
    "#GET PCA of Gene Sig\n",
    "pca = PCA(n_components=2)\n",
    "Xreduced = pca.fit_transform(df_gene_sig)\n",
    "#pca_cov = pd.DataFrame({\"Gene\": genes,\"PC1_Covariance\":abs(pca.components_[0]),\"PC2_Covariance\":abs(pca.components_[1]) })\n",
    "\n",
    "# Split Data\n",
    "x_train, x_test, y_train, y_test = train_test_split(Xreduced, target_binary, test_size=15,shuffle=True, random_state=12)\n",
    "clf_gs = svm.NuSVC(gamma='auto')"
   ]
  },
  {
   "cell_type": "code",
   "execution_count": 18,
   "id": "89f05c8d",
   "metadata": {},
   "outputs": [
    {
     "data": {
      "text/plain": [
       "(55, 2)"
      ]
     },
     "execution_count": 18,
     "metadata": {},
     "output_type": "execute_result"
    }
   ],
   "source": [
    "np.shape(Xreduced)"
   ]
  },
  {
   "cell_type": "markdown",
   "id": "8dc8ef57",
   "metadata": {},
   "source": [
    "### Train Model - Gene Signature - SVM"
   ]
  },
  {
   "cell_type": "code",
   "execution_count": 19,
   "id": "04af248f",
   "metadata": {},
   "outputs": [
    {
     "name": "stdout",
     "output_type": "stream",
     "text": [
      "0.87\n"
     ]
    }
   ],
   "source": [
    "# Fit model\n",
    "clf_gs.fit(x_train, y_train)\n",
    "\n",
    "# Get results of TRAIN data\n",
    "results = clf_gs.predict(x_train)\n",
    "\n",
    "# Generate ROC Curve\n",
    "fpr_train_gs_svm, tpr_train_gs_svm, thresholds_rf = roc_curve(y_train, results)\n",
    "\n",
    "# Calculate AUC (Area under the ROC Curve )\n",
    "auc_k_train_gs_svm = round(auc(fpr_train_gs_svm, tpr_train_gs_svm),2)\n",
    "print(auc_k_train_gs_svm)"
   ]
  },
  {
   "cell_type": "markdown",
   "id": "03bffc71",
   "metadata": {},
   "source": [
    "### Test Model - Gene Signature - SVM"
   ]
  },
  {
   "cell_type": "code",
   "execution_count": 20,
   "id": "a07922b4",
   "metadata": {},
   "outputs": [
    {
     "name": "stdout",
     "output_type": "stream",
     "text": [
      "AUC: 0.7500\n"
     ]
    }
   ],
   "source": [
    "# run it foward - to predict using TEST\n",
    "results=clf_gs.predict(x_test)\n",
    "\n",
    "# Generate ROC Curve \n",
    "fpr_test_gs_svm, tpr_test_gs_svm, thresholds_rf = roc_curve(y_test, results)\n",
    "\n",
    "# Calculate AUC (Area under the ROC Curve )\n",
    "test_auc_gs_svm = round(auc(fpr_test_gs_svm, tpr_test_gs_svm),2)\n",
    "\n",
    "# show results FOR TEST + Overall Train\n",
    "print('AUC: %.4f'%(test_auc_gs_svm))"
   ]
  },
  {
   "cell_type": "markdown",
   "id": "9f9f464e",
   "metadata": {},
   "source": [
    "### Decison Boundary"
   ]
  },
  {
   "cell_type": "code",
   "execution_count": 21,
   "id": "d72a82c6",
   "metadata": {},
   "outputs": [
    {
     "name": "stderr",
     "output_type": "stream",
     "text": [
      "No handles with labels found to put in legend.\n"
     ]
    },
    {
     "data": {
      "image/png": "[encoded data removed]",
      "text/plain": [
       "<Figure size 432x288 with 1 Axes>"
      ]
     },
     "metadata": {},
     "output_type": "display_data"
    }
   ],
   "source": [
    "# Plot \n",
    "fig, ax = plt.subplots()\n",
    "\n",
    "# Set-up grid for plotting.\n",
    "X0, X1 = x_test[:, 0], x_test[:, 1]\n",
    "xx, yy = make_meshgrid(X0, X1)\n",
    "\n",
    "plot_contours(ax, clf_gs, xx, yy, cmap=plt.cm.coolwarm, alpha=0.8)\n",
    "ax.scatter(X0, X1, c=y_test, cmap=plt.cm.coolwarm, s=20, edgecolors='k')\n",
    "\n",
    "# Plot Labels\n",
    "ax.set_ylabel('PC2')\n",
    "ax.set_xlabel('PC1')\n",
    "title = ('Decision surface of linear SVC - Tetsing')\n",
    "\n",
    "# Plot Sizing\n",
    "ax.set_xticks(())\n",
    "ax.set_yticks(())\n",
    "ax.set_title('Decison surface using the PCA transformed/projected features - Tetsing')\n",
    "ax.legend()\n",
    "plt.show()"
   ]
  },
  {
   "cell_type": "code",
   "execution_count": 22,
   "id": "aeab54f2",
   "metadata": {},
   "outputs": [
    {
     "name": "stderr",
     "output_type": "stream",
     "text": [
      "No handles with labels found to put in legend.\n"
     ]
    },
    {
     "data": {
      "image/png": "[encoded data removed]",
      "text/plain": [
       "<Figure size 432x288 with 1 Axes>"
      ]
     },
     "metadata": {},
     "output_type": "display_data"
    }
   ],
   "source": [
    "# Plot \n",
    "fig, ax = plt.subplots()\n",
    "\n",
    "# Set-up grid for plotting.\n",
    "X0, X1 = x_train[:, 0], x_train[:, 1]\n",
    "xx, yy = make_meshgrid(X0, X1)\n",
    "\n",
    "plot_contours(ax, clf_gs, xx, yy, cmap=plt.cm.coolwarm, alpha=0.8)\n",
    "ax.scatter(X0, X1, c=y_train, cmap=plt.cm.coolwarm, s=20, edgecolors='k')\n",
    "\n",
    "# Plot Labels\n",
    "ax.set_ylabel('PC2')\n",
    "ax.set_xlabel('PC1')\n",
    "\n",
    "# Plot Sizing\n",
    "ax.set_xticks(())\n",
    "ax.set_yticks(())\n",
    "ax.set_title('Decison surface using the PCA transformed/projected features - Training')\n",
    "ax.legend()\n",
    "plt.show()"
   ]
  },
  {
   "cell_type": "code",
   "execution_count": 23,
   "id": "d90b5fb1",
   "metadata": {},
   "outputs": [
    {
     "name": "stderr",
     "output_type": "stream",
     "text": [
      "No handles with labels found to put in legend.\n"
     ]
    },
    {
     "data": {
      "image/png": "[encoded data removed]",
      "text/plain": [
       "<Figure size 432x288 with 1 Axes>"
      ]
     },
     "metadata": {},
     "output_type": "display_data"
    }
   ],
   "source": [
    "# Plot \n",
    "fig, ax = plt.subplots()\n",
    "\n",
    "# Set-up grid for plotting.\n",
    "X0, X1 = Xreduced[:, 0], Xreduced[:, 1]\n",
    "xx, yy = make_meshgrid(X0, X1)\n",
    "\n",
    "plot_contours(ax, clf_gs, xx, yy, cmap=plt.cm.coolwarm, alpha=0.8)\n",
    "ax.scatter(X0, X1, c=target_binary, cmap=plt.cm.coolwarm, s=20, edgecolors='k')\n",
    "\n",
    "# Plot Labels\n",
    "ax.set_ylabel('PC2')\n",
    "ax.set_xlabel('PC1')\n",
    "\n",
    "# Plot Sizing\n",
    "ax.set_xticks(())\n",
    "ax.set_yticks(())\n",
    "ax.set_title('Decison surface using the PCA transformed/projected features - All')\n",
    "ax.legend()\n",
    "plt.show()"
   ]
  },
  {
   "cell_type": "markdown",
   "id": "cfafde8f",
   "metadata": {},
   "source": [
    "### Create Model - DESeq2 - SVM"
   ]
  },
  {
   "cell_type": "code",
   "execution_count": 24,
   "id": "9ae9f282",
   "metadata": {},
   "outputs": [],
   "source": [
    "#GET PCA of Gene Sig\n",
    "pca = PCA(n_components=2)\n",
    "Xreduced = pca.fit_transform(df_SEQ)\n",
    "#pca_cov = pd.DataFrame({\"Gene\": genes,\"PC1_Covariance\":abs(pca.components_[0]),\"PC2_Covariance\":abs(pca.components_[1]) })\n",
    "\n",
    "# Split Data\n",
    "x_train, x_test, y_train, y_test = train_test_split(Xreduced, target_binary, test_size=15,shuffle=True, random_state=12)\n",
    "clf_seq = svm.NuSVC(gamma='auto')\n"
   ]
  },
  {
   "cell_type": "markdown",
   "id": "2aef97f7",
   "metadata": {},
   "source": [
    "### Train Model - DESeq2 - SVM"
   ]
  },
  {
   "cell_type": "code",
   "execution_count": 25,
   "id": "b637581c",
   "metadata": {},
   "outputs": [
    {
     "name": "stdout",
     "output_type": "stream",
     "text": [
      "0.98\n"
     ]
    }
   ],
   "source": [
    "# Fit model\n",
    "clf_seq.fit(x_train, y_train)\n",
    "\n",
    "# Get results of TRAIN data\n",
    "results = clf_seq.predict(x_train)\n",
    "\n",
    "# Generate ROC Curve\n",
    "fpr_train_seq_svm, tpr_train_seq_svm, thresholds_rf = roc_curve(y_train, results)\n",
    "\n",
    "# Calculate AUC (Area under the ROC Curve )\n",
    "train_auc_seq_svm = round(auc(fpr_train_seq_svm, tpr_train_seq_svm),2)\n",
    "print(train_auc_seq_svm)"
   ]
  },
  {
   "cell_type": "markdown",
   "id": "e8bfc43e",
   "metadata": {},
   "source": [
    "### Test Model - DESeq2 - SVM"
   ]
  },
  {
   "cell_type": "code",
   "execution_count": 26,
   "id": "aac37eaf",
   "metadata": {},
   "outputs": [
    {
     "name": "stdout",
     "output_type": "stream",
     "text": [
      "AUC: 0.5000\n"
     ]
    }
   ],
   "source": [
    "# run it foward - to predict using TEST\n",
    "results=clf_seq.predict(x_test)\n",
    "\n",
    "# Generate ROC Curve \n",
    "fpr_test_seq_svm, tpr_test_seq_svm, thresholds_rf = roc_curve(y_test, results)\n",
    "\n",
    "# Calculate AUC (Area under the ROC Curve )\n",
    "test_auc_seq_svm = auc(fpr_test_seq_svm, tpr_test_seq_svm)\n",
    "\n",
    "# show results FOR TEST + Overall Train\n",
    "print('AUC: %.4f'%(test_auc_seq_svm))"
   ]
  },
  {
   "cell_type": "markdown",
   "id": "699b9a51",
   "metadata": {},
   "source": [
    "### Plotting Decision Boundary"
   ]
  },
  {
   "cell_type": "code",
   "execution_count": 27,
   "id": "d921e4b8",
   "metadata": {},
   "outputs": [
    {
     "name": "stderr",
     "output_type": "stream",
     "text": [
      "No handles with labels found to put in legend.\n"
     ]
    },
    {
     "data": {
      "image/png": "[encoded data removed]",
      "text/plain": [
       "<Figure size 432x288 with 1 Axes>"
      ]
     },
     "metadata": {},
     "output_type": "display_data"
    }
   ],
   "source": [
    "# Plot \n",
    "fig, ax = plt.subplots()\n",
    "\n",
    "# Set-up grid for plotting.\n",
    "X0, X1 = x_test[:, 0], x_test[:, 1]\n",
    "xx, yy = make_meshgrid(X0, X1)\n",
    "\n",
    "plot_contours(ax, clf_seq, xx, yy, cmap=plt.cm.coolwarm, alpha=0.8)\n",
    "ax.scatter(X0, X1, c=y_test, cmap=plt.cm.coolwarm, s=20, edgecolors='k')\n",
    "\n",
    "# Plot Labels\n",
    "ax.set_ylabel('PC2')\n",
    "ax.set_xlabel('PC1')\n",
    "title = ('Decision surface of linear SVC ')\n",
    "\n",
    "# Plot Sizing\n",
    "ax.set_xticks(())\n",
    "ax.set_yticks(())\n",
    "ax.set_title('Decison surface using the PCA transformed/projected features')\n",
    "ax.legend()\n",
    "plt.show()"
   ]
  },
  {
   "cell_type": "markdown",
   "id": "18cf1796",
   "metadata": {},
   "source": [
    "### Create Model - Random Genes - SVM"
   ]
  },
  {
   "cell_type": "code",
   "execution_count": 28,
   "id": "aba5c0c5",
   "metadata": {},
   "outputs": [],
   "source": [
    "#GET PCA of Gene Sig\n",
    "pca = PCA(n_components=2)\n",
    "Xreduced = pca.fit_transform(rand_df)\n",
    "#pca_cov = pd.DataFrame({\"Gene\": genes,\"PC1_Covariance\":abs(pca.components_[0]),\"PC2_Covariance\":abs(pca.components_[1]) })\n",
    "\n",
    "# Split Data\n",
    "x_train, x_test, y_train, y_test = train_test_split(Xreduced, target_binary, test_size=15,shuffle=True, random_state=12)\n",
    "clf_rand = svm.NuSVC(gamma='auto')"
   ]
  },
  {
   "cell_type": "markdown",
   "id": "ab66bf40",
   "metadata": {},
   "source": [
    "### Train Model - Random Genes - SVM"
   ]
  },
  {
   "cell_type": "code",
   "execution_count": 29,
   "id": "7edea73a",
   "metadata": {},
   "outputs": [
    {
     "name": "stdout",
     "output_type": "stream",
     "text": [
      "0.98\n"
     ]
    }
   ],
   "source": [
    "# Fit model\n",
    "clf_rand.fit(x_train, y_train)\n",
    "\n",
    "# Get results of TRAIN data\n",
    "results = clf_rand.predict(x_train)\n",
    "\n",
    "# Generate ROC Curve\n",
    "fpr_train_rand_svm, tpr_train_rand_svm, thresholds_rf = roc_curve(y_train, results)\n",
    "\n",
    "# Calculate AUC (Area under the ROC Curve )\n",
    "train_auc_rand_svm = round(auc(fpr_train_rand_svm, tpr_train_rand_svm),2)\n",
    "print(train_auc_rand_svm)"
   ]
  },
  {
   "cell_type": "markdown",
   "id": "c66adc3e",
   "metadata": {},
   "source": [
    "### Test Model - Random Genes - SVM"
   ]
  },
  {
   "cell_type": "code",
   "execution_count": 30,
   "id": "37f9c065",
   "metadata": {},
   "outputs": [
    {
     "name": "stdout",
     "output_type": "stream",
     "text": [
      "AUC: 0.6000\n"
     ]
    }
   ],
   "source": [
    "# run it foward - to predict using TEST\n",
    "results=clf_rand.predict(x_test)\n",
    "\n",
    "# Generate ROC Curve \n",
    "fpr_test_rand_svm, tpr_test_rand_svm, thresholds_rf = roc_curve(y_test, results)\n",
    "\n",
    "# Calculate AUC (Area under the ROC Curve )\n",
    "test_auc_rand_svm = round(auc(fpr_test_rand_svm, tpr_test_rand_svm),2)\n",
    "\n",
    "# show results FOR TEST + Overall Train\n",
    "print('AUC: %.4f'%(test_auc_rand_svm))"
   ]
  },
  {
   "cell_type": "markdown",
   "id": "73f43f9a",
   "metadata": {},
   "source": [
    "### Decision Boundary"
   ]
  },
  {
   "cell_type": "code",
   "execution_count": 31,
   "id": "121b28b3",
   "metadata": {},
   "outputs": [
    {
     "name": "stderr",
     "output_type": "stream",
     "text": [
      "No handles with labels found to put in legend.\n"
     ]
    },
    {
     "data": {
      "image/png": "[encoded data removed]",
      "text/plain": [
       "<Figure size 432x288 with 1 Axes>"
      ]
     },
     "metadata": {},
     "output_type": "display_data"
    }
   ],
   "source": [
    "# Plot \n",
    "fig, ax = plt.subplots()\n",
    "\n",
    "# Set-up grid for plotting.\n",
    "X0, X1 = x_test[:, 0], x_test[:, 1]\n",
    "xx, yy = make_meshgrid(X0, X1)\n",
    "\n",
    "plot_contours(ax, clf_rand, xx, yy, cmap=plt.cm.coolwarm, alpha=0.8)\n",
    "ax.scatter(X0, X1, c=y_test, cmap=plt.cm.coolwarm, s=20, edgecolors='k')\n",
    "\n",
    "# Plot Labels\n",
    "ax.set_ylabel('PC2')\n",
    "ax.set_xlabel('PC1')\n",
    "title = ('Decision surface of linear SVC ')\n",
    "\n",
    "# Plot Sizing\n",
    "ax.set_xticks(())\n",
    "ax.set_yticks(())\n",
    "ax.set_title('Decison surface using the PCA transformed/projected features')\n",
    "ax.legend()\n",
    "plt.show()"
   ]
  },
  {
   "cell_type": "markdown",
   "id": "d1e632fa",
   "metadata": {},
   "source": [
    "### Combined Plot - SVM"
   ]
  },
  {
   "cell_type": "code",
   "execution_count": 34,
   "id": "345a0ab7",
   "metadata": {},
   "outputs": [],
   "source": [
    "# Stats for std plotting\n",
    "# Calculate Stats of Training\n",
    "# Gene sig\n",
    "tprs_gs_svm = np.array(tpr_train_gs_svm)\n",
    "mean_tprs_gs_svm = tprs_gs_svm.mean(axis=0)\n",
    "std_gs_svm = tprs_gs_svm.std(axis=0)\n",
    "\n",
    "# deseq\n",
    "tprs_seq_scm = np.array(tpr_train_seq_svm)\n",
    "mean_seq_svm = tprs_seq_scm.mean(axis=0)\n",
    "std_seq_svm = tprs_seq_scm.std(axis=0)\n",
    "\n",
    "# random\n",
    "tprs_rand_svm = np.array(tpr_train_rand_svm)\n",
    "mean_rand_svm = tprs_rand_svm.mean(axis=0)\n",
    "std_rand_svm = tprs_rand_svm.std(axis=0)\n",
    "\n",
    "# Create First and last point (0,0;1,1) - each dataset\n",
    "tprs_upper_gs_svm = np.minimum(mean_tprs_gs_svm + std_gs_svm, 1)\n",
    "tprs_lower_gs_svm = mean_tprs_gs_svm - std_gs_svm\n",
    "\n",
    "tprs_upper_deseq_svm = np.minimum(mean_seq_svm + std_seq_svm, 1)\n",
    "tprs_lower_deseq_svm = mean_seq_svm - std_seq_svm\n",
    "\n",
    "tprs_upper_rand_svm = np.minimum(mean_rand_svm + std_rand_svm, 1)\n",
    "tprs_lower_rand_svm = mean_rand_svm - std_rand_svm"
   ]
  },
  {
   "cell_type": "code",
   "execution_count": null,
   "id": "454fce0a",
   "metadata": {},
   "outputs": [],
   "source": [
    "# Combine into single plot\n",
    "fig =plt.figure(figsize=(8,7))\n",
    "\n",
    "# Plot Gene Sig\n",
    "test_label='Test - Gene Sig (AUC= '+str(round(test_auc_gs,2))+')'\n",
    "plt.plot(fpr_gs, tpr_gs,'b', label=test_label,linewidth=2.5)\n",
    "train_label='Train - Gene Sig (AUC= '+str(round(sum(aucs_gene_sig)/4,2))+')'\n",
    "plt.plot(base_fpr, mean_tprs_gs, '--b',label=train_label,linewidth=1)\n",
    "#plt.fill_between(base_fpr, tprs_lower_gs, tprs_upper_gs, color='grey', alpha=0.3,label='STD 1')\n",
    "\n",
    "\n",
    "# Plot DESEQ\n",
    "test_label='Test - DESeq2 (AUC= '+str(round(test_auc_deseq,2))+')'\n",
    "plt.plot(fpr_deseq, tpr_deseq,'r', label=test_label,linewidth=2.5)\n",
    "train_label='Train - DESeq2 (AUC= '+str(round(sum(aucs_deseq)/4,2))+')'\n",
    "plt.plot(base_fpr, mean_deseq, '--r',label=train_label,linewidth=1)\n",
    "#plt.fill_between(base_fpr, tprs_lower_deseq, tprs_upper_deseq, color='grey', alpha=0.3,label='STD 1')\n",
    "\n",
    "# Plot Random\n",
    "test_label='Test - Random Genes (AUC= '+str(round(test_auc_rand,2))+')'\n",
    "plt.plot(fpr_rand, tpr_rand,'g', label=test_label,linewidth=2.5)\n",
    "train_label='Train - Random Genes (AUC= '+str(round(sum(aucs_rand)/4,2))+')'\n",
    "plt.plot(base_fpr, mean_rand, '--g',label=train_label,linewidth=1)\n",
    "#plt.fill_between(base_fpr, tprs_lower_rand, tprs_upper_rand, color='grey', alpha=0.3,label='STD 1')\n",
    "\n",
    "\n",
    "# Labels and Plot settings\n",
    "plt.plot([0, 1], [0, 1],'-.k',label='Random Guess',linewidth=1.75)\n",
    "plt.ylabel('True Positive Rate',fontsize=18)\n",
    "plt.xlabel('False Positive Rate',fontsize=18)\n",
    "plt.title('Deep Learning Models ROC Curves',fontsize=20)\n",
    "plt.legend(title='Legend', bbox_to_anchor=(1, 1), loc='upper left',fontsize=14)\n",
    "plt.rcParams['legend.title_fontsize'] = 'large'\n",
    "plt.xticks(fontsize=14)\n",
    "plt.yticks(fontsize=14)\n",
    "plt.show()"
   ]
  },
  {
   "cell_type": "markdown",
   "id": "881cc09d",
   "metadata": {},
   "source": [
    "## Random Forest"
   ]
  },
  {
   "cell_type": "markdown",
   "id": "c7e335f4",
   "metadata": {},
   "source": [
    "### Create Model"
   ]
  },
  {
   "cell_type": "code",
   "execution_count": 23,
   "id": "6edc643e",
   "metadata": {},
   "outputs": [],
   "source": [
    "x_train, x_test, y_train, y_test = train_test_split(df_gene_sig, target_binary, test_size=15,shuffle=True, random_state=12)\n",
    "\n",
    "# Initialize random forest mode\n",
    "rfc_gs = RandomForestClassifier()"
   ]
  },
  {
   "cell_type": "markdown",
   "id": "00eb6285",
   "metadata": {},
   "source": [
    "### Train Model - Gene Signature - RF"
   ]
  },
  {
   "cell_type": "code",
   "execution_count": 24,
   "id": "1ee0aada",
   "metadata": {},
   "outputs": [
    {
     "name": "stdout",
     "output_type": "stream",
     "text": [
      "1.0\n"
     ]
    }
   ],
   "source": [
    "# Fit model\n",
    "rfc_gs.fit(x_train, y_train)\n",
    "\n",
    "# Get results of TRAIN data\n",
    "results = rfc_gs.predict(x_train)\n",
    "\n",
    "# Create Confusion matrix using prediction + truth \n",
    "cm=confusion_matrix(y_train, results)\n",
    "\n",
    "# Generate ROC Curve\n",
    "fpr_kera, tpr_kera, thresholds_rf = roc_curve(y_train, results)\n",
    "\n",
    "# Calculate AUC (Area under the ROC Curve )\n",
    "auc_k = auc(fpr_kera, tpr_kera)\n",
    "print(auc_k)"
   ]
  },
  {
   "cell_type": "markdown",
   "id": "d95ac3c1",
   "metadata": {},
   "source": [
    "### Test Model - Gene Signature - RF"
   ]
  },
  {
   "cell_type": "code",
   "execution_count": 25,
   "id": "eaafa33f",
   "metadata": {},
   "outputs": [
    {
     "name": "stdout",
     "output_type": "stream",
     "text": [
      "AUC: 0.7000\n"
     ]
    }
   ],
   "source": [
    "# run it foward - to predict using TEST\n",
    "results=rfc_gs.predict(x_test)\n",
    "\n",
    "# Generate ROC Curve \n",
    "fpr_gs, tpr_gs, thresholds_rf = roc_curve(y_test, results)\n",
    "\n",
    "# Calculate AUC (Area under the ROC Curve )\n",
    "test_auc_gs = auc(fpr_gs, tpr_gs)\n",
    "\n",
    "# show results FOR TEST + Overall Train\n",
    "print('AUC: %.4f'%(test_auc_gs))"
   ]
  },
  {
   "cell_type": "markdown",
   "id": "f5e56fca",
   "metadata": {},
   "source": [
    "### Create Model"
   ]
  },
  {
   "cell_type": "code",
   "execution_count": 27,
   "id": "0775747f",
   "metadata": {},
   "outputs": [],
   "source": [
    "x_train, x_test, y_train, y_test = train_test_split(df_SEQ, target_binary, test_size=15,shuffle=True, random_state=12)\n",
    "\n",
    "# Initialize random forest mode\n",
    "rfc_seq = RandomForestClassifier()"
   ]
  },
  {
   "cell_type": "markdown",
   "id": "389b39d5",
   "metadata": {},
   "source": [
    "### Train Model - DESeq2 - RF"
   ]
  },
  {
   "cell_type": "code",
   "execution_count": 28,
   "id": "5d2e6a60",
   "metadata": {},
   "outputs": [
    {
     "name": "stdout",
     "output_type": "stream",
     "text": [
      "1.0\n"
     ]
    }
   ],
   "source": [
    "# Fit model\n",
    "rfc_seq.fit(x_train, y_train)\n",
    "\n",
    "# Get results of TRAIN data\n",
    "results = rfc_seq.predict(x_train)\n",
    "\n",
    "# Create Confusion matrix using prediction + truth \n",
    "cm=confusion_matrix(y_train, results)\n",
    "\n",
    "# Generate ROC Curve\n",
    "fpr_kera, tpr_kera, thresholds_rf = roc_curve(y_train, results)\n",
    "\n",
    "# Calculate AUC (Area under the ROC Curve )\n",
    "auc_k = auc(fpr_kera, tpr_kera)\n",
    "print(auc_k)"
   ]
  },
  {
   "cell_type": "markdown",
   "id": "17db70ec",
   "metadata": {},
   "source": [
    "### Test Model - DESeq2 - RF"
   ]
  },
  {
   "cell_type": "code",
   "execution_count": 30,
   "id": "3076ae3a",
   "metadata": {},
   "outputs": [
    {
     "name": "stdout",
     "output_type": "stream",
     "text": [
      "AUC: 0.8500\n"
     ]
    }
   ],
   "source": [
    "# run it foward - to predict using TEST\n",
    "results=rfc_seq.predict(x_test)\n",
    "\n",
    "# Generate ROC Curve \n",
    "fpr_gs, tpr_gs, thresholds_rf = roc_curve(y_test, results)\n",
    "\n",
    "# Calculate AUC (Area under the ROC Curve )\n",
    "test_auc_gs = auc(fpr_gs, tpr_gs)\n",
    "\n",
    "# show results FOR TEST + Overall Train\n",
    "print('AUC: %.4f'%(test_auc_gs))"
   ]
  },
  {
   "cell_type": "markdown",
   "id": "db3e9269",
   "metadata": {},
   "source": [
    "### Create Model - Random - RF"
   ]
  },
  {
   "cell_type": "code",
   "execution_count": 33,
   "id": "0ff3a9ba",
   "metadata": {},
   "outputs": [],
   "source": [
    "x_train, x_test, y_train, y_test = train_test_split(rand_df, target_binary, test_size=15,shuffle=True, random_state=12)\n",
    "\n",
    "# Initialize random forest mode\n",
    "rfc_rand = RandomForestClassifier()"
   ]
  },
  {
   "cell_type": "markdown",
   "id": "9c192f98",
   "metadata": {},
   "source": [
    "### Train Model - Random Genes - RF"
   ]
  },
  {
   "cell_type": "code",
   "execution_count": 34,
   "id": "a3676737",
   "metadata": {},
   "outputs": [
    {
     "name": "stdout",
     "output_type": "stream",
     "text": [
      "1.0\n"
     ]
    }
   ],
   "source": [
    "# Fit model\n",
    "rfc_rand.fit(x_train, y_train)\n",
    "\n",
    "# Get results of TRAIN data\n",
    "results = rfc_rand.predict(x_train)\n",
    "\n",
    "# Create Confusion matrix using prediction + truth \n",
    "cm=confusion_matrix(y_train, results)\n",
    "\n",
    "# Generate ROC Curve\n",
    "fpr_kera, tpr_kera, thresholds_rf = roc_curve(y_train, results)\n",
    "\n",
    "# Calculate AUC (Area under the ROC Curve )\n",
    "auc_k = auc(fpr_kera, tpr_kera)\n",
    "print(auc_k)\n"
   ]
  },
  {
   "cell_type": "markdown",
   "id": "c134f284",
   "metadata": {},
   "source": [
    "### Test Model - Random Genes - RF"
   ]
  },
  {
   "cell_type": "code",
   "execution_count": 35,
   "id": "830e5f2a",
   "metadata": {},
   "outputs": [
    {
     "name": "stdout",
     "output_type": "stream",
     "text": [
      "AUC: 0.5500\n"
     ]
    }
   ],
   "source": [
    "# run it foward - to predict using TEST\n",
    "results=rfc_rand.predict(x_test)\n",
    "\n",
    "# Generate ROC Curve \n",
    "fpr_gs, tpr_gs, thresholds_rf = roc_curve(y_test, results)\n",
    "\n",
    "# Calculate AUC (Area under the ROC Curve )\n",
    "test_auc_gs = auc(fpr_gs, tpr_gs)\n",
    "\n",
    "# show results FOR TEST + Overall Train\n",
    "print('AUC: %.4f'%(test_auc_gs))"
   ]
  },
  {
   "cell_type": "markdown",
   "id": "ddcbf698",
   "metadata": {},
   "source": [
    "### Combined Plot - Random Forest"
   ]
  },
  {
   "cell_type": "code",
   "execution_count": null,
   "id": "df23cfbb",
   "metadata": {},
   "outputs": [],
   "source": []
  },
  {
   "cell_type": "markdown",
   "id": "warming-watts",
   "metadata": {},
   "source": [
    "## Deep Learning"
   ]
  },
  {
   "cell_type": "markdown",
   "id": "7386514d",
   "metadata": {},
   "source": [
    "#### Create  Model"
   ]
  },
  {
   "cell_type": "code",
   "execution_count": 36,
   "id": "expired-guatemala",
   "metadata": {},
   "outputs": [],
   "source": [
    "# Creating Model\n",
    "\n",
    "# create model for small gene set\n",
    "def baseline_model():\n",
    "  # create model\n",
    "    model = Sequential()\n",
    "    model.add(Dense(16, input_dim=29, activation='relu'))\n",
    "    #model.add(Dropout(0.2))\n",
    "    model.add(Dense(16, activation='relu'))\n",
    "    model.add(Dense(1, activation='sigmoid'))\n",
    "    # Compile model\n",
    "    model.compile(loss='binary_crossentropy', optimizer='Nadam', metrics=['accuracy'])\n",
    "    return model"
   ]
  },
  {
   "cell_type": "markdown",
   "id": "a170e7dd",
   "metadata": {},
   "source": [
    "### Train Model - Gene Signature - DL"
   ]
  },
  {
   "cell_type": "code",
   "execution_count": null,
   "id": "55247d8e",
   "metadata": {},
   "outputs": [],
   "source": [
    "# Re-split Data - this doesn't chnage rows but since we're using more genes we need to re-split to capture\n",
    "\n",
    "# Split Into Training and Test Data\n",
    "x_train, x_test, y_train, y_test = train_test_split(df_gene_sig, target_binary, test_size=15,shuffle=True, random_state=12)\n",
    "kf = KFold(n_splits = 4)                      \n",
    "skf = StratifiedKFold(n_splits = 4, random_state = 12, shuffle = True) # Generates indicies\n"
   ]
  },
  {
   "cell_type": "code",
   "execution_count": null,
   "id": "eb38de3a",
   "metadata": {},
   "outputs": [],
   "source": [
    "# Train\n",
    "\n",
    "# Intialize Model\n",
    "estimator = KerasClassifier(build_fn=baseline_model, epochs=125, batch_size=2, verbose=0)\n",
    "\n",
    "# Intialize counter + Total Accuarcy\n",
    "c=1\n",
    "tprs_gs = []\n",
    "aucs_gs = []\n",
    "# For interplotting to smooth curve\n",
    "base_fpr = np.linspace(0, 1, 201)\n",
    "\n",
    "# Loop through 4 - K folds and train model \n",
    "for train_index, test_index in skf.split(x_train, y_train):\n",
    "    print('\\nFold Number: %d'%(c))\n",
    "    \n",
    "    # Get nth fold data (from before where we print out index)\n",
    "    X=x_train.iloc[train_index]\n",
    "    Y=y_train.iloc[train_index]\n",
    "    \n",
    "    # Train model using fold data\n",
    "    estimator.fit(X, Y)\n",
    "    \n",
    "    # Get results of TRAIN data\n",
    "    results=estimator.predict(x_train)\n",
    "    \n",
    "    # Create Confusion matrix using prediction + truth \n",
    "    cm=confusion_matrix(y_train, results)\n",
    "    \n",
    "    # Generate ROC Curve\n",
    "    fpr_kera, tpr_kera, thresholds_rf = roc_curve(y_train, results)\n",
    "    \n",
    "    # Calculate AUC (Area under the ROC Curve )\n",
    "    auc_k = auc(fpr_kera, tpr_kera)\n",
    "    \n",
    "    # Generate label for this fold's line in plot\n",
    "    lab='Fold#:'+str(c)\n",
    "    # Plot ROC line for this fild\n",
    "    #plt.plot(fpr_kera, tpr_kera, label=lab)\n",
    "    \n",
    "    # save values\n",
    "    acc_temp=round((cm[1,1]+cm[0,0])/45,4)\n",
    "    tpr = np.interp(base_fpr, fpr_kera, tpr_kera)\n",
    "    tpr[0] = 0.0\n",
    "    tprs_gs.append(tpr)\n",
    "    aucs_gs.append(auc_k)\n",
    "    \n",
    "    # Uncomment to see results per fold\n",
    "    print('AUC: %.4f'%(auc_k))\n",
    "\n",
    "    \n",
    "    # Iterate fold num\n",
    "    c+=1"
   ]
  },
  {
   "cell_type": "markdown",
   "id": "7453f4e0",
   "metadata": {},
   "source": [
    "### Test Model - Gene Signature -DL"
   ]
  },
  {
   "cell_type": "code",
   "execution_count": 38,
   "id": "39deb1e3",
   "metadata": {},
   "outputs": [
    {
     "name": "stdout",
     "output_type": "stream",
     "text": [
      "AUC: 0.5000\n"
     ]
    }
   ],
   "source": [
    "# Test Set - now that we've trained, we can now use test set to\n",
    "\n",
    "# run it foward - to predict using TEST\n",
    "results=estimator.predict(x_test)\n",
    "\n",
    "# Create Confusion matrix using prediction + truth \n",
    "cm=confusion_matrix(y_test, results)\n",
    "\n",
    "# Generate ROC Curve \n",
    "fpr_gs, tpr_gs, thresholds_rf = roc_curve(y_test, results)\n",
    "\n",
    "# Calculate AUC (Area under the ROC Curve )\n",
    "test_auc_gs = auc(fpr_gs, tpr_gs)\n",
    "\n",
    "\n",
    "# show results FOR TEST + Overall Train\n",
    "print('AUC: %.4f'%(test_auc_gs))\n",
    "\n"
   ]
  },
  {
   "cell_type": "markdown",
   "id": "6142a8ea",
   "metadata": {},
   "source": [
    "### Train Model with DESEQ2 genes -DL"
   ]
  },
  {
   "cell_type": "code",
   "execution_count": 39,
   "id": "b129208c",
   "metadata": {},
   "outputs": [],
   "source": [
    "# Creating Model\n",
    "\n",
    "# create model for small gene set\n",
    "def baseline_model():\n",
    "  # create model\n",
    "    model = Sequential()\n",
    "    model.add(Dense(64, input_dim=267, activation='relu'))\n",
    "    model.add(Dropout(0.2))\n",
    "    model.add(Dense(32, activation='relu'))\n",
    "    model.add(Dense(1, activation='sigmoid'))\n",
    "    # Compile model\n",
    "    model.compile(loss='binary_crossentropy', optimizer='Nadam', metrics=['accuracy'])\n",
    "    return model"
   ]
  },
  {
   "cell_type": "code",
   "execution_count": 40,
   "id": "145f29d8",
   "metadata": {},
   "outputs": [],
   "source": [
    "# Re-split Data - this doesn't chnage rows but since we're using more genes we need to re-split to capture\n",
    "\n",
    "# Split Into Training and Test Data\n",
    "x_train, x_test, y_train, y_test = train_test_split(df_SEQ, target_binary, test_size=15,shuffle=True, random_state=12)\n",
    "kf = KFold(n_splits = 4)                      \n",
    "skf = StratifiedKFold(n_splits = 4, random_state = 12, shuffle = True) # Generates indicies\n"
   ]
  },
  {
   "cell_type": "code",
   "execution_count": 41,
   "id": "5a87a04e",
   "metadata": {},
   "outputs": [
    {
     "name": "stdout",
     "output_type": "stream",
     "text": [
      "\n",
      "Fold Number: 1\n",
      "AUC: 0.9286\n",
      "\n",
      "Fold Number: 2\n",
      "AUC: 1.0000\n",
      "\n",
      "Fold Number: 3\n",
      "AUC: 1.0000\n",
      "\n",
      "Fold Number: 4\n",
      "AUC: 1.0000\n"
     ]
    }
   ],
   "source": [
    "# Train\n",
    "\n",
    "# Intialize Model\n",
    "estimator = KerasClassifier(build_fn=baseline_model, epochs=125, batch_size=2, verbose=0)\n",
    "\n",
    "# Intialize counter + Total Accuarcy\n",
    "c=1\n",
    "tprs_deseq = []\n",
    "aucs_deseq = []\n",
    "# For interplotting to smooth curve\n",
    "base_fpr = np.linspace(0, 1, 201)\n",
    "\n",
    "# Loop through 4 - K folds and train model \n",
    "for train_index, test_index in skf.split(x_train, y_train):\n",
    "    print('\\nFold Number: %d'%(c))\n",
    "    \n",
    "    # Get nth fold data (from before where we print out index)\n",
    "    X=x_train.iloc[train_index]\n",
    "    Y=y_train.iloc[train_index]\n",
    "    \n",
    "    # Train model using fold data\n",
    "    estimator.fit(X, Y)\n",
    "    # Get results of TRAIN data\n",
    "    results=estimator.predict(x_train)\n",
    "    \n",
    "    # Create Confusion matrix using prediction + truth \n",
    "    cm=confusion_matrix(y_train, results)\n",
    "    \n",
    "    # Generate ROC Curve\n",
    "    fpr_kera, tpr_kera, thresholds_rf = roc_curve(y_train, results)\n",
    "    \n",
    "    # Calculate AUC (Area under the ROC Curve )\n",
    "    auc_k = auc(fpr_kera, tpr_kera)\n",
    "    \n",
    "    # Generate label for this fold's line in plot\n",
    "    lab='Fold#:'+str(c)\n",
    "    # Plot ROC line for this fild\n",
    "    #plt.plot(fpr_kera, tpr_kera, label=lab)\n",
    "    \n",
    "    # save values\n",
    "    acc_temp=round((cm[1,1]+cm[0,0])/45,4)\n",
    "    tpr = np.interp(base_fpr, fpr_kera, tpr_kera)\n",
    "    tpr[0] = 0.0\n",
    "    tprs_deseq.append(tpr)\n",
    "    aucs_deseq.append(auc_k)\n",
    "    \n",
    "    # Uncomment to see results per fold\n",
    "    print('AUC: %.4f'%(auc_k))\n",
    "\n",
    "    \n",
    "    # Iterate fold num\n",
    "    c+=1"
   ]
  },
  {
   "cell_type": "markdown",
   "id": "8e8da157",
   "metadata": {},
   "source": [
    "### Test Model with Deseq2 genes -DL"
   ]
  },
  {
   "cell_type": "code",
   "execution_count": 42,
   "id": "638ecbe1",
   "metadata": {},
   "outputs": [
    {
     "name": "stdout",
     "output_type": "stream",
     "text": [
      "AUC: 0.6000\n"
     ]
    }
   ],
   "source": [
    "# Test Set - now that we've trained, we can now use test set to\n",
    "\n",
    "# run it foward - to predict using TEST\n",
    "results=estimator.predict(x_test)\n",
    "\n",
    "# Create Confusion matrix using prediction + truth \n",
    "cm=confusion_matrix(y_test, results)\n",
    "\n",
    "# Generate ROC Curve \n",
    "fpr_deseq, tpr_deseq, thresholds_rf = roc_curve(y_test, results)\n",
    "\n",
    "# Calculate AUC (Area under the ROC Curve )\n",
    "test_auc_deseq = auc(fpr_deseq, tpr_deseq)\n",
    "\n",
    "# label for plot\n",
    "lab='Test'\n",
    "#plt.plot(fpr_kera, tpr_kera, label=lab)\n",
    "\n",
    "# Uncomment to print results\n",
    "print('AUC: %.4f'%(test_auc_deseq))\n"
   ]
  },
  {
   "cell_type": "markdown",
   "id": "d623b6a5",
   "metadata": {},
   "source": [
    "### Train Model with random genes - DL"
   ]
  },
  {
   "cell_type": "code",
   "execution_count": 43,
   "id": "3aa8e22c",
   "metadata": {},
   "outputs": [],
   "source": [
    "# Creating Model\n",
    "\n",
    "# create model for small gene set\n",
    "def baseline_model():\n",
    "  # create model\n",
    "    model = Sequential()\n",
    "    model.add(Dense(64, input_dim=100, activation='relu'))\n",
    "    model.add(Dropout(0.2))\n",
    "    model.add(Dense(32, activation='relu'))\n",
    "    model.add(Dense(1, activation='sigmoid'))\n",
    "    # Compile model\n",
    "    model.compile(loss='binary_crossentropy', optimizer='Nadam', metrics=['accuracy'])\n",
    "    return model"
   ]
  },
  {
   "cell_type": "code",
   "execution_count": 44,
   "id": "b6bd690c",
   "metadata": {},
   "outputs": [],
   "source": [
    "# Re-split Data - this doesn't chnage rows but since we're using more genes we need to re-split to capture\n",
    "\n",
    "# Split Into Training and Test Data\n",
    "x_train, x_test, y_train, y_test = train_test_split(rand_df, target_binary, test_size=15,shuffle=True, random_state=12)\n",
    "kf = KFold(n_splits = 4)                      \n",
    "skf = StratifiedKFold(n_splits = 4, random_state = 12, shuffle = True) # Generates indicies\n"
   ]
  },
  {
   "cell_type": "code",
   "execution_count": 45,
   "id": "f21623df",
   "metadata": {},
   "outputs": [
    {
     "name": "stdout",
     "output_type": "stream",
     "text": [
      "\n",
      "Fold Number: 1\n",
      "AUC: 0.8521\n",
      "\n",
      "Fold Number: 2\n",
      "AUC: 0.9474\n",
      "\n",
      "Fold Number: 3\n",
      "AUC: 0.8208\n",
      "\n",
      "Fold Number: 4\n",
      "AUC: 0.7945\n"
     ]
    }
   ],
   "source": [
    "# Train\n",
    "\n",
    "# Intialize Model\n",
    "estimator = KerasClassifier(build_fn=baseline_model, epochs=125, batch_size=2, verbose=0)\n",
    "\n",
    "# Intialize counter + Total Accuarcy\n",
    "c=1\n",
    "tprs_rand = []\n",
    "aucs_rand = []\n",
    "# For interplotting to smooth curve\n",
    "base_fpr = np.linspace(0, 1, 201)\n",
    "\n",
    "# Loop through 4 - K folds and train model \n",
    "for train_index, test_index in skf.split(x_train, y_train):\n",
    "    print('\\nFold Number: %d'%(c))\n",
    "    \n",
    "    # Get nth fold data (from before where we print out index)\n",
    "    X=x_train.iloc[train_index]\n",
    "    Y=y_train.iloc[train_index]\n",
    "    \n",
    "    # Train model using fold data\n",
    "    estimator.fit(X, Y)\n",
    "    # Get results of TRAIN data\n",
    "    results=estimator.predict(x_train)\n",
    "    \n",
    "    # Create Confusion matrix using prediction + truth \n",
    "    cm=confusion_matrix(y_train, results)\n",
    "    \n",
    "    # Generate ROC Curve\n",
    "    fpr_kera, tpr_kera, thresholds_rf = roc_curve(y_train, results)\n",
    "    \n",
    "    # Calculate AUC (Area under the ROC Curve )\n",
    "    auc_k = auc(fpr_kera, tpr_kera)\n",
    "    \n",
    "    # Generate label for this fold's line in plot\n",
    "    lab='Fold#:'+str(c)\n",
    "    # Plot ROC line for this fild\n",
    "    #plt.plot(fpr_kera, tpr_kera, label=lab)\n",
    "    \n",
    "    # save values\n",
    "    acc_temp=round((cm[1,1]+cm[0,0])/45,4)\n",
    "    tpr = np.interp(base_fpr, fpr_kera, tpr_kera)\n",
    "    tpr[0] = 0.0\n",
    "    tprs_rand.append(tpr)\n",
    "    aucs_rand.append(auc_k)\n",
    "    \n",
    "    # Uncomment to see results per fold\n",
    "    print('AUC: %.4f'%(auc_k))\n",
    "    \n",
    "    # Iterate fold num\n",
    "    c+=1\n"
   ]
  },
  {
   "cell_type": "markdown",
   "id": "e9ea886f",
   "metadata": {},
   "source": [
    "### Test Model with random genes"
   ]
  },
  {
   "cell_type": "code",
   "execution_count": 46,
   "id": "cc254707",
   "metadata": {},
   "outputs": [
    {
     "name": "stdout",
     "output_type": "stream",
     "text": [
      "AUC: 0.5500\n"
     ]
    }
   ],
   "source": [
    "# Test Set - now that we've trained, we can now use test set to\n",
    "\n",
    "# run it foward - to predict using TEST\n",
    "results=estimator.predict(x_test)\n",
    "\n",
    "# Create Confusion matrix using prediction + truth \n",
    "cm=confusion_matrix(y_test, results)\n",
    "\n",
    "# Generate ROC Curve \n",
    "fpr_rand, tpr_rand, thresholds_rf = roc_curve(y_test, results)\n",
    "\n",
    "# Calculate AUC (Area under the ROC Curve )\n",
    "test_auc_rand = auc(fpr_rand, tpr_rand)\n",
    "\n",
    "# label for plot\n",
    "lab='Test'\n",
    "#plt.plot(fpr_kera, tpr_kera, label=lab)\n",
    "\n",
    "# Uncomment to print results\n",
    "print('AUC: %.4f'%(test_auc_rand))\n",
    "\n"
   ]
  },
  {
   "cell_type": "markdown",
   "id": "92c244be",
   "metadata": {},
   "source": [
    "### Combine Results - DL"
   ]
  },
  {
   "cell_type": "code",
   "execution_count": 47,
   "id": "0bf5315e",
   "metadata": {},
   "outputs": [],
   "source": [
    "# Stats for std plotting\n",
    "# Calculate Stats of Training\n",
    "# Gene sig\n",
    "tprs_gene_sig = np.array(tprs_gene_sig)\n",
    "mean_tprs_gs = tprs_gene_sig.mean(axis=0)\n",
    "std_gs = tprs_gene_sig.std(axis=0)\n",
    "\n",
    "# deseq\n",
    "tprs_deseq = np.array(tprs_deseq)\n",
    "mean_deseq = tprs_deseq.mean(axis=0)\n",
    "std_deseq = tprs_deseq.std(axis=0)\n",
    "\n",
    "# random\n",
    "tprs_rand = np.array(tprs_rand)\n",
    "mean_rand = tprs_rand.mean(axis=0)\n",
    "std_rand = tprs_rand.std(axis=0)\n",
    "\n",
    "# Create First and last point (0,0;1,1) - each dataset\n",
    "tprs_upper_gs = np.minimum(mean_deseq + std_gs, 1)\n",
    "tprs_lower_gs = mean_tprs_gs - std_gs\n",
    "\n",
    "tprs_upper_deseq = np.minimum(mean_deseq + std_deseq, 1)\n",
    "tprs_lower_deseq = mean_deseq - std_deseq\n",
    "\n",
    "tprs_upper_rand = np.minimum(mean_rand + std_rand, 1)\n",
    "tprs_lower_rand = mean_rand - std_rand"
   ]
  },
  {
   "cell_type": "code",
   "execution_count": 48,
   "id": "b26c071b",
   "metadata": {},
   "outputs": [
    {
     "data": {
      "image/png": "[encoded data removed]",
      "text/plain": [
       "<Figure size 576x504 with 1 Axes>"
      ]
     },
     "metadata": {
      "needs_background": "light"
     },
     "output_type": "display_data"
    }
   ],
   "source": [
    "# Combine into single plot\n",
    "fig =plt.figure(figsize=(8,7))\n",
    "\n",
    "# Plot Gene Sig\n",
    "test_label='Test - Gene Sig (AUC= '+str(round(test_auc_gs,2))+')'\n",
    "plt.plot(fpr_gs, tpr_gs,'b', label=test_label,linewidth=2.5)\n",
    "train_label='Train - Gene Sig (AUC= '+str(round(sum(aucs_gene_sig)/4,2))+')'\n",
    "plt.plot(base_fpr, mean_tprs_gs, '--b',label=train_label,linewidth=1)\n",
    "#plt.fill_between(base_fpr, tprs_lower_gs, tprs_upper_gs, color='grey', alpha=0.3,label='STD 1')\n",
    "\n",
    "\n",
    "# Plot DESEQ\n",
    "test_label='Test - DESeq2 (AUC= '+str(round(test_auc_deseq,2))+')'\n",
    "plt.plot(fpr_deseq, tpr_deseq,'r', label=test_label,linewidth=2.5)\n",
    "train_label='Train - DESeq2 (AUC= '+str(round(sum(aucs_deseq)/4,2))+')'\n",
    "plt.plot(base_fpr, mean_deseq, '--r',label=train_label,linewidth=1)\n",
    "#plt.fill_between(base_fpr, tprs_lower_deseq, tprs_upper_deseq, color='grey', alpha=0.3,label='STD 1')\n",
    "\n",
    "# Plot Random\n",
    "test_label='Test - Random Genes (AUC= '+str(round(test_auc_rand,2))+')'\n",
    "plt.plot(fpr_rand, tpr_rand,'g', label=test_label,linewidth=2.5)\n",
    "train_label='Train - Random Genes (AUC= '+str(round(sum(aucs_rand)/4,2))+')'\n",
    "plt.plot(base_fpr, mean_rand, '--g',label=train_label,linewidth=1)\n",
    "#plt.fill_between(base_fpr, tprs_lower_rand, tprs_upper_rand, color='grey', alpha=0.3,label='STD 1')\n",
    "\n",
    "\n",
    "# Labels and Plot settings\n",
    "plt.plot([0, 1], [0, 1],'-.k',label='Random Guess',linewidth=1.75)\n",
    "plt.ylabel('True Positive Rate',fontsize=18)\n",
    "plt.xlabel('False Positive Rate',fontsize=18)\n",
    "plt.title('Deep Learning Models ROC Curves',fontsize=20)\n",
    "plt.legend(title='Legend', bbox_to_anchor=(1, 1), loc='upper left',fontsize=14)\n",
    "plt.rcParams['legend.title_fontsize'] = 'large'\n",
    "plt.xticks(fontsize=14)\n",
    "plt.yticks(fontsize=14)\n",
    "plt.show()"
   ]
  },
  {
   "cell_type": "markdown",
   "id": "f944793e",
   "metadata": {},
   "source": [
    "# Overall Combine Plots"
   ]
  },
  {
   "cell_type": "code",
   "execution_count": null,
   "id": "c31304c8",
   "metadata": {},
   "outputs": [],
   "source": []
  },
  {
   "cell_type": "markdown",
   "id": "duplicate-calculator",
   "metadata": {},
   "source": [
    "## Saving Models\n",
    "Here we dave the best trained model for later "
   ]
  },
  {
   "cell_type": "code",
   "execution_count": null,
   "id": "unexpected-holly",
   "metadata": {},
   "outputs": [],
   "source": [
    "estimator.model.save('/stor/home/js88749/TCGA/machine_learning_and_molecular_docking_for_drug_discovery/Kera_Models/model3')"
   ]
  },
  {
   "cell_type": "markdown",
   "id": "alone-profession",
   "metadata": {},
   "source": [
    "## Re-Loading Model and Test"
   ]
  },
  {
   "cell_type": "code",
   "execution_count": null,
   "id": "intended-investment",
   "metadata": {},
   "outputs": [],
   "source": [
    "model = keras.models.load_model('/stor/home/js88749/assets')\n",
    "# Load in the best trained model"
   ]
  },
  {
   "cell_type": "code",
   "execution_count": null,
   "id": "authentic-thomson",
   "metadata": {},
   "outputs": [],
   "source": [
    "# Split Into Training and Test Data\n",
    "x_train, x_test, y_train, y_test = train_test_split(df_gene_sig, target_binary, test_size=15,shuffle=True, random_state=12)\n",
    "kf = KFold(n_splits = 4)                      \n",
    "skf = StratifiedKFold(n_splits = 4, random_state = 12, shuffle = True) # Generates indicies\n"
   ]
  },
  {
   "cell_type": "code",
   "execution_count": null,
   "id": "occupied-reynolds",
   "metadata": {
    "scrolled": true
   },
   "outputs": [],
   "source": [
    "# Test Set, in this case we only test (not train) - just to make sure model loaded\n",
    "print('\\nTest Data:')\n",
    "\n",
    "# run it foward and predict\n",
    "results=model.predict(x_test)\n",
    "res=[]\n",
    "# results are in decimal and need to be converted to binary\n",
    "for i in results:\n",
    "    if i <0.5 :\n",
    "        res.append(0)\n",
    "    else:\n",
    "        res.append(1)\n",
    "        \n",
    "# Create Confusion matrix using prediction + truth \n",
    "cm=confusion_matrix(y_test, res)\n",
    "# Create ROC curve\n",
    "fpr_kera, tpr_kera, thresholds_rf = roc_curve(y_test, res)\n",
    "# Calculate AUC (Area under the ROC Curve )\n",
    "auc_k = auc(fpr_kera, tpr_kera)\n",
    "# create label and plot\n",
    "lab='Test'\n",
    "plt.plot(fpr_kera, tpr_kera, label=lab)\n",
    "\n",
    "# show results\n",
    "print(cm)\n",
    "print('Accuracy:',round((cm[1,1]+cm[0,0])/15,4))\n",
    "print('AUC: %.4f'%(auc_k))\n",
    "\n",
    "# plot \n",
    "plt.legend()\n",
    "plt.plot([0, 1], [0, 1],'r--',linewidth=2.5)"
   ]
  },
  {
   "cell_type": "markdown",
   "id": "constant-intention",
   "metadata": {},
   "source": [
    "# Exploring Further - Gene Discivery\n",
    "In this section, I create a new model using a larger random gene set! The motivation behind this is to find new genes (outside of the gene signature that can be used as possible markers). \n",
    "\n",
    "Using the entire gene set is not ideal because:\n",
    "1. It is way too large with not enough samples ~17,000 genes for 55 samples. Makes it hard to train computationally, and has too much variance\n",
    "2. Using the smaller gene siganture from litature had strong potential but is limited by its small size."
   ]
  },
  {
   "cell_type": "markdown",
   "id": "forced-defeat",
   "metadata": {},
   "source": [
    "# Train Model with random genes"
   ]
  },
  {
   "cell_type": "code",
   "execution_count": null,
   "id": "coated-scientist",
   "metadata": {},
   "outputs": [],
   "source": [
    "# SPlit data\n",
    "# Split Into Training and Test Data\n",
    "x_train, x_test, y_train, y_test = train_test_split(rand_df, target_binary, test_size=15,shuffle=True, random_state=12)\n",
    "kf = KFold(n_splits = 4)                      \n",
    "skf = StratifiedKFold(n_splits = 4, random_state = 12, shuffle = True) # Generates indicies\n"
   ]
  },
  {
   "cell_type": "code",
   "execution_count": null,
   "id": "usual-meter",
   "metadata": {},
   "outputs": [],
   "source": [
    "# Creating Model\n",
    "\n",
    "# define baseline model\n",
    "# create model\n",
    "def baseline_model():\n",
    "   # create model\n",
    "    model = Sequential()\n",
    "    model.add(Dense(64, input_dim=100, activation='relu'))\n",
    "    model.add(Dropout(0.2))\n",
    "    model.add(Dense(64, activation='relu'))\n",
    "    model.add(Dense(1, activation='sigmoid'))\n",
    "    # Compile model\n",
    "    model.compile(loss='binary_crossentropy', optimizer='Nadam', metrics=['accuracy'])\n",
    "    return model"
   ]
  },
  {
   "cell_type": "code",
   "execution_count": null,
   "id": "identified-coordinate",
   "metadata": {},
   "outputs": [],
   "source": [
    "# Using K-Fold\n",
    "\n",
    "estimator = KerasClassifier(build_fn=baseline_model, epochs=125, batch_size=2, verbose=0)\n",
    "c=1\n",
    "acc_tot=0\n",
    "for train_index, test_index in skf.split(x_train, y_train):\n",
    "    print('\\nFold Number: %d'%(c))\n",
    "    X=x_train.iloc[train_index]\n",
    "    Y=y_train.iloc[train_index]\n",
    "    estimator.fit(X, Y)\n",
    "    results=estimator.predict(x_train)\n",
    "    \n",
    "    cm=confusion_matrix(y_train, results)\n",
    "    # ROC \n",
    "    fpr_kera, tpr_kera, thresholds_rf = roc_curve(y_train, results)\n",
    "    auc_k = auc(fpr_kera, tpr_kera)\n",
    "    lab='Fold#:'+str(c)\n",
    "    plt.plot(fpr_kera, tpr_kera, label=lab)\n",
    "    acc=round((cm[1,1]+cm[0,0])/45,4)\n",
    "    print(cm)\n",
    "    print('Accuracy:',acc)\n",
    "    print('AUC: %.4f'%(auc_k))\n",
    "    acc_tot=acc_tot+acc\n",
    "    c+=1\n",
    "\n",
    "\n",
    "# Test Set\n",
    "print('\\nTest Data:')\n",
    "\n",
    "# run it foward\n",
    "results=estimator.predict(x_test)\n",
    "cm=confusion_matrix(y_test, results)\n",
    "# ROC \n",
    "fpr_kera, tpr_kera, thresholds_rf = roc_curve(y_test, results)\n",
    "auc_k = auc(fpr_kera, tpr_kera)\n",
    "lab='Test'\n",
    "plt.plot(fpr_kera, tpr_kera, label=lab)\n",
    "\n",
    "# show results\n",
    "print(cm)\n",
    "print('Accuracy:',round((cm[1,1]+cm[0,0])/15,4))\n",
    "print('AUC: %.4f'%(auc_k))\n",
    "print('\\nOverall Acc is:\\n%.4f'%(acc_tot/4))\n",
    "\n",
    "# plot \n",
    "plt.legend()\n",
    "plt.plot([0, 1], [0, 1],'r--',linewidth=2.5)"
   ]
  },
  {
   "cell_type": "code",
   "execution_count": null,
   "id": "original-steering",
   "metadata": {},
   "outputs": [],
   "source": [
    "estimator.model.save('/stor/home/js88749/TCGA/machine_learning_and_molecular_docking_for_drug_discovery/Kera_Models/model4')"
   ]
  },
  {
   "cell_type": "code",
   "execution_count": null,
   "id": "b8256a6d",
   "metadata": {},
   "outputs": [],
   "source": [
    "rand_genes"
   ]
  },
  {
   "cell_type": "code",
   "execution_count": null,
   "id": "9e866fbb",
   "metadata": {},
   "outputs": [],
   "source": [
    "discivered_genes=['NOL4L',\n",
    " 'CEACAM19',\n",
    " 'GJB3',\n",
    " 'RAPGEF3',\n",
    " 'RNU6-529P',\n",
    " 'KIAA0232',\n",
    " 'UBR5',\n",
    " 'PHLDB3',\n",
    " 'KNDC1',\n",
    " 'RECQL4',\n",
    " 'ASPM',\n",
    " 'DHRS7',\n",
    " 'ZNF106',\n",
    " 'RNF146',\n",
    " 'SLC9A7',\n",
    " 'CHRM4',\n",
    " 'ATP5F1B',\n",
    " 'IQCE',\n",
    " 'SGSM3',\n",
    " 'FAM126B',\n",
    " 'GABRR2',\n",
    " 'IL5',\n",
    " 'AGL',\n",
    " 'ARID4B',\n",
    " 'ZNF695',\n",
    " 'C1RL_828',\n",
    " 'CD59',\n",
    " 'TWSG1',\n",
    " 'HEATR4',\n",
    " 'ACER1',\n",
    " 'S100A8',\n",
    " 'NSMCE2',\n",
    " 'NAB2',\n",
    " 'HSD17B6',\n",
    " 'TJAP1',\n",
    " 'FAM184A',\n",
    " 'WHRN',\n",
    " 'TDP1',\n",
    " 'TAPT1',\n",
    " 'PCSK1N',\n",
    " 'EDIL3',\n",
    " 'TMEM200C',\n",
    " 'RPL12P4',\n",
    " 'KCNE3',\n",
    " 'ACAD8',\n",
    " 'ADGRF1',\n",
    " 'ZNF562',\n",
    " 'MEMO1',\n",
    " 'MICALL2',\n",
    " 'BNC1',\n",
    " 'BCAS1',\n",
    " 'MZB1',\n",
    " 'UBE2K',\n",
    " 'PPARGC1B',\n",
    " 'SEL1L',\n",
    " 'DYNC1LI2',\n",
    " 'CTBP2',\n",
    " 'ZPLD1',\n",
    " 'CADM2',\n",
    " 'BDKRB2',\n",
    " 'TCF7L1',\n",
    " 'AP3M1',\n",
    " 'RPSA',\n",
    " 'CLEC2D',\n",
    " 'RAB11FIP4',\n",
    " 'ANXA5',\n",
    " 'PIK3C2B',\n",
    " 'PAK6',\n",
    " 'HDAC9',\n",
    " 'VIL1',\n",
    " 'CYTH4',\n",
    " 'TRABD',\n",
    " 'RNU6-312P',\n",
    " 'MOCS2',\n",
    " 'PRAC1',\n",
    " 'TAF9B',\n",
    " 'PARVB',\n",
    " 'ARHGEF39',\n",
    " 'GLYCTK',\n",
    " 'DNPH1',\n",
    " 'TLCD3B',\n",
    " 'JRKL',\n",
    " 'CCP110',\n",
    " 'GUCA1B',\n",
    " 'ZNF576',\n",
    " 'MXRA8',\n",
    " 'HOXA2',\n",
    " 'EPSTI1',\n",
    " 'KLHL8',\n",
    " 'ANKRD18A',\n",
    " 'ETV7',\n",
    " 'TCAF1',\n",
    " 'POLR3G',\n",
    " 'RHD',\n",
    " 'ECM1',\n",
    " 'C17orf77',\n",
    " 'EMID1',\n",
    " 'ASB2_35',\n",
    " 'SMOX',\n",
    " 'CINP']"
   ]
  }
 ],
 "metadata": {
  "kernelspec": {
   "display_name": "Python 3",
   "language": "python",
   "name": "python3"
  },
  "language_info": {
   "codemirror_mode": {
    "name": "ipython",
    "version": 3
   },
   "file_extension": ".py",
   "mimetype": "text/x-python",
   "name": "python",
   "nbconvert_exporter": "python",
   "pygments_lexer": "ipython3",
   "version": "3.8.8"
  }
 },
 "nbformat": 4,
 "nbformat_minor": 5
}
