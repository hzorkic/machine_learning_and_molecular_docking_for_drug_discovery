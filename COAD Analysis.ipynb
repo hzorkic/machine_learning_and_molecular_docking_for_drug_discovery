{
 "cells": [
  {
   "cell_type": "markdown",
   "id": "accepted-surname",
   "metadata": {},
   "source": [
    "# TCGA - COAD ML"
   ]
  },
  {
   "cell_type": "code",
   "execution_count": 87,
   "id": "quality-number",
   "metadata": {},
   "outputs": [],
   "source": [
    "# import libs\n",
    "#import libs\n",
    "import pandas as pd\n",
    "from scipy import stats\n",
    "import matplotlib.pyplot as plt\n",
    "import seaborn as sns\n",
    "import numpy as np\n",
    "import sklearn\n",
    "from matplotlib import cm\n",
    "import random\n",
    "# PCA Analyis\n",
    "from sklearn.decomposition import PCA\n",
    "from sklearn.discriminant_analysis import LinearDiscriminantAnalysis\n",
    "from IPython.display import Image\n",
    "import umap\n",
    "from sklearn.manifold import TSNE\n",
    "\n",
    "# ML \n",
    "from sklearn.model_selection import train_test_split,KFold, StratifiedKFold\n",
    "from sklearn.model_selection import cross_val_score\n",
    "from sklearn.preprocessing import LabelEncoder\n",
    "from sklearn.pipeline import Pipeline\n",
    "from sklearn.metrics import confusion_matrix\n",
    "from sklearn.preprocessing import StandardScaler\n",
    "from sklearn.pipeline import Pipeline\n",
    "from sklearn.metrics import roc_curve, auc\n",
    "# Deep Learning\n",
    "from keras.models import Sequential\n",
    "from keras.layers import Dense\n",
    "from keras.layers import Dropout\n",
    "from keras.wrappers.scikit_learn import KerasClassifier\n",
    "from keras.utils import np_utils\n",
    "from tensorflow import keras\n",
    "# Other\n",
    "import warnings\n",
    "warnings.filterwarnings('ignore')"
   ]
  },
  {
   "cell_type": "markdown",
   "id": "positive-wichita",
   "metadata": {},
   "source": [
    "Read in data to using pandas. Has to be transformed to be used downstream (transposed)"
   ]
  },
  {
   "cell_type": "code",
   "execution_count": 2,
   "id": "american-massage",
   "metadata": {},
   "outputs": [
    {
     "data": {
      "text/html": [
       "<div>\n",
       "<style scoped>\n",
       "    .dataframe tbody tr th:only-of-type {\n",
       "        vertical-align: middle;\n",
       "    }\n",
       "\n",
       "    .dataframe tbody tr th {\n",
       "        vertical-align: top;\n",
       "    }\n",
       "\n",
       "    .dataframe thead th {\n",
       "        text-align: right;\n",
       "    }\n",
       "</style>\n",
       "<table border=\"1\" class=\"dataframe\">\n",
       "  <thead>\n",
       "    <tr style=\"text-align: right;\">\n",
       "      <th></th>\n",
       "      <th>TSPAN6</th>\n",
       "      <th>TNMD</th>\n",
       "      <th>DPM1</th>\n",
       "      <th>SCYL3</th>\n",
       "      <th>C1orf112</th>\n",
       "      <th>FGR</th>\n",
       "      <th>CFH</th>\n",
       "      <th>FUCA2</th>\n",
       "      <th>GCLC</th>\n",
       "      <th>NFYA</th>\n",
       "      <th>...</th>\n",
       "      <th>RPS3P6</th>\n",
       "      <th>GSTM2</th>\n",
       "      <th>ST13P11</th>\n",
       "      <th>RANP6</th>\n",
       "      <th>NAP1L1P3</th>\n",
       "      <th>LINC00671</th>\n",
       "      <th>GAPDHP71</th>\n",
       "      <th>COG8</th>\n",
       "      <th>EIF4E2P1</th>\n",
       "      <th>ARHGAP19</th>\n",
       "    </tr>\n",
       "  </thead>\n",
       "  <tbody>\n",
       "    <tr>\n",
       "      <th>TCGA.A6.5665_Tumor1</th>\n",
       "      <td>6730.462949</td>\n",
       "      <td>27.512452</td>\n",
       "      <td>1557.204808</td>\n",
       "      <td>811.617347</td>\n",
       "      <td>190.753004</td>\n",
       "      <td>213.680047</td>\n",
       "      <td>2604.512164</td>\n",
       "      <td>3091.482573</td>\n",
       "      <td>1705.772051</td>\n",
       "      <td>1042.721947</td>\n",
       "      <td>...</td>\n",
       "      <td>0.000000</td>\n",
       "      <td>367.7498</td>\n",
       "      <td>0.000000</td>\n",
       "      <td>0.917082</td>\n",
       "      <td>2.751245</td>\n",
       "      <td>4.585409</td>\n",
       "      <td>0.000000</td>\n",
       "      <td>851.9689</td>\n",
       "      <td>0.0000</td>\n",
       "      <td>464.0434</td>\n",
       "    </tr>\n",
       "    <tr>\n",
       "      <th>TCGA.AA.3662_Healthy</th>\n",
       "      <td>6785.922984</td>\n",
       "      <td>20.711522</td>\n",
       "      <td>2561.601009</td>\n",
       "      <td>957.700765</td>\n",
       "      <td>510.331896</td>\n",
       "      <td>207.943678</td>\n",
       "      <td>1122.564478</td>\n",
       "      <td>4752.880009</td>\n",
       "      <td>2023.101444</td>\n",
       "      <td>1378.558887</td>\n",
       "      <td>...</td>\n",
       "      <td>1.656922</td>\n",
       "      <td>177.2906</td>\n",
       "      <td>0.828461</td>\n",
       "      <td>1.656922</td>\n",
       "      <td>3.313843</td>\n",
       "      <td>0.828461</td>\n",
       "      <td>43.908430</td>\n",
       "      <td>932.8469</td>\n",
       "      <td>0.0000</td>\n",
       "      <td>357.8951</td>\n",
       "    </tr>\n",
       "    <tr>\n",
       "      <th>TCGA.A6.2684_Healthy</th>\n",
       "      <td>3596.940007</td>\n",
       "      <td>51.044560</td>\n",
       "      <td>1121.846000</td>\n",
       "      <td>722.564107</td>\n",
       "      <td>210.984182</td>\n",
       "      <td>425.371335</td>\n",
       "      <td>2409.303240</td>\n",
       "      <td>2755.271926</td>\n",
       "      <td>2166.557998</td>\n",
       "      <td>1134.323559</td>\n",
       "      <td>...</td>\n",
       "      <td>2.268647</td>\n",
       "      <td>781.5489</td>\n",
       "      <td>0.000000</td>\n",
       "      <td>0.000000</td>\n",
       "      <td>3.402971</td>\n",
       "      <td>15.880530</td>\n",
       "      <td>1.134324</td>\n",
       "      <td>1037.9060</td>\n",
       "      <td>0.0000</td>\n",
       "      <td>535.4007</td>\n",
       "    </tr>\n",
       "    <tr>\n",
       "      <th>TCGA.A6.5659_Tumor1</th>\n",
       "      <td>25713.506410</td>\n",
       "      <td>102.205104</td>\n",
       "      <td>3165.113628</td>\n",
       "      <td>987.982675</td>\n",
       "      <td>1017.184134</td>\n",
       "      <td>74.625949</td>\n",
       "      <td>608.363716</td>\n",
       "      <td>1966.231531</td>\n",
       "      <td>5022.650843</td>\n",
       "      <td>3264.074126</td>\n",
       "      <td>...</td>\n",
       "      <td>0.000000</td>\n",
       "      <td>168.7195</td>\n",
       "      <td>0.000000</td>\n",
       "      <td>0.000000</td>\n",
       "      <td>21.089940</td>\n",
       "      <td>6.489213</td>\n",
       "      <td>0.000000</td>\n",
       "      <td>1495.7640</td>\n",
       "      <td>595.3853</td>\n",
       "      <td>666.7666</td>\n",
       "    </tr>\n",
       "    <tr>\n",
       "      <th>TCGA.AA.3511_Healthy</th>\n",
       "      <td>5526.721541</td>\n",
       "      <td>37.276747</td>\n",
       "      <td>4557.526115</td>\n",
       "      <td>460.634090</td>\n",
       "      <td>259.162147</td>\n",
       "      <td>551.163333</td>\n",
       "      <td>2647.536592</td>\n",
       "      <td>3907.845664</td>\n",
       "      <td>2214.416291</td>\n",
       "      <td>1257.646447</td>\n",
       "      <td>...</td>\n",
       "      <td>5.325250</td>\n",
       "      <td>235.1985</td>\n",
       "      <td>0.887542</td>\n",
       "      <td>0.887542</td>\n",
       "      <td>3.550166</td>\n",
       "      <td>2.662625</td>\n",
       "      <td>11.538040</td>\n",
       "      <td>1026.8860</td>\n",
       "      <td>0.0000</td>\n",
       "      <td>439.3331</td>\n",
       "    </tr>\n",
       "  </tbody>\n",
       "</table>\n",
       "<p>5 rows × 21083 columns</p>\n",
       "</div>"
      ],
      "text/plain": [
       "                            TSPAN6        TNMD         DPM1       SCYL3  \\\n",
       "TCGA.A6.5665_Tumor1    6730.462949   27.512452  1557.204808  811.617347   \n",
       "TCGA.AA.3662_Healthy   6785.922984   20.711522  2561.601009  957.700765   \n",
       "TCGA.A6.2684_Healthy   3596.940007   51.044560  1121.846000  722.564107   \n",
       "TCGA.A6.5659_Tumor1   25713.506410  102.205104  3165.113628  987.982675   \n",
       "TCGA.AA.3511_Healthy   5526.721541   37.276747  4557.526115  460.634090   \n",
       "\n",
       "                         C1orf112         FGR          CFH        FUCA2  \\\n",
       "TCGA.A6.5665_Tumor1    190.753004  213.680047  2604.512164  3091.482573   \n",
       "TCGA.AA.3662_Healthy   510.331896  207.943678  1122.564478  4752.880009   \n",
       "TCGA.A6.2684_Healthy   210.984182  425.371335  2409.303240  2755.271926   \n",
       "TCGA.A6.5659_Tumor1   1017.184134   74.625949   608.363716  1966.231531   \n",
       "TCGA.AA.3511_Healthy   259.162147  551.163333  2647.536592  3907.845664   \n",
       "\n",
       "                             GCLC         NFYA  ...    RPS3P6     GSTM2  \\\n",
       "TCGA.A6.5665_Tumor1   1705.772051  1042.721947  ...  0.000000  367.7498   \n",
       "TCGA.AA.3662_Healthy  2023.101444  1378.558887  ...  1.656922  177.2906   \n",
       "TCGA.A6.2684_Healthy  2166.557998  1134.323559  ...  2.268647  781.5489   \n",
       "TCGA.A6.5659_Tumor1   5022.650843  3264.074126  ...  0.000000  168.7195   \n",
       "TCGA.AA.3511_Healthy  2214.416291  1257.646447  ...  5.325250  235.1985   \n",
       "\n",
       "                       ST13P11     RANP6   NAP1L1P3  LINC00671   GAPDHP71  \\\n",
       "TCGA.A6.5665_Tumor1   0.000000  0.917082   2.751245   4.585409   0.000000   \n",
       "TCGA.AA.3662_Healthy  0.828461  1.656922   3.313843   0.828461  43.908430   \n",
       "TCGA.A6.2684_Healthy  0.000000  0.000000   3.402971  15.880530   1.134324   \n",
       "TCGA.A6.5659_Tumor1   0.000000  0.000000  21.089940   6.489213   0.000000   \n",
       "TCGA.AA.3511_Healthy  0.887542  0.887542   3.550166   2.662625  11.538040   \n",
       "\n",
       "                           COG8  EIF4E2P1  ARHGAP19  \n",
       "TCGA.A6.5665_Tumor1    851.9689    0.0000  464.0434  \n",
       "TCGA.AA.3662_Healthy   932.8469    0.0000  357.8951  \n",
       "TCGA.A6.2684_Healthy  1037.9060    0.0000  535.4007  \n",
       "TCGA.A6.5659_Tumor1   1495.7640  595.3853  666.7666  \n",
       "TCGA.AA.3511_Healthy  1026.8860    0.0000  439.3331  \n",
       "\n",
       "[5 rows x 21083 columns]"
      ]
     },
     "execution_count": 2,
     "metadata": {},
     "output_type": "execute_result"
    }
   ],
   "source": [
    "# Load in Data + Trnasform Direction\n",
    "df=pd.read_csv('COAD_normalized_counts.csv') # load\n",
    "df=df.transpose()\n",
    "\n",
    "genes=df.loc['new_gene'].to_list() # saves all genes as list\n",
    "df.columns=genes\n",
    "\n",
    "samples=df.index.to_list()\n",
    "samples=samples[1:] # removes the \"New_Gene\" Label\n",
    "\n",
    "df=df.drop(['new_gene']).reset_index(drop=True) # remove gene column \n",
    "df.index=samples # set index names \n",
    "\n",
    "df=df.astype(float) # weird nonsense step thats needed ~sometimes~\n",
    "df.head() # show results"
   ]
  },
  {
   "cell_type": "markdown",
   "id": "transsexual-fusion",
   "metadata": {},
   "source": [
    "### pre-processing step  to remove genes that have low expression\n",
    "Removing genes when not expressed in at least 20 samples\n"
   ]
  },
  {
   "cell_type": "code",
   "execution_count": 24,
   "id": "secondary-tomorrow",
   "metadata": {},
   "outputs": [
    {
     "name": "stdout",
     "output_type": "stream",
     "text": [
      "Removed 0 genes. These genes did not meet 10 sample mininum. \n",
      "We have 16893 genes left \n"
     ]
    }
   ],
   "source": [
    "# Pre-Process: Filter out low expressed genes\n",
    "count=0; # keep track of how many genese removed\n",
    "\n",
    "thresh=25 # min number of samples needed\n",
    "for col in df.columns.to_list():\n",
    "    n_zeros=df[col].isin([0]).sum()\n",
    "    \n",
    "    if n_zeros >= thresh:\n",
    "        count+=1\n",
    "        df.drop([col],axis=1,inplace=True)\n",
    "genes=df.columns.to_list()\n",
    "print(\"Removed %d genes. These genes did not meet 10 sample mininum. \\nWe have %d genes left \\\n",
    "\"%(count,len(df.columns.to_list())))"
   ]
  },
  {
   "cell_type": "markdown",
   "id": "authorized-samoa",
   "metadata": {},
   "source": [
    "### Log Transformation"
   ]
  },
  {
   "cell_type": "code",
   "execution_count": 4,
   "id": "forced-scotland",
   "metadata": {},
   "outputs": [
    {
     "data": {
      "text/html": [
       "<div>\n",
       "<style scoped>\n",
       "    .dataframe tbody tr th:only-of-type {\n",
       "        vertical-align: middle;\n",
       "    }\n",
       "\n",
       "    .dataframe tbody tr th {\n",
       "        vertical-align: top;\n",
       "    }\n",
       "\n",
       "    .dataframe thead th {\n",
       "        text-align: right;\n",
       "    }\n",
       "</style>\n",
       "<table border=\"1\" class=\"dataframe\">\n",
       "  <thead>\n",
       "    <tr style=\"text-align: right;\">\n",
       "      <th></th>\n",
       "      <th>TSPAN6</th>\n",
       "      <th>TNMD</th>\n",
       "      <th>DPM1</th>\n",
       "      <th>SCYL3</th>\n",
       "      <th>C1orf112</th>\n",
       "      <th>FGR</th>\n",
       "      <th>CFH</th>\n",
       "      <th>FUCA2</th>\n",
       "      <th>GCLC</th>\n",
       "      <th>NFYA</th>\n",
       "      <th>...</th>\n",
       "      <th>GAPDHP44</th>\n",
       "      <th>FTH1P12</th>\n",
       "      <th>RPS3P6</th>\n",
       "      <th>GSTM2</th>\n",
       "      <th>RANP6</th>\n",
       "      <th>NAP1L1P3</th>\n",
       "      <th>LINC00671</th>\n",
       "      <th>GAPDHP71</th>\n",
       "      <th>COG8</th>\n",
       "      <th>ARHGAP19</th>\n",
       "    </tr>\n",
       "  </thead>\n",
       "  <tbody>\n",
       "    <tr>\n",
       "      <th>TCGA.A6.5665_Tumor1</th>\n",
       "      <td>8.814548</td>\n",
       "      <td>3.350341</td>\n",
       "      <td>7.351290</td>\n",
       "      <td>6.700260</td>\n",
       "      <td>5.256208</td>\n",
       "      <td>5.369149</td>\n",
       "      <td>7.865385</td>\n",
       "      <td>8.036729</td>\n",
       "      <td>7.442359</td>\n",
       "      <td>6.950548</td>\n",
       "      <td>...</td>\n",
       "      <td>1.041747</td>\n",
       "      <td>2.962260</td>\n",
       "      <td>0.000000</td>\n",
       "      <td>5.910118</td>\n",
       "      <td>0.650804</td>\n",
       "      <td>1.322088</td>\n",
       "      <td>1.720158</td>\n",
       "      <td>0.000000</td>\n",
       "      <td>6.748723</td>\n",
       "      <td>6.142131</td>\n",
       "    </tr>\n",
       "    <tr>\n",
       "      <th>TCGA.AA.3662_Healthy</th>\n",
       "      <td>8.822753</td>\n",
       "      <td>3.077843</td>\n",
       "      <td>7.848778</td>\n",
       "      <td>6.865579</td>\n",
       "      <td>6.237019</td>\n",
       "      <td>5.342065</td>\n",
       "      <td>7.024261</td>\n",
       "      <td>8.466716</td>\n",
       "      <td>7.612881</td>\n",
       "      <td>7.229519</td>\n",
       "      <td>...</td>\n",
       "      <td>1.637501</td>\n",
       "      <td>2.134894</td>\n",
       "      <td>0.977168</td>\n",
       "      <td>5.183415</td>\n",
       "      <td>0.977168</td>\n",
       "      <td>1.461829</td>\n",
       "      <td>0.603475</td>\n",
       "      <td>3.804626</td>\n",
       "      <td>6.839313</td>\n",
       "      <td>5.883030</td>\n",
       "    </tr>\n",
       "    <tr>\n",
       "      <th>TCGA.A6.2684_Healthy</th>\n",
       "      <td>8.188117</td>\n",
       "      <td>3.952100</td>\n",
       "      <td>7.023622</td>\n",
       "      <td>6.584189</td>\n",
       "      <td>5.356512</td>\n",
       "      <td>6.055311</td>\n",
       "      <td>7.787508</td>\n",
       "      <td>7.921634</td>\n",
       "      <td>7.681356</td>\n",
       "      <td>7.034673</td>\n",
       "      <td>...</td>\n",
       "      <td>0.000000</td>\n",
       "      <td>2.601026</td>\n",
       "      <td>1.184376</td>\n",
       "      <td>6.662556</td>\n",
       "      <td>0.000000</td>\n",
       "      <td>1.482280</td>\n",
       "      <td>2.826161</td>\n",
       "      <td>0.758150</td>\n",
       "      <td>6.945924</td>\n",
       "      <td>6.284881</td>\n",
       "    </tr>\n",
       "    <tr>\n",
       "      <th>TCGA.A6.5659_Tumor1</th>\n",
       "      <td>10.154811</td>\n",
       "      <td>4.636718</td>\n",
       "      <td>8.060260</td>\n",
       "      <td>6.896677</td>\n",
       "      <td>6.925776</td>\n",
       "      <td>4.325799</td>\n",
       "      <td>6.412415</td>\n",
       "      <td>7.584383</td>\n",
       "      <td>8.521912</td>\n",
       "      <td>8.091038</td>\n",
       "      <td>...</td>\n",
       "      <td>3.802257</td>\n",
       "      <td>2.013464</td>\n",
       "      <td>0.000000</td>\n",
       "      <td>5.134147</td>\n",
       "      <td>0.000000</td>\n",
       "      <td>3.095122</td>\n",
       "      <td>2.013464</td>\n",
       "      <td>0.000000</td>\n",
       "      <td>7.311061</td>\n",
       "      <td>6.503939</td>\n",
       "    </tr>\n",
       "    <tr>\n",
       "      <th>TCGA.AA.3511_Healthy</th>\n",
       "      <td>8.617531</td>\n",
       "      <td>3.644843</td>\n",
       "      <td>8.424755</td>\n",
       "      <td>6.134773</td>\n",
       "      <td>5.561305</td>\n",
       "      <td>6.313844</td>\n",
       "      <td>7.881763</td>\n",
       "      <td>8.270997</td>\n",
       "      <td>7.703196</td>\n",
       "      <td>7.137792</td>\n",
       "      <td>...</td>\n",
       "      <td>1.844550</td>\n",
       "      <td>3.064020</td>\n",
       "      <td>1.844550</td>\n",
       "      <td>5.464673</td>\n",
       "      <td>0.635275</td>\n",
       "      <td>1.515164</td>\n",
       "      <td>1.298180</td>\n",
       "      <td>2.528767</td>\n",
       "      <td>6.935260</td>\n",
       "      <td>6.087531</td>\n",
       "    </tr>\n",
       "  </tbody>\n",
       "</table>\n",
       "<p>5 rows × 16893 columns</p>\n",
       "</div>"
      ],
      "text/plain": [
       "                         TSPAN6      TNMD      DPM1     SCYL3  C1orf112  \\\n",
       "TCGA.A6.5665_Tumor1    8.814548  3.350341  7.351290  6.700260  5.256208   \n",
       "TCGA.AA.3662_Healthy   8.822753  3.077843  7.848778  6.865579  6.237019   \n",
       "TCGA.A6.2684_Healthy   8.188117  3.952100  7.023622  6.584189  5.356512   \n",
       "TCGA.A6.5659_Tumor1   10.154811  4.636718  8.060260  6.896677  6.925776   \n",
       "TCGA.AA.3511_Healthy   8.617531  3.644843  8.424755  6.134773  5.561305   \n",
       "\n",
       "                           FGR       CFH     FUCA2      GCLC      NFYA  ...  \\\n",
       "TCGA.A6.5665_Tumor1   5.369149  7.865385  8.036729  7.442359  6.950548  ...   \n",
       "TCGA.AA.3662_Healthy  5.342065  7.024261  8.466716  7.612881  7.229519  ...   \n",
       "TCGA.A6.2684_Healthy  6.055311  7.787508  7.921634  7.681356  7.034673  ...   \n",
       "TCGA.A6.5659_Tumor1   4.325799  6.412415  7.584383  8.521912  8.091038  ...   \n",
       "TCGA.AA.3511_Healthy  6.313844  7.881763  8.270997  7.703196  7.137792  ...   \n",
       "\n",
       "                      GAPDHP44   FTH1P12    RPS3P6     GSTM2     RANP6  \\\n",
       "TCGA.A6.5665_Tumor1   1.041747  2.962260  0.000000  5.910118  0.650804   \n",
       "TCGA.AA.3662_Healthy  1.637501  2.134894  0.977168  5.183415  0.977168   \n",
       "TCGA.A6.2684_Healthy  0.000000  2.601026  1.184376  6.662556  0.000000   \n",
       "TCGA.A6.5659_Tumor1   3.802257  2.013464  0.000000  5.134147  0.000000   \n",
       "TCGA.AA.3511_Healthy  1.844550  3.064020  1.844550  5.464673  0.635275   \n",
       "\n",
       "                      NAP1L1P3  LINC00671  GAPDHP71      COG8  ARHGAP19  \n",
       "TCGA.A6.5665_Tumor1   1.322088   1.720158  0.000000  6.748723  6.142131  \n",
       "TCGA.AA.3662_Healthy  1.461829   0.603475  3.804626  6.839313  5.883030  \n",
       "TCGA.A6.2684_Healthy  1.482280   2.826161  0.758150  6.945924  6.284881  \n",
       "TCGA.A6.5659_Tumor1   3.095122   2.013464  0.000000  7.311061  6.503939  \n",
       "TCGA.AA.3511_Healthy  1.515164   1.298180  2.528767  6.935260  6.087531  \n",
       "\n",
       "[5 rows x 16893 columns]"
      ]
     },
     "execution_count": 4,
     "metadata": {},
     "output_type": "execute_result"
    }
   ],
   "source": [
    "df_log=pd.DataFrame()\n",
    "for col in df.columns.to_list():\n",
    "    df_log[col] = df[col].apply(lambda x: np.log(x+1))\n",
    "df_log.head()"
   ]
  },
  {
   "cell_type": "markdown",
   "id": "raising-carry",
   "metadata": {},
   "source": [
    "### Using Gene Signature"
   ]
  },
  {
   "cell_type": "code",
   "execution_count": 5,
   "id": "angry-license",
   "metadata": {},
   "outputs": [
    {
     "data": {
      "text/html": [
       "<div>\n",
       "<style scoped>\n",
       "    .dataframe tbody tr th:only-of-type {\n",
       "        vertical-align: middle;\n",
       "    }\n",
       "\n",
       "    .dataframe tbody tr th {\n",
       "        vertical-align: top;\n",
       "    }\n",
       "\n",
       "    .dataframe thead th {\n",
       "        text-align: right;\n",
       "    }\n",
       "</style>\n",
       "<table border=\"1\" class=\"dataframe\">\n",
       "  <thead>\n",
       "    <tr style=\"text-align: right;\">\n",
       "      <th></th>\n",
       "      <th>TREML2</th>\n",
       "      <th>PTPRN</th>\n",
       "      <th>PGLYRP1</th>\n",
       "      <th>NOG</th>\n",
       "      <th>VIP</th>\n",
       "      <th>RIMKLB</th>\n",
       "      <th>NKAIN4</th>\n",
       "      <th>FAM171B</th>\n",
       "      <th>ZNF417</th>\n",
       "      <th>GLRA2</th>\n",
       "      <th>...</th>\n",
       "      <th>GLTP</th>\n",
       "      <th>METTL7A</th>\n",
       "      <th>CITED2</th>\n",
       "      <th>SCARA5</th>\n",
       "      <th>CDH3</th>\n",
       "      <th>IL6R</th>\n",
       "      <th>PKIB</th>\n",
       "      <th>GLP2R</th>\n",
       "      <th>EPB41L3</th>\n",
       "      <th>NR3C2</th>\n",
       "    </tr>\n",
       "  </thead>\n",
       "  <tbody>\n",
       "    <tr>\n",
       "      <th>TCGA.A6.5665_Tumor1</th>\n",
       "      <td>3.579319</td>\n",
       "      <td>4.883882</td>\n",
       "      <td>0.000000</td>\n",
       "      <td>1.720158</td>\n",
       "      <td>7.368214</td>\n",
       "      <td>6.186489</td>\n",
       "      <td>2.751959</td>\n",
       "      <td>5.202165</td>\n",
       "      <td>5.155667</td>\n",
       "      <td>4.897667</td>\n",
       "      <td>...</td>\n",
       "      <td>8.539864</td>\n",
       "      <td>9.288117</td>\n",
       "      <td>8.293919</td>\n",
       "      <td>8.022694</td>\n",
       "      <td>3.629216</td>\n",
       "      <td>7.633499</td>\n",
       "      <td>8.491182</td>\n",
       "      <td>6.140157</td>\n",
       "      <td>7.663234</td>\n",
       "      <td>8.211754</td>\n",
       "    </tr>\n",
       "    <tr>\n",
       "      <th>TCGA.AA.3662_Healthy</th>\n",
       "      <td>3.115291</td>\n",
       "      <td>3.858492</td>\n",
       "      <td>0.977168</td>\n",
       "      <td>1.916809</td>\n",
       "      <td>6.157814</td>\n",
       "      <td>5.011455</td>\n",
       "      <td>2.866148</td>\n",
       "      <td>4.830464</td>\n",
       "      <td>4.937010</td>\n",
       "      <td>5.080739</td>\n",
       "      <td>...</td>\n",
       "      <td>7.679765</td>\n",
       "      <td>7.059754</td>\n",
       "      <td>6.975148</td>\n",
       "      <td>5.866740</td>\n",
       "      <td>8.759127</td>\n",
       "      <td>6.825916</td>\n",
       "      <td>5.587009</td>\n",
       "      <td>4.145268</td>\n",
       "      <td>6.187192</td>\n",
       "      <td>6.735647</td>\n",
       "    </tr>\n",
       "    <tr>\n",
       "      <th>TCGA.A6.2684_Healthy</th>\n",
       "      <td>3.556196</td>\n",
       "      <td>5.900220</td>\n",
       "      <td>2.513108</td>\n",
       "      <td>2.952260</td>\n",
       "      <td>7.654305</td>\n",
       "      <td>6.433919</td>\n",
       "      <td>2.826161</td>\n",
       "      <td>5.746008</td>\n",
       "      <td>5.175133</td>\n",
       "      <td>3.115830</td>\n",
       "      <td>...</td>\n",
       "      <td>8.299297</td>\n",
       "      <td>9.270865</td>\n",
       "      <td>8.436422</td>\n",
       "      <td>8.846641</td>\n",
       "      <td>3.588065</td>\n",
       "      <td>8.122987</td>\n",
       "      <td>8.534281</td>\n",
       "      <td>5.890856</td>\n",
       "      <td>8.386757</td>\n",
       "      <td>8.322441</td>\n",
       "    </tr>\n",
       "    <tr>\n",
       "      <th>TCGA.A6.5659_Tumor1</th>\n",
       "      <td>0.964053</td>\n",
       "      <td>2.846248</td>\n",
       "      <td>3.460213</td>\n",
       "      <td>2.637515</td>\n",
       "      <td>4.796207</td>\n",
       "      <td>6.438690</td>\n",
       "      <td>0.964053</td>\n",
       "      <td>5.718246</td>\n",
       "      <td>8.260640</td>\n",
       "      <td>7.025766</td>\n",
       "      <td>...</td>\n",
       "      <td>7.095372</td>\n",
       "      <td>7.546567</td>\n",
       "      <td>7.334626</td>\n",
       "      <td>5.180834</td>\n",
       "      <td>7.216792</td>\n",
       "      <td>5.162420</td>\n",
       "      <td>5.033678</td>\n",
       "      <td>2.514152</td>\n",
       "      <td>6.102857</td>\n",
       "      <td>6.553698</td>\n",
       "    </tr>\n",
       "    <tr>\n",
       "      <th>TCGA.AA.3511_Healthy</th>\n",
       "      <td>2.091905</td>\n",
       "      <td>4.466960</td>\n",
       "      <td>1.020681</td>\n",
       "      <td>1.975856</td>\n",
       "      <td>6.140524</td>\n",
       "      <td>5.829066</td>\n",
       "      <td>3.467733</td>\n",
       "      <td>5.810626</td>\n",
       "      <td>5.017243</td>\n",
       "      <td>3.381040</td>\n",
       "      <td>...</td>\n",
       "      <td>7.582862</td>\n",
       "      <td>7.990564</td>\n",
       "      <td>6.980006</td>\n",
       "      <td>5.741847</td>\n",
       "      <td>8.362500</td>\n",
       "      <td>6.337669</td>\n",
       "      <td>6.105509</td>\n",
       "      <td>3.318766</td>\n",
       "      <td>6.830678</td>\n",
       "      <td>6.653925</td>\n",
       "    </tr>\n",
       "    <tr>\n",
       "      <th>TCGA.AZ.6600_Healthy</th>\n",
       "      <td>2.757045</td>\n",
       "      <td>6.009504</td>\n",
       "      <td>2.190988</td>\n",
       "      <td>3.010260</td>\n",
       "      <td>8.389299</td>\n",
       "      <td>6.970136</td>\n",
       "      <td>2.891646</td>\n",
       "      <td>5.919164</td>\n",
       "      <td>5.194669</td>\n",
       "      <td>4.358895</td>\n",
       "      <td>...</td>\n",
       "      <td>8.209804</td>\n",
       "      <td>8.971552</td>\n",
       "      <td>8.182584</td>\n",
       "      <td>8.820827</td>\n",
       "      <td>3.884945</td>\n",
       "      <td>8.064916</td>\n",
       "      <td>8.294682</td>\n",
       "      <td>6.055786</td>\n",
       "      <td>8.252996</td>\n",
       "      <td>8.333609</td>\n",
       "    </tr>\n",
       "    <tr>\n",
       "      <th>TCGA.A6.5667_Tumor</th>\n",
       "      <td>3.212419</td>\n",
       "      <td>3.831333</td>\n",
       "      <td>1.659557</td>\n",
       "      <td>1.268127</td>\n",
       "      <td>5.010597</td>\n",
       "      <td>4.568053</td>\n",
       "      <td>3.177541</td>\n",
       "      <td>4.909123</td>\n",
       "      <td>5.513045</td>\n",
       "      <td>4.465805</td>\n",
       "      <td>...</td>\n",
       "      <td>7.713928</td>\n",
       "      <td>6.511376</td>\n",
       "      <td>8.555359</td>\n",
       "      <td>4.964124</td>\n",
       "      <td>8.768845</td>\n",
       "      <td>6.169154</td>\n",
       "      <td>7.168330</td>\n",
       "      <td>3.507149</td>\n",
       "      <td>6.226295</td>\n",
       "      <td>6.149358</td>\n",
       "    </tr>\n",
       "    <tr>\n",
       "      <th>TCGA.A6.2685_Tumor</th>\n",
       "      <td>3.407683</td>\n",
       "      <td>5.837733</td>\n",
       "      <td>2.523289</td>\n",
       "      <td>2.340283</td>\n",
       "      <td>8.422706</td>\n",
       "      <td>6.684234</td>\n",
       "      <td>4.507238</td>\n",
       "      <td>6.007842</td>\n",
       "      <td>4.916685</td>\n",
       "      <td>3.847552</td>\n",
       "      <td>...</td>\n",
       "      <td>8.247827</td>\n",
       "      <td>8.776515</td>\n",
       "      <td>8.188208</td>\n",
       "      <td>7.456951</td>\n",
       "      <td>5.359719</td>\n",
       "      <td>7.774151</td>\n",
       "      <td>8.277150</td>\n",
       "      <td>6.396099</td>\n",
       "      <td>7.897716</td>\n",
       "      <td>7.965496</td>\n",
       "    </tr>\n",
       "    <tr>\n",
       "      <th>TCGA.A6.2684_Tumor1</th>\n",
       "      <td>2.222423</td>\n",
       "      <td>0.777335</td>\n",
       "      <td>1.740934</td>\n",
       "      <td>4.090727</td>\n",
       "      <td>2.859874</td>\n",
       "      <td>3.846972</td>\n",
       "      <td>0.000000</td>\n",
       "      <td>4.948081</td>\n",
       "      <td>4.724626</td>\n",
       "      <td>0.000000</td>\n",
       "      <td>...</td>\n",
       "      <td>7.662282</td>\n",
       "      <td>6.665899</td>\n",
       "      <td>7.806204</td>\n",
       "      <td>4.029918</td>\n",
       "      <td>8.283271</td>\n",
       "      <td>5.073390</td>\n",
       "      <td>6.286191</td>\n",
       "      <td>2.634212</td>\n",
       "      <td>5.359506</td>\n",
       "      <td>5.910752</td>\n",
       "    </tr>\n",
       "    <tr>\n",
       "      <th>TCGA.AA.3655_Healthy</th>\n",
       "      <td>3.081807</td>\n",
       "      <td>6.081654</td>\n",
       "      <td>2.986541</td>\n",
       "      <td>1.601703</td>\n",
       "      <td>7.245214</td>\n",
       "      <td>7.149622</td>\n",
       "      <td>3.126239</td>\n",
       "      <td>5.739746</td>\n",
       "      <td>5.383994</td>\n",
       "      <td>2.824108</td>\n",
       "      <td>...</td>\n",
       "      <td>7.876783</td>\n",
       "      <td>9.121404</td>\n",
       "      <td>8.197727</td>\n",
       "      <td>8.352266</td>\n",
       "      <td>6.300258</td>\n",
       "      <td>7.837698</td>\n",
       "      <td>6.849947</td>\n",
       "      <td>6.270736</td>\n",
       "      <td>8.262895</td>\n",
       "      <td>7.847033</td>\n",
       "    </tr>\n",
       "  </tbody>\n",
       "</table>\n",
       "<p>10 rows × 29 columns</p>\n",
       "</div>"
      ],
      "text/plain": [
       "                        TREML2     PTPRN   PGLYRP1       NOG       VIP  \\\n",
       "TCGA.A6.5665_Tumor1   3.579319  4.883882  0.000000  1.720158  7.368214   \n",
       "TCGA.AA.3662_Healthy  3.115291  3.858492  0.977168  1.916809  6.157814   \n",
       "TCGA.A6.2684_Healthy  3.556196  5.900220  2.513108  2.952260  7.654305   \n",
       "TCGA.A6.5659_Tumor1   0.964053  2.846248  3.460213  2.637515  4.796207   \n",
       "TCGA.AA.3511_Healthy  2.091905  4.466960  1.020681  1.975856  6.140524   \n",
       "TCGA.AZ.6600_Healthy  2.757045  6.009504  2.190988  3.010260  8.389299   \n",
       "TCGA.A6.5667_Tumor    3.212419  3.831333  1.659557  1.268127  5.010597   \n",
       "TCGA.A6.2685_Tumor    3.407683  5.837733  2.523289  2.340283  8.422706   \n",
       "TCGA.A6.2684_Tumor1   2.222423  0.777335  1.740934  4.090727  2.859874   \n",
       "TCGA.AA.3655_Healthy  3.081807  6.081654  2.986541  1.601703  7.245214   \n",
       "\n",
       "                        RIMKLB    NKAIN4   FAM171B    ZNF417     GLRA2  ...  \\\n",
       "TCGA.A6.5665_Tumor1   6.186489  2.751959  5.202165  5.155667  4.897667  ...   \n",
       "TCGA.AA.3662_Healthy  5.011455  2.866148  4.830464  4.937010  5.080739  ...   \n",
       "TCGA.A6.2684_Healthy  6.433919  2.826161  5.746008  5.175133  3.115830  ...   \n",
       "TCGA.A6.5659_Tumor1   6.438690  0.964053  5.718246  8.260640  7.025766  ...   \n",
       "TCGA.AA.3511_Healthy  5.829066  3.467733  5.810626  5.017243  3.381040  ...   \n",
       "TCGA.AZ.6600_Healthy  6.970136  2.891646  5.919164  5.194669  4.358895  ...   \n",
       "TCGA.A6.5667_Tumor    4.568053  3.177541  4.909123  5.513045  4.465805  ...   \n",
       "TCGA.A6.2685_Tumor    6.684234  4.507238  6.007842  4.916685  3.847552  ...   \n",
       "TCGA.A6.2684_Tumor1   3.846972  0.000000  4.948081  4.724626  0.000000  ...   \n",
       "TCGA.AA.3655_Healthy  7.149622  3.126239  5.739746  5.383994  2.824108  ...   \n",
       "\n",
       "                          GLTP   METTL7A    CITED2    SCARA5      CDH3  \\\n",
       "TCGA.A6.5665_Tumor1   8.539864  9.288117  8.293919  8.022694  3.629216   \n",
       "TCGA.AA.3662_Healthy  7.679765  7.059754  6.975148  5.866740  8.759127   \n",
       "TCGA.A6.2684_Healthy  8.299297  9.270865  8.436422  8.846641  3.588065   \n",
       "TCGA.A6.5659_Tumor1   7.095372  7.546567  7.334626  5.180834  7.216792   \n",
       "TCGA.AA.3511_Healthy  7.582862  7.990564  6.980006  5.741847  8.362500   \n",
       "TCGA.AZ.6600_Healthy  8.209804  8.971552  8.182584  8.820827  3.884945   \n",
       "TCGA.A6.5667_Tumor    7.713928  6.511376  8.555359  4.964124  8.768845   \n",
       "TCGA.A6.2685_Tumor    8.247827  8.776515  8.188208  7.456951  5.359719   \n",
       "TCGA.A6.2684_Tumor1   7.662282  6.665899  7.806204  4.029918  8.283271   \n",
       "TCGA.AA.3655_Healthy  7.876783  9.121404  8.197727  8.352266  6.300258   \n",
       "\n",
       "                          IL6R      PKIB     GLP2R   EPB41L3     NR3C2  \n",
       "TCGA.A6.5665_Tumor1   7.633499  8.491182  6.140157  7.663234  8.211754  \n",
       "TCGA.AA.3662_Healthy  6.825916  5.587009  4.145268  6.187192  6.735647  \n",
       "TCGA.A6.2684_Healthy  8.122987  8.534281  5.890856  8.386757  8.322441  \n",
       "TCGA.A6.5659_Tumor1   5.162420  5.033678  2.514152  6.102857  6.553698  \n",
       "TCGA.AA.3511_Healthy  6.337669  6.105509  3.318766  6.830678  6.653925  \n",
       "TCGA.AZ.6600_Healthy  8.064916  8.294682  6.055786  8.252996  8.333609  \n",
       "TCGA.A6.5667_Tumor    6.169154  7.168330  3.507149  6.226295  6.149358  \n",
       "TCGA.A6.2685_Tumor    7.774151  8.277150  6.396099  7.897716  7.965496  \n",
       "TCGA.A6.2684_Tumor1   5.073390  6.286191  2.634212  5.359506  5.910752  \n",
       "TCGA.AA.3655_Healthy  7.837698  6.849947  6.270736  8.262895  7.847033  \n",
       "\n",
       "[10 rows x 29 columns]"
      ]
     },
     "execution_count": 5,
     "metadata": {},
     "output_type": "execute_result"
    }
   ],
   "source": [
    "df_gene_sig=df_log[['TREML2', 'PTPRN', 'PGLYRP1', 'NOG', 'VIP',\\\n",
    "    'RIMKLB', 'NKAIN4', 'FAM171B', 'ZNF417', 'GLRA2', 'HOXA7', 'FABP6', 'MUSK',\\\n",
    "    'HTR6', 'GRIP2', 'VEGFA', 'AKAP12', 'RHEB', 'PMEPA1','GLTP', 'METTL7A',\\\n",
    "    'CITED2', 'SCARA5', 'CDH3','IL6R', 'PKIB', 'GLP2R', 'EPB41L3', 'NR3C2']]\n",
    "\n",
    "# Genes not found from gene signature (possible naming issues)\n",
    "# PADI4, NCKIPSD C5orf53 TREML3 HES5 OR8D2 KLRK1 NCRNA00152 PPAP2A LINC00974\n",
    "\n",
    "df_gene_sig.head(10)"
   ]
  },
  {
   "cell_type": "markdown",
   "id": "distributed-static",
   "metadata": {},
   "source": [
    "## Extract Tissue sample from columns (healthy or tumor)\n",
    "and then stick that into a panda series (single column dataframe). This is out \"Y\" while the df1 which contains all the genes is our \"X\".\n",
    "\n",
    "We can do this since the \"X\" and \"y\" align via index. \n",
    "\n",
    "E.g 3rd row in df1 (TCGA.A6.2684_Healthy) has target  of \"healthy\" in Y!"
   ]
  },
  {
   "cell_type": "code",
   "execution_count": 6,
   "id": "temporal-january",
   "metadata": {},
   "outputs": [],
   "source": [
    "# Create Target vector\n",
    "target=[]\n",
    "sample_names=[]\n",
    "\n",
    "# loop through and extract tumor + healthy\n",
    "for i in samples:\n",
    "    \n",
    "    temp=i.split('_')[1] # Split string using \"_\"\n",
    "    #remove numbers at end (if they have it)\n",
    "    if temp[-1].isnumeric():\n",
    "        temp=temp[:-1]\n",
    "    \n",
    "    target.append(temp)# save tissues type to list (in order)\n",
    "\n",
    "        \n",
    "# Convert to Panda Series\n",
    "target=pd.Series(target,name='Tissue')"
   ]
  },
  {
   "cell_type": "code",
   "execution_count": 7,
   "id": "visible-sunglasses",
   "metadata": {},
   "outputs": [],
   "source": [
    "# Convert to binary tumor=(1) + healthy=(0)\n",
    "target_binary=[]\n",
    "for i in target:\n",
    "    if i=='Healthy':\n",
    "        target_binary.append(0)\n",
    "    else:\n",
    "        target_binary.append(1)\n",
    "        \n",
    "# Convert to Panda Series\n",
    "target_binary=pd.Series(target_binary)"
   ]
  },
  {
   "cell_type": "code",
   "execution_count": 8,
   "id": "exposed-department",
   "metadata": {},
   "outputs": [],
   "source": [
    "# create colors labels for PCA\n",
    "colors=[]\n",
    "for i in target_binary:\n",
    "    if i ==1:\n",
    "        colors.append('orange')\n",
    "    else:\n",
    "        colors.append('blue')\n",
    "    "
   ]
  },
  {
   "cell_type": "markdown",
   "id": "superb-brand",
   "metadata": {},
   "source": [
    "# Visualize Data"
   ]
  },
  {
   "cell_type": "code",
   "execution_count": 22,
   "id": "superior-brick",
   "metadata": {},
   "outputs": [
    {
     "data": {
      "text/plain": [
       "Text(0, 0.5, 'Component 2')"
      ]
     },
     "execution_count": 22,
     "metadata": {},
     "output_type": "execute_result"
    },
    {
     "data": {
      "image/png": "[encoded data removed]",
      "text/plain": [
       "<Figure size 432x288 with 1 Axes>"
      ]
     },
     "metadata": {
      "needs_background": "light"
     },
     "output_type": "display_data"
    }
   ],
   "source": [
    "# Generate Colors + numbers\n",
    "num_list=range(0,54)\n",
    "\n",
    "# PCA \n",
    "pca = PCA(n_components=2)\n",
    "X_r = pca.fit(df_log).transform(df_log)\n",
    "# Plot\n",
    "\n",
    "for color, i, target_name in zip(colors, num_list, samples):\n",
    "    plt.scatter(X_r[i,0], X_r[i,1], color=color, alpha=.8, lw=2,\n",
    "                label=target_name)\n",
    "    \n",
    "    \n",
    "plt.title('PCA of Samples Using All Genes', fontsize=18, fontweight='black', color = '#333F4B')\n",
    "plt.axvline(x=0,linestyle='--',c='k')\n",
    "plt.axhline(y=0,linestyle='--',c='k')\n",
    "plt.tick_params(axis='y', which='major', labelsize=14)\n",
    "plt.tick_params(axis='x', which='major', labelsize=14)\n",
    "plt.grid(True)\n",
    "plt.xlabel('Component 1', fontsize=14, fontweight='black', color = '#333F4B')\n",
    "plt.ylabel('Component 2', fontsize=14, fontweight='black', color = '#333F4B')\n"
   ]
  },
  {
   "cell_type": "code",
   "execution_count": 28,
   "id": "incorrect-enforcement",
   "metadata": {},
   "outputs": [
    {
     "data": {
      "text/plain": [
       "Text(0, 0.5, 'Component 2')"
      ]
     },
     "execution_count": 28,
     "metadata": {},
     "output_type": "execute_result"
    },
    {
     "data": {
      "image/png": "[encoded data removed]",
      "text/plain": [
       "<Figure size 432x288 with 1 Axes>"
      ]
     },
     "metadata": {
      "needs_background": "light"
     },
     "output_type": "display_data"
    }
   ],
   "source": [
    "# Generate Colors + numbers\n",
    "num_list=range(0,54)\n",
    "\n",
    "# PCA \n",
    "pca = PCA(n_components=2)\n",
    "X_r = pca.fit(df_gene_sig).transform(df_gene_sig)\n",
    "# Plot\n",
    "\n",
    "for color, i, target_name in zip(colors, num_list, samples):\n",
    "    plt.scatter(X_r[i,0], X_r[i,1], color=color, alpha=.8, lw=2,\n",
    "                label=target_name)\n",
    "    \n",
    "    \n",
    "plt.title('PCA of Samples Using Gene Signature', fontsize=18, fontweight='black', color = '#333F4B')\n",
    "plt.axvline(x=0,linestyle='--',c='k')\n",
    "plt.axhline(y=0,linestyle='--',c='k')\n",
    "plt.tick_params(axis='y', which='major', labelsize=14)\n",
    "plt.tick_params(axis='x', which='major', labelsize=14)\n",
    "plt.grid(True)\n",
    "plt.xlabel('Component 1', fontsize=14, fontweight='black', color = '#333F4B')\n",
    "plt.ylabel('Component 2', fontsize=14, fontweight='black', color = '#333F4B')"
   ]
  },
  {
   "cell_type": "markdown",
   "id": "thousand-painting",
   "metadata": {},
   "source": [
    "### UMAP CLustering "
   ]
  },
  {
   "cell_type": "code",
   "execution_count": 11,
   "id": "little-wagon",
   "metadata": {},
   "outputs": [
    {
     "data": {
      "text/plain": [
       "(55, 2)"
      ]
     },
     "execution_count": 11,
     "metadata": {},
     "output_type": "execute_result"
    }
   ],
   "source": [
    "# UMap\n",
    "reducer = umap.UMAP()\n",
    "scaled_data = StandardScaler().fit_transform(df_log.values)\n",
    "embedding = reducer.fit_transform(scaled_data)\n",
    "embedding.shape"
   ]
  },
  {
   "cell_type": "code",
   "execution_count": 12,
   "id": "statewide-telescope",
   "metadata": {},
   "outputs": [
    {
     "data": {
      "text/plain": [
       "Text(0.5, 1.0, 'UMAP projection')"
      ]
     },
     "execution_count": 12,
     "metadata": {},
     "output_type": "execute_result"
    },
    {
     "data": {
      "image/png": "[encoded data removed]",
      "text/plain": [
       "<Figure size 432x288 with 1 Axes>"
      ]
     },
     "metadata": {
      "needs_background": "light"
     },
     "output_type": "display_data"
    }
   ],
   "source": [
    "plt.scatter(embedding[:, 0], embedding[:, 1],c=colors)\n",
    "plt.gca().set_aspect('equal', 'datalim')\n",
    "plt.title('UMAP projection', fontsize=24)"
   ]
  },
  {
   "cell_type": "markdown",
   "id": "continuing-catalog",
   "metadata": {},
   "source": [
    "### TSNE Clustering"
   ]
  },
  {
   "cell_type": "code",
   "execution_count": 13,
   "id": "modified-delicious",
   "metadata": {},
   "outputs": [
    {
     "name": "stdout",
     "output_type": "stream",
     "text": [
      "[t-SNE] Computing 54 nearest neighbors...\n",
      "[t-SNE] Indexed 55 samples in 0.001s...\n",
      "[t-SNE] Computed neighbors for 55 samples in 0.005s...\n",
      "[t-SNE] Computed conditional probabilities for sample 55 / 55\n",
      "[t-SNE] Mean sigma: 88.052225\n",
      "[t-SNE] KL divergence after 250 iterations with early exaggeration: 48.726910\n",
      "[t-SNE] KL divergence after 300 iterations: 0.794427\n"
     ]
    }
   ],
   "source": [
    "tsne = TSNE(n_components=2, verbose=1, perplexity=40, n_iter=300)\n",
    "tsne_results = tsne.fit_transform(df_log)\n"
   ]
  },
  {
   "cell_type": "code",
   "execution_count": 14,
   "id": "arctic-education",
   "metadata": {},
   "outputs": [
    {
     "data": {
      "text/plain": [
       "Text(0.5, 1.0, 'TSNE')"
      ]
     },
     "execution_count": 14,
     "metadata": {},
     "output_type": "execute_result"
    },
    {
     "data": {
      "image/png": "[encoded data removed]",
      "text/plain": [
       "<Figure size 432x288 with 1 Axes>"
      ]
     },
     "metadata": {
      "needs_background": "light"
     },
     "output_type": "display_data"
    }
   ],
   "source": [
    "df_log['tsne-2d-one'] = tsne_results[:,0]\n",
    "df_log['tsne-2d-two'] = tsne_results[:,1]\n",
    "plt.scatter(df_log['tsne-2d-one'],df_log['tsne-2d-two'],c=colors)\n",
    "plt.title('TSNE', fontsize=24)"
   ]
  },
  {
   "cell_type": "markdown",
   "id": "verified-sterling",
   "metadata": {},
   "source": [
    "## Split Data - K Folds Cross Validation"
   ]
  },
  {
   "cell_type": "code",
   "execution_count": 15,
   "id": "informational-style",
   "metadata": {},
   "outputs": [
    {
     "name": "stdout",
     "output_type": "stream",
     "text": [
      "(55, 16895)\n",
      "(55,)\n",
      "(55, 29)\n"
     ]
    }
   ],
   "source": [
    "print(np.shape(df_log))\n",
    "print(np.shape(target_binary))\n",
    "print(np.shape(df_gene_sig))"
   ]
  },
  {
   "cell_type": "markdown",
   "id": "renewable-spencer",
   "metadata": {},
   "source": [
    "This just shows the sizes of the different matrix(s)"
   ]
  },
  {
   "cell_type": "markdown",
   "id": "happy-consumer",
   "metadata": {},
   "source": [
    "(rows=patients,genes=columns)"
   ]
  },
  {
   "cell_type": "markdown",
   "id": "dangerous-intent",
   "metadata": {},
   "source": [
    "### Split into testing and training data first"
   ]
  },
  {
   "cell_type": "code",
   "execution_count": 16,
   "id": "specific-harvard",
   "metadata": {},
   "outputs": [
    {
     "name": "stdout",
     "output_type": "stream",
     "text": [
      "Our Training Data Set has 40 patient samples\n",
      "Our Testing Data Set has 15 patient samples\n"
     ]
    }
   ],
   "source": [
    "# Split Into Training and Test Data\n",
    "x_train, x_test, y_train, y_test = train_test_split(df_gene_sig, target_binary, test_size=15,shuffle=True, random_state=12)\n",
    "# display size of \n",
    "print('Our Training Data Set has %d patient samples'%(np.shape(x_train)[0]))\n",
    "print('Our Testing Data Set has %d patient samples'%(np.shape(x_test)[0]))"
   ]
  },
  {
   "cell_type": "markdown",
   "id": "forbidden-mapping",
   "metadata": {},
   "source": [
    "### Split traing Data further into K- Folds"
   ]
  },
  {
   "cell_type": "code",
   "execution_count": 17,
   "id": "least-arnold",
   "metadata": {},
   "outputs": [
    {
     "name": "stdout",
     "output_type": "stream",
     "text": [
      "TRAIN: [ 0  1  2  3  4  5  6  7  8  9 10 11 12 13 14 15 16 17 18 20 25 27 28 30\n",
      " 32 34 35 36 37 39] \n",
      "TEST: [19 21 22 23 24 26 29 31 33 38] \n",
      "\n",
      "TRAIN: [ 5  6  7  8  9 10 12 13 14 15 16 17 18 19 21 22 23 24 25 26 27 28 29 31\n",
      " 32 33 35 37 38 39] \n",
      "TEST: [ 0  1  2  3  4 11 20 30 34 36] \n",
      "\n",
      "TRAIN: [ 0  1  2  3  4  6  7  9 10 11 13 16 19 20 21 22 23 24 25 26 28 29 30 31\n",
      " 32 33 34 35 36 38] \n",
      "TEST: [ 5  8 12 14 15 17 18 27 37 39] \n",
      "\n",
      "TRAIN: [ 0  1  2  3  4  5  8 11 12 14 15 17 18 19 20 21 22 23 24 26 27 29 30 31\n",
      " 33 34 36 37 38 39] \n",
      "TEST: [ 6  7  9 10 13 16 25 28 32 35] \n",
      "\n"
     ]
    }
   ],
   "source": [
    "# Cross Fold Validation - Create 3 sets (from traing data)\n",
    "kf = KFold(n_splits = 4)                      \n",
    "skf = StratifiedKFold(n_splits = 4, random_state = 12, shuffle = True) # Generates indicies\n",
    "\n",
    "# This code would be used in the ML algorithm\n",
    "# Show Each Fold (indicies)\n",
    "for train_index, test_index in skf.split(x_train, y_train):\n",
    "    \n",
    "    # Insert ML code here\n",
    "    #\n",
    "    # Example code on how to get data from indicies\n",
    "    # x_train.iloc[train_index]\n",
    "    #\n",
    "    \n",
    "    print(\"TRAIN:\", train_index, \"\\nTEST:\", test_index,'\\n') # used to show indexes\n",
    "    #print(y_train.iloc[train_index].value_counts())"
   ]
  },
  {
   "cell_type": "markdown",
   "id": "included-throat",
   "metadata": {},
   "source": [
    "ABove code doesn't do anything or than show indexes of each K-Fold "
   ]
  },
  {
   "cell_type": "markdown",
   "id": "warming-watts",
   "metadata": {},
   "source": [
    "# Deep Learning"
   ]
  },
  {
   "cell_type": "code",
   "execution_count": 35,
   "id": "academic-apple",
   "metadata": {},
   "outputs": [],
   "source": [
    "# Creating Model\n",
    "# create model for larger gene set\n",
    "def baseline_model():\n",
    "   # create model\n",
    "    model = Sequential()\n",
    "    model.add(Dense(64, input_dim=16893, activation='relu'))\n",
    "    model.add(Dense(64, activation='relu'))\n",
    "    model.add(Dense(64, activation='relu'))\n",
    "    model.add(Dense(8, activation='relu'))\n",
    "    model.add(Dense(1, activation='sigmoid'))\n",
    "    # Compile model\n",
    "    model.compile(loss='Hinge', optimizer='Nadam', metrics=['accuracy'])\n",
    "    return model"
   ]
  },
  {
   "cell_type": "code",
   "execution_count": 71,
   "id": "consistent-association",
   "metadata": {},
   "outputs": [],
   "source": [
    "# Creating Model\n",
    "\n",
    "# create model for small gene set\n",
    "def baseline_model():\n",
    "   # create model\n",
    "    model = Sequential()\n",
    "    model.add(Dense(8, input_dim=29, activation='relu'))\n",
    "    model.add(Dense(10, activation='relu'))\n",
    "    model.add(Dense(4, activation='relu'))\n",
    "    model.add(Dense(1, activation='sigmoid'))\n",
    "    # Compile model\n",
    "    model.compile(loss='binary_crossentropy', optimizer='Adam', metrics=['accuracy'])\n",
    "    return model"
   ]
  },
  {
   "cell_type": "code",
   "execution_count": 72,
   "id": "bridal-general",
   "metadata": {},
   "outputs": [
    {
     "name": "stdout",
     "output_type": "stream",
     "text": [
      "\n",
      "Fold Number: 1\n",
      "[[ 0 19]\n",
      " [ 0 21]]\n",
      "Accuracy: 0.4667\n",
      "AUC: 0.5000\n",
      "\n",
      "Fold Number: 2\n",
      "[[12  7]\n",
      " [ 5 16]]\n",
      "Accuracy: 0.6222\n",
      "AUC: 0.6967\n",
      "\n",
      "Fold Number: 3\n",
      "[[ 2 17]\n",
      " [ 0 21]]\n",
      "Accuracy: 0.5111\n",
      "AUC: 0.5526\n",
      "\n",
      "Fold Number: 4\n",
      "[[ 0 19]\n",
      " [ 0 21]]\n",
      "Accuracy: 0.4667\n",
      "AUC: 0.5000\n",
      "\n",
      "Test Data:\n",
      "[[ 0  5]\n",
      " [ 0 10]]\n",
      "Accuracy: 0.6667\n",
      "AUC: 0.5000\n",
      "\n",
      "Overall Acc is:\n",
      "0.5167\n"
     ]
    },
    {
     "data": {
      "text/plain": [
       "[<matplotlib.lines.Line2D at 0x7fa1dc1b1280>]"
      ]
     },
     "execution_count": 72,
     "metadata": {},
     "output_type": "execute_result"
    },
    {
     "data": {
      "image/png": "[encoded data removed]",
      "text/plain": [
       "<Figure size 432x288 with 1 Axes>"
      ]
     },
     "metadata": {
      "needs_background": "light"
     },
     "output_type": "display_data"
    }
   ],
   "source": [
    "# Using K-Fold - Deep Learning Model\n",
    "\n",
    "# Intialize Model\n",
    "estimator = KerasClassifier(build_fn=baseline_model, epochs=100, batch_size=10, verbose=0)\n",
    "\n",
    "# Intialize counter + Total Accuarcy\n",
    "c=1\n",
    "acc_tot=0\n",
    "\n",
    "# Loop through 4 - K folds and train model \n",
    "for train_index, test_index in skf.split(x_train, y_train):\n",
    "    print('\\nFold Number: %d'%(c))\n",
    "    \n",
    "    # Get nth fold data (from before where we print out index)\n",
    "    X=x_train.iloc[train_index]\n",
    "    Y=y_train.iloc[train_index]\n",
    "    \n",
    "    # Train model using fold data\n",
    "    estimator.fit(X, Y)\n",
    "    # Get results of TRAIN data\n",
    "    results=estimator.predict(x_train)\n",
    "    \n",
    "    # Create Confusion matrix using prediction + truth \n",
    "    cm=confusion_matrix(y_train, results)\n",
    "    # Generate ROC Curve\n",
    "    fpr_kera, tpr_kera, thresholds_rf = roc_curve(y_train, results)\n",
    "    # Calculate AUC (Area under the ROC Curve )\n",
    "    auc_k = auc(fpr_kera, tpr_kera)\n",
    "    \n",
    "    # Generate label for this fold's line in plot\n",
    "    lab='Fold#:'+str(c)\n",
    "    # Plot ROC line for this fild\n",
    "    plt.plot(fpr_kera, tpr_kera, label=lab)\n",
    "    \n",
    "    # Calculate Accuracy and print results for fold\n",
    "    acc=round((cm[1,1]+cm[0,0])/45,4)\n",
    "    print(cm)\n",
    "    print('Accuracy:',acc)\n",
    "    print('AUC: %.4f'%(auc_k))\n",
    "    acc_tot=acc_tot+acc\n",
    "    c+=1\n",
    "\n",
    "\n",
    "# Test Set - now that we've trained, we can now use test set to\n",
    "print('\\nTest Data:')\n",
    "\n",
    "# run it foward - to predict using TEST\n",
    "results=estimator.predict(x_test)\n",
    "\n",
    "# Create Confusion matrix using prediction + truth \n",
    "cm=confusion_matrix(y_test, results)\n",
    "# Generate ROC Curve \n",
    "fpr_kera, tpr_kera, thresholds_rf = roc_curve(y_test, results)\n",
    "# Calculate AUC (Area under the ROC Curve )\n",
    "auc_k = auc(fpr_kera, tpr_kera)\n",
    "\n",
    "# label for plot\n",
    "lab='Test'\n",
    "plt.plot(fpr_kera, tpr_kera, label=lab)\n",
    "\n",
    "# show results FOR TEST + Overall Train\n",
    "print(cm)\n",
    "print('Accuracy:',round((cm[1,1]+cm[0,0])/15,4))\n",
    "print('AUC: %.4f'%(auc_k))\n",
    "print('\\nOverall Acc is:\\n%.4f'%(acc_tot/4))\n",
    "\n",
    "# plot adjustment\n",
    "plt.legend()\n",
    "plt.plot([0, 1], [0, 1],'r--',linewidth=2.5)"
   ]
  },
  {
   "cell_type": "markdown",
   "id": "duplicate-calculator",
   "metadata": {},
   "source": [
    "## Saving Models\n",
    "Here we dave the best trained model for later "
   ]
  },
  {
   "cell_type": "code",
   "execution_count": null,
   "id": "unexpected-holly",
   "metadata": {},
   "outputs": [],
   "source": [
    "#estimator.model.save('/stor/home/js88749/')"
   ]
  },
  {
   "cell_type": "markdown",
   "id": "alone-profession",
   "metadata": {},
   "source": [
    "## Load Model and Test"
   ]
  },
  {
   "cell_type": "code",
   "execution_count": 79,
   "id": "intended-investment",
   "metadata": {},
   "outputs": [],
   "source": [
    "model = keras.models.load_model('/stor/home/js88749/assets')\n",
    "# Load in the best trained model"
   ]
  },
  {
   "cell_type": "code",
   "execution_count": 81,
   "id": "authentic-thomson",
   "metadata": {},
   "outputs": [],
   "source": [
    "# Split Into Training and Test Data\n",
    "x_train, x_test, y_train, y_test = train_test_split(df_gene_sig, target_binary, test_size=15,shuffle=True, random_state=12)\n",
    "kf = KFold(n_splits = 4)                      \n",
    "skf = StratifiedKFold(n_splits = 4, random_state = 12, shuffle = True) # Generates indicies\n"
   ]
  },
  {
   "cell_type": "code",
   "execution_count": 82,
   "id": "occupied-reynolds",
   "metadata": {},
   "outputs": [
    {
     "name": "stdout",
     "output_type": "stream",
     "text": [
      "\n",
      "Test Data:\n",
      "[[4 1]\n",
      " [2 8]]\n",
      "Accuracy: 0.8\n",
      "AUC: 0.8000\n"
     ]
    },
    {
     "data": {
      "text/plain": [
       "[<matplotlib.lines.Line2D at 0x7fa1d0330940>]"
      ]
     },
     "execution_count": 82,
     "metadata": {},
     "output_type": "execute_result"
    },
    {
     "data": {
      "image/png": "[encoded data removed]",
      "text/plain": [
       "<Figure size 432x288 with 1 Axes>"
      ]
     },
     "metadata": {
      "needs_background": "light"
     },
     "output_type": "display_data"
    }
   ],
   "source": [
    "# Test Set, in this case we only test (not train) - just to make sure model loaded\n",
    "print('\\nTest Data:')\n",
    "\n",
    "# run it foward and predict\n",
    "results=model.predict(x_test)\n",
    "res=[]\n",
    "# results are in decimal and need to be converted to binary\n",
    "for i in results:\n",
    "    if i <0.5 :\n",
    "        res.append(0)\n",
    "    else:\n",
    "        res.append(1)\n",
    "        \n",
    "# Create Confusion matrix using prediction + truth \n",
    "cm=confusion_matrix(y_test, res)\n",
    "# Create ROC curve\n",
    "fpr_kera, tpr_kera, thresholds_rf = roc_curve(y_test, res)\n",
    "# Calculate AUC (Area under the ROC Curve )\n",
    "auc_k = auc(fpr_kera, tpr_kera)\n",
    "# create label and plot\n",
    "lab='Test'\n",
    "plt.plot(fpr_kera, tpr_kera, label=lab)\n",
    "\n",
    "# show results\n",
    "print(cm)\n",
    "print('Accuracy:',round((cm[1,1]+cm[0,0])/15,4))\n",
    "print('AUC: %.4f'%(auc_k))\n",
    "\n",
    "# plot \n",
    "plt.legend()\n",
    "plt.plot([0, 1], [0, 1],'r--',linewidth=2.5)"
   ]
  },
  {
   "cell_type": "markdown",
   "id": "constant-intention",
   "metadata": {},
   "source": [
    "# Exploring Further\n",
    "In this section, I create a new model using a larger random gene set! The motivation behind this is to find new genes (outside of the gene signature that can be used as possible markers). \n",
    "\n",
    "Using the entire gene set is not ideal because:\n",
    "1. It is way too large with not enough samples ~17,000 genes for 55 samples. Makes it hard to train computationally, and has too much variance\n",
    "2. Using the smaller gene siganture from litature had strong potential but is limited by its small size."
   ]
  },
  {
   "cell_type": "markdown",
   "id": "forced-defeat",
   "metadata": {},
   "source": [
    "# Train Model with random genes"
   ]
  },
  {
   "cell_type": "code",
   "execution_count": 76,
   "id": "catholic-knight",
   "metadata": {},
   "outputs": [],
   "source": [
    "# Getting Random genes\n",
    "gene_sig=['TREML2', 'PTPRN', 'PGLYRP1', 'NOG', 'VIP',\\\n",
    "    'RIMKLB', 'NKAIN4', 'FAM171B', 'ZNF417', 'GLRA2', 'HOXA7', 'FABP6', 'MUSK',\\\n",
    "    'HTR6', 'GRIP2', 'VEGFA', 'AKAP12', 'RHEB', 'PMEPA1','GLTP', 'METTL7A',\\\n",
    "    'CITED2', 'SCARA5', 'CDH3','IL6R', 'PKIB', 'GLP2R', 'EPB41L3', 'NR3C2']\n",
    "num_genes=100-len(gene_sig)\n",
    "genes=df_log.columns.to_list()\n",
    "# generate random genes\n",
    "n = random.sample(range(0, len(genes)), num_genes)\n",
    "rand_genes=[genes[i] for i in n]\n",
    "# subset dataset\n",
    "rand_df=df_log[rand_genes+gene_sig].copy()\n"
   ]
  },
  {
   "cell_type": "code",
   "execution_count": 77,
   "id": "coated-scientist",
   "metadata": {},
   "outputs": [],
   "source": [
    "# SPlit data\n",
    "# Split Into Training and Test Data\n",
    "x_train, x_test, y_train, y_test = train_test_split(rand_df, target_binary, test_size=15,shuffle=True, random_state=12)\n",
    "kf = KFold(n_splits = 4)                      \n",
    "skf = StratifiedKFold(n_splits = 4, random_state = 12, shuffle = True) # Generates indicies\n"
   ]
  },
  {
   "cell_type": "code",
   "execution_count": 95,
   "id": "usual-meter",
   "metadata": {},
   "outputs": [],
   "source": [
    "# Creating Model\n",
    "\n",
    "# define baseline model\n",
    "# create model\n",
    "def baseline_model():\n",
    "   # create model\n",
    "    model = Sequential()\n",
    "    model.add(Dense(64, input_dim=100, activation='relu'))\n",
    "    model.add(Dropout(0.2))\n",
    "    model.add(Dense(16, activation='relu'))\n",
    "    model.add(Dense(32, activation='relu'))\n",
    "    model.add(Dense(4, activation='relu'))\n",
    "    model.add(Dense(1, activation='sigmoid'))\n",
    "    # Compile model\n",
    "    model.compile(loss='binary_crossentropy', optimizer='Adam', metrics=['accuracy'])\n",
    "    return model"
   ]
  },
  {
   "cell_type": "code",
   "execution_count": 96,
   "id": "surface-louis",
   "metadata": {},
   "outputs": [],
   "source": [
    "estimator = KerasClassifier(build_fn=baseline_model, epochs=200, batch_size=10, verbose=0)"
   ]
  },
  {
   "cell_type": "code",
   "execution_count": 97,
   "id": "identified-coordinate",
   "metadata": {},
   "outputs": [
    {
     "name": "stdout",
     "output_type": "stream",
     "text": [
      "\n",
      "Fold Number: 1\n",
      "[[19  0]\n",
      " [ 5 16]]\n",
      "Accuracy: 0.7778\n",
      "AUC: 0.8810\n",
      "\n",
      "Fold Number: 2\n",
      "[[14  5]\n",
      " [ 3 18]]\n",
      "Accuracy: 0.7111\n",
      "AUC: 0.7970\n",
      "\n",
      "Fold Number: 3\n",
      "[[17  2]\n",
      " [ 3 18]]\n",
      "Accuracy: 0.7778\n",
      "AUC: 0.8759\n",
      "\n",
      "Fold Number: 4\n",
      "[[11  8]\n",
      " [ 1 20]]\n",
      "Accuracy: 0.6889\n",
      "AUC: 0.7657\n",
      "\n",
      "Test Data:\n",
      "[[2 3]\n",
      " [4 6]]\n",
      "Accuracy: 0.5333\n",
      "AUC: 0.5000\n",
      "\n",
      "Overall Acc is:\n",
      "0.7389\n"
     ]
    },
    {
     "data": {
      "text/plain": [
       "[<matplotlib.lines.Line2D at 0x7fb0fc4ba880>]"
      ]
     },
     "execution_count": 97,
     "metadata": {},
     "output_type": "execute_result"
    },
    {
     "data": {
      "image/png": "[encoded data removed]",
      "text/plain": [
       "<Figure size 432x288 with 1 Axes>"
      ]
     },
     "metadata": {
      "needs_background": "light"
     },
     "output_type": "display_data"
    }
   ],
   "source": [
    "# Using K-Fold\n",
    "\n",
    "\n",
    "c=1\n",
    "acc_tot=0\n",
    "for train_index, test_index in skf.split(x_train, y_train):\n",
    "    print('\\nFold Number: %d'%(c))\n",
    "    X=x_train.iloc[train_index]\n",
    "    Y=y_train.iloc[train_index]\n",
    "    estimator.fit(X, Y)\n",
    "    results=estimator.predict(x_train)\n",
    "    \n",
    "    cm=confusion_matrix(y_train, results)\n",
    "    # ROC \n",
    "    fpr_kera, tpr_kera, thresholds_rf = roc_curve(y_train, results)\n",
    "    auc_k = auc(fpr_kera, tpr_kera)\n",
    "    lab='Fold#:'+str(c)\n",
    "    plt.plot(fpr_kera, tpr_kera, label=lab)\n",
    "    acc=round((cm[1,1]+cm[0,0])/45,4)\n",
    "    print(cm)\n",
    "    print('Accuracy:',acc)\n",
    "    print('AUC: %.4f'%(auc_k))\n",
    "    acc_tot=acc_tot+acc\n",
    "    c+=1\n",
    "\n",
    "\n",
    "# Test Set\n",
    "print('\\nTest Data:')\n",
    "\n",
    "# run it foward\n",
    "results=estimator.predict(x_test)\n",
    "cm=confusion_matrix(y_test, results)\n",
    "# ROC \n",
    "fpr_kera, tpr_kera, thresholds_rf = roc_curve(y_test, results)\n",
    "auc_k = auc(fpr_kera, tpr_kera)\n",
    "lab='Test'\n",
    "plt.plot(fpr_kera, tpr_kera, label=lab)\n",
    "\n",
    "# show results\n",
    "print(cm)\n",
    "print('Accuracy:',round((cm[1,1]+cm[0,0])/15,4))\n",
    "print('AUC: %.4f'%(auc_k))\n",
    "print('\\nOverall Acc is:\\n%.4f'%(acc_tot/4))\n",
    "\n",
    "# plot \n",
    "plt.legend()\n",
    "plt.plot([0, 1], [0, 1],'r--',linewidth=2.5)"
   ]
  },
  {
   "cell_type": "code",
   "execution_count": 61,
   "id": "original-steering",
   "metadata": {},
   "outputs": [
    {
     "data": {
      "text/plain": [
       "['C1orf50',\n",
       " 'PITX1',\n",
       " 'TRUB1',\n",
       " 'INSM1',\n",
       " 'SLPI',\n",
       " 'SUOX',\n",
       " 'MRPL2',\n",
       " 'RXFP4',\n",
       " 'NDUFA13',\n",
       " 'RNF128',\n",
       " 'DESI2',\n",
       " 'F2R',\n",
       " 'DMXL1',\n",
       " 'SIGIRR',\n",
       " 'PPIB',\n",
       " 'ADAM33',\n",
       " 'FBXO28',\n",
       " 'AQP9',\n",
       " 'ALDOC',\n",
       " 'RNA5SP37',\n",
       " 'SESN1',\n",
       " 'HINT2',\n",
       " 'PANX1',\n",
       " 'GTF2E2',\n",
       " 'NCMAP',\n",
       " 'GLDC',\n",
       " 'FHOD3',\n",
       " 'KRT16',\n",
       " 'FSCN3',\n",
       " 'SIGLEC10',\n",
       " 'CASQ1',\n",
       " 'SYVN1',\n",
       " 'ZSWIM3',\n",
       " 'C1orf115',\n",
       " 'SMURF1',\n",
       " 'APRT',\n",
       " 'FAR2P2',\n",
       " 'DNASE2',\n",
       " 'SOCS6',\n",
       " 'HACD2',\n",
       " 'ARL14',\n",
       " 'CARMIL1',\n",
       " 'ZMPSTE24',\n",
       " 'ADAM10',\n",
       " 'ANKRD13A',\n",
       " 'THOC7',\n",
       " 'RBPMS',\n",
       " 'CYP39A1',\n",
       " 'GJB5',\n",
       " 'SP2',\n",
       " 'ZNF485',\n",
       " 'C3orf70',\n",
       " 'TMIGD3',\n",
       " 'DUSP1',\n",
       " 'MEOX2',\n",
       " 'TSPYL5',\n",
       " 'CDHR2',\n",
       " 'LMO4',\n",
       " 'ADARB2',\n",
       " 'ATXN10',\n",
       " 'METTL15',\n",
       " 'BNIPL',\n",
       " 'MTERF1',\n",
       " 'C12orf4',\n",
       " 'NR0B2',\n",
       " 'TNFRSF1B',\n",
       " 'RSKR',\n",
       " 'GRIPAP1',\n",
       " 'SLC35F3',\n",
       " 'RNU6-37P',\n",
       " 'MIR1-1HG-AS1']"
      ]
     },
     "execution_count": 61,
     "metadata": {},
     "output_type": "execute_result"
    }
   ],
   "source": [
    "rand_genes"
   ]
  },
  {
   "cell_type": "markdown",
   "id": "associate-newcastle",
   "metadata": {},
   "source": [
    "## Testing"
   ]
  },
  {
   "cell_type": "code",
   "execution_count": 88,
   "id": "enormous-arnold",
   "metadata": {},
   "outputs": [
    {
     "name": "stdout",
     "output_type": "stream",
     "text": [
      "\n",
      "Fold Number: 1\n",
      "[[ 8  7]\n",
      " [10  5]]\n",
      "Accuracy: 0.2889\n",
      "AUC: 0.4333\n",
      "\n",
      "Fold Number: 2\n",
      "[[10  4]\n",
      " [12  4]]\n",
      "Accuracy: 0.3111\n",
      "AUC: 0.4821\n",
      "\n",
      "Fold Number: 3\n",
      "[[ 8  6]\n",
      " [10  6]]\n",
      "Accuracy: 0.3111\n",
      "AUC: 0.4732\n",
      "\n",
      "Fold Number: 4\n",
      "[[ 7  7]\n",
      " [13  3]]\n",
      "Accuracy: 0.2222\n",
      "AUC: 0.3438\n",
      "\n",
      "Overall Acc is:\n",
      "0.2833\n",
      "Overall AUC is:\n",
      "0.4331\n"
     ]
    },
    {
     "data": {
      "text/plain": [
       "[<matplotlib.lines.Line2D at 0x7fa1c8624880>]"
      ]
     },
     "execution_count": 88,
     "metadata": {},
     "output_type": "execute_result"
    },
    {
     "data": {
      "image/png": "[encoded data removed]",
      "text/plain": [
       "<Figure size 432x288 with 1 Axes>"
      ]
     },
     "metadata": {
      "needs_background": "light"
     },
     "output_type": "display_data"
    }
   ],
   "source": [
    "# Run model (condesned steps from before)\n",
    "c=1\n",
    "acc_tot=0\n",
    "auc_tot=0\n",
    "for train_index, test_index in skf.split(x_train, y_train):\n",
    "    print('\\nFold Number: %d'%(c))\n",
    "    X=x_train.iloc[train_index]\n",
    "    Y=y_train.iloc[train_index]\n",
    "    \n",
    "    results=model.predict(X)\n",
    "    res=[]\n",
    "    for i in results:\n",
    "        if i <0.5 :\n",
    "            res.append(0)\n",
    "        else:\n",
    "            res.append(1)\n",
    "    \n",
    "    cm=confusion_matrix(Y, res)\n",
    "    # ROC \n",
    "    fpr_kera, tpr_kera, thresholds_rf = roc_curve(Y, res)\n",
    "    auc_k = auc(fpr_kera, tpr_kera)\n",
    "    lab='Fold#:'+str(c)\n",
    "    plt.plot(fpr_kera, tpr_kera, label=lab)\n",
    "    acc=round((cm[1,1]+cm[0,0])/45,4)\n",
    "    print(cm)\n",
    "    print('Accuracy:',acc)\n",
    "    print('AUC: %.4f'%(auc_k))\n",
    "    acc_tot=acc_tot+acc\n",
    "    auc_tot=auc_tot+auc_k\n",
    "    c+=1\n",
    "\n",
    "\n",
    "# show results\n",
    "print('\\nOverall Acc is:\\n%.4f'%(acc_tot/4))\n",
    "print('Overall AUC is:\\n%.4f'%(auc_tot/4))\n",
    "\n",
    "# plot \n",
    "plt.legend()\n",
    "plt.plot([0, 1], [0, 1],'r--',linewidth=2.5)"
   ]
  }
 ],
 "metadata": {
  "kernelspec": {
   "display_name": "Python 3",
   "language": "python",
   "name": "python3"
  },
  "language_info": {
   "codemirror_mode": {
    "name": "ipython",
    "version": 3
   },
   "file_extension": ".py",
   "mimetype": "text/x-python",
   "name": "python",
   "nbconvert_exporter": "python",
   "pygments_lexer": "ipython3",
   "version": "3.8.5"
  }
 },
 "nbformat": 4,
 "nbformat_minor": 5
}
