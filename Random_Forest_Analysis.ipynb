{
 "cells": [
  {
   "cell_type": "markdown",
   "id": "wired-benchmark",
   "metadata": {},
   "source": [
    "# TCGA Random Forest Machine Learning"
   ]
  },
  {
   "cell_type": "code",
   "execution_count": 2,
   "id": "uniform-cleaners",
   "metadata": {},
   "outputs": [
    {
     "name": "stdout",
     "output_type": "stream",
     "text": [
      "sucess!\n"
     ]
    }
   ],
   "source": [
    "# Import Libraries\n",
    "import gzip\n",
    "import math\n",
    "import numpy as np\n",
    "import pandas as pd\n",
    "import seaborn as sns\n",
    "import matplotlib\n",
    "import matplotlib.pyplot as plt\n",
    "import random\n",
    "from scipy import stats\n",
    "from pprint import pprint\n",
    "\n",
    "# Import PCA libraries\n",
    "from sklearn.decomposition import PCA\n",
    "from sklearn.discriminant_analysis import LinearDiscriminantAnalysis\n",
    "from IPython.display import Image\n",
    "import umap\n",
    "from sklearn.manifold import TSNE\n",
    "from sklearn.cluster import KMeans\n",
    "from sklearn.preprocessing import StandardScaler\n",
    "from sklearn.metrics import silhouette_score\n",
    "\n",
    "# Import ML libraries\n",
    "\n",
    "from sklearn.model_selection import cross_val_score\n",
    "from sklearn.metrics import classification_report, confusion_matrix\n",
    "from sklearn.model_selection import train_test_split,KFold, StratifiedKFold\n",
    "from sklearn.ensemble import RandomForestClassifier\n",
    "from sklearn import model_selection\n",
    "from sklearn.model_selection import cross_val_score\n",
    "from sklearn.preprocessing import LabelEncoder\n",
    "from sklearn.pipeline import Pipeline\n",
    "from sklearn.metrics import confusion_matrix\n",
    "from sklearn.preprocessing import StandardScaler\n",
    "from sklearn.pipeline import Pipeline\n",
    "from sklearn.metrics import roc_curve, auc\n",
    "\n",
    "\n",
    "\n",
    "print(\"sucess!\")"
   ]
  },
  {
   "cell_type": "markdown",
   "id": "bacterial-eight",
   "metadata": {},
   "source": [
    "## Load in our data"
   ]
  },
  {
   "cell_type": "code",
   "execution_count": 3,
   "id": "naked-being",
   "metadata": {},
   "outputs": [
    {
     "data": {
      "text/html": [
       "<div>\n",
       "<style scoped>\n",
       "    .dataframe tbody tr th:only-of-type {\n",
       "        vertical-align: middle;\n",
       "    }\n",
       "\n",
       "    .dataframe tbody tr th {\n",
       "        vertical-align: top;\n",
       "    }\n",
       "\n",
       "    .dataframe thead th {\n",
       "        text-align: right;\n",
       "    }\n",
       "</style>\n",
       "<table border=\"1\" class=\"dataframe\">\n",
       "  <thead>\n",
       "    <tr style=\"text-align: right;\">\n",
       "      <th></th>\n",
       "      <th>TSPAN6</th>\n",
       "      <th>TNMD</th>\n",
       "      <th>DPM1</th>\n",
       "      <th>SCYL3</th>\n",
       "      <th>C1orf112</th>\n",
       "      <th>FGR</th>\n",
       "      <th>CFH</th>\n",
       "      <th>FUCA2</th>\n",
       "      <th>GCLC</th>\n",
       "      <th>NFYA</th>\n",
       "      <th>...</th>\n",
       "      <th>RPS3P6</th>\n",
       "      <th>GSTM2</th>\n",
       "      <th>ST13P11</th>\n",
       "      <th>RANP6</th>\n",
       "      <th>NAP1L1P3</th>\n",
       "      <th>LINC00671</th>\n",
       "      <th>GAPDHP71</th>\n",
       "      <th>COG8</th>\n",
       "      <th>EIF4E2P1</th>\n",
       "      <th>ARHGAP19</th>\n",
       "    </tr>\n",
       "  </thead>\n",
       "  <tbody>\n",
       "    <tr>\n",
       "      <th>TCGA.A6.5665_Tumor1</th>\n",
       "      <td>12.716704</td>\n",
       "      <td>4.833520</td>\n",
       "      <td>10.605669</td>\n",
       "      <td>9.666432</td>\n",
       "      <td>7.583105</td>\n",
       "      <td>7.746044</td>\n",
       "      <td>11.347351</td>\n",
       "      <td>11.594550</td>\n",
       "      <td>10.737055</td>\n",
       "      <td>10.027522</td>\n",
       "      <td>...</td>\n",
       "      <td>0.000000</td>\n",
       "      <td>8.526498</td>\n",
       "      <td>0.000000</td>\n",
       "      <td>0.938912</td>\n",
       "      <td>1.907370</td>\n",
       "      <td>2.481663</td>\n",
       "      <td>0.000000</td>\n",
       "      <td>9.736349</td>\n",
       "      <td>0.000000</td>\n",
       "      <td>8.861221</td>\n",
       "    </tr>\n",
       "    <tr>\n",
       "      <th>TCGA.AA.3662_Healthy</th>\n",
       "      <td>12.728542</td>\n",
       "      <td>4.440389</td>\n",
       "      <td>11.323393</td>\n",
       "      <td>9.904937</td>\n",
       "      <td>8.998116</td>\n",
       "      <td>7.706970</td>\n",
       "      <td>10.133867</td>\n",
       "      <td>12.214890</td>\n",
       "      <td>10.983066</td>\n",
       "      <td>10.429991</td>\n",
       "      <td>...</td>\n",
       "      <td>1.409756</td>\n",
       "      <td>7.478087</td>\n",
       "      <td>0.870630</td>\n",
       "      <td>1.409756</td>\n",
       "      <td>2.108974</td>\n",
       "      <td>0.870630</td>\n",
       "      <td>5.488914</td>\n",
       "      <td>9.867042</td>\n",
       "      <td>0.000000</td>\n",
       "      <td>8.487418</td>\n",
       "    </tr>\n",
       "    <tr>\n",
       "      <th>TCGA.A6.2684_Healthy</th>\n",
       "      <td>11.812955</td>\n",
       "      <td>5.701675</td>\n",
       "      <td>10.132944</td>\n",
       "      <td>9.498977</td>\n",
       "      <td>7.727813</td>\n",
       "      <td>8.735967</td>\n",
       "      <td>11.234999</td>\n",
       "      <td>11.428503</td>\n",
       "      <td>11.081855</td>\n",
       "      <td>10.148888</td>\n",
       "      <td>...</td>\n",
       "      <td>1.708694</td>\n",
       "      <td>9.612037</td>\n",
       "      <td>0.000000</td>\n",
       "      <td>0.000000</td>\n",
       "      <td>2.138477</td>\n",
       "      <td>4.077288</td>\n",
       "      <td>1.093779</td>\n",
       "      <td>10.020849</td>\n",
       "      <td>0.000000</td>\n",
       "      <td>9.067167</td>\n",
       "    </tr>\n",
       "    <tr>\n",
       "      <th>TCGA.A6.5659_Tumor1</th>\n",
       "      <td>14.650295</td>\n",
       "      <td>6.689371</td>\n",
       "      <td>11.628497</td>\n",
       "      <td>9.949801</td>\n",
       "      <td>9.991783</td>\n",
       "      <td>6.240809</td>\n",
       "      <td>9.251160</td>\n",
       "      <td>10.941951</td>\n",
       "      <td>12.294520</td>\n",
       "      <td>11.672900</td>\n",
       "      <td>...</td>\n",
       "      <td>0.000000</td>\n",
       "      <td>7.407009</td>\n",
       "      <td>0.000000</td>\n",
       "      <td>0.000000</td>\n",
       "      <td>4.465318</td>\n",
       "      <td>2.904814</td>\n",
       "      <td>0.000000</td>\n",
       "      <td>10.547631</td>\n",
       "      <td>9.220101</td>\n",
       "      <td>9.383200</td>\n",
       "    </tr>\n",
       "    <tr>\n",
       "      <th>TCGA.AA.3511_Healthy</th>\n",
       "      <td>12.432469</td>\n",
       "      <td>5.258396</td>\n",
       "      <td>12.154352</td>\n",
       "      <td>8.850606</td>\n",
       "      <td>8.023267</td>\n",
       "      <td>9.108951</td>\n",
       "      <td>11.370980</td>\n",
       "      <td>11.932527</td>\n",
       "      <td>11.113362</td>\n",
       "      <td>10.297657</td>\n",
       "      <td>...</td>\n",
       "      <td>2.661122</td>\n",
       "      <td>7.883856</td>\n",
       "      <td>0.916508</td>\n",
       "      <td>0.916508</td>\n",
       "      <td>2.185919</td>\n",
       "      <td>1.872878</td>\n",
       "      <td>3.648240</td>\n",
       "      <td>10.005464</td>\n",
       "      <td>0.000000</td>\n",
       "      <td>8.782451</td>\n",
       "    </tr>\n",
       "  </tbody>\n",
       "</table>\n",
       "<p>5 rows × 21083 columns</p>\n",
       "</div>"
      ],
      "text/plain": [
       "                         TSPAN6      TNMD       DPM1     SCYL3  C1orf112  \\\n",
       "TCGA.A6.5665_Tumor1   12.716704  4.833520  10.605669  9.666432  7.583105   \n",
       "TCGA.AA.3662_Healthy  12.728542  4.440389  11.323393  9.904937  8.998116   \n",
       "TCGA.A6.2684_Healthy  11.812955  5.701675  10.132944  9.498977  7.727813   \n",
       "TCGA.A6.5659_Tumor1   14.650295  6.689371  11.628497  9.949801  9.991783   \n",
       "TCGA.AA.3511_Healthy  12.432469  5.258396  12.154352  8.850606  8.023267   \n",
       "\n",
       "                           FGR        CFH      FUCA2       GCLC       NFYA  \\\n",
       "TCGA.A6.5665_Tumor1   7.746044  11.347351  11.594550  10.737055  10.027522   \n",
       "TCGA.AA.3662_Healthy  7.706970  10.133867  12.214890  10.983066  10.429991   \n",
       "TCGA.A6.2684_Healthy  8.735967  11.234999  11.428503  11.081855  10.148888   \n",
       "TCGA.A6.5659_Tumor1   6.240809   9.251160  10.941951  12.294520  11.672900   \n",
       "TCGA.AA.3511_Healthy  9.108951  11.370980  11.932527  11.113362  10.297657   \n",
       "\n",
       "                      ...    RPS3P6     GSTM2   ST13P11     RANP6  NAP1L1P3  \\\n",
       "TCGA.A6.5665_Tumor1   ...  0.000000  8.526498  0.000000  0.938912  1.907370   \n",
       "TCGA.AA.3662_Healthy  ...  1.409756  7.478087  0.870630  1.409756  2.108974   \n",
       "TCGA.A6.2684_Healthy  ...  1.708694  9.612037  0.000000  0.000000  2.138477   \n",
       "TCGA.A6.5659_Tumor1   ...  0.000000  7.407009  0.000000  0.000000  4.465318   \n",
       "TCGA.AA.3511_Healthy  ...  2.661122  7.883856  0.916508  0.916508  2.185919   \n",
       "\n",
       "                      LINC00671  GAPDHP71       COG8  EIF4E2P1  ARHGAP19  \n",
       "TCGA.A6.5665_Tumor1    2.481663  0.000000   9.736349  0.000000  8.861221  \n",
       "TCGA.AA.3662_Healthy   0.870630  5.488914   9.867042  0.000000  8.487418  \n",
       "TCGA.A6.2684_Healthy   4.077288  1.093779  10.020849  0.000000  9.067167  \n",
       "TCGA.A6.5659_Tumor1    2.904814  0.000000  10.547631  9.220101  9.383200  \n",
       "TCGA.AA.3511_Healthy   1.872878  3.648240  10.005464  0.000000  8.782451  \n",
       "\n",
       "[5 rows x 21083 columns]"
      ]
     },
     "execution_count": 3,
     "metadata": {},
     "output_type": "execute_result"
    }
   ],
   "source": [
    "# Load in Data + Trnasform Direction\n",
    "df=pd.read_csv('log2transformed_and_normalized_gene_expression_data.csv') # load\n",
    "df=df.transpose()\n",
    "\n",
    "genes=df.loc['Unnamed: 0'].to_list() # saves all genes as list\n",
    "df.columns=genes\n",
    "\n",
    "samples=df.index.to_list()\n",
    "samples=samples[1:] # removes the \"New_Gene\" Label\n",
    "\n",
    "df=df.drop(['Unnamed: 0']).reset_index(drop=True) # remove gene column \n",
    "df.index=samples # set index names \n",
    "\n",
    "df=df.astype(float) # weird nonsense step thats needed ~sometimes~\n",
    "df.head() # show results"
   ]
  },
  {
   "cell_type": "markdown",
   "id": "endangered-adobe",
   "metadata": {},
   "source": [
    "### Using Gene Signature"
   ]
  },
  {
   "cell_type": "code",
   "execution_count": 4,
   "id": "fossil-platform",
   "metadata": {},
   "outputs": [
    {
     "data": {
      "text/html": [
       "<div>\n",
       "<style scoped>\n",
       "    .dataframe tbody tr th:only-of-type {\n",
       "        vertical-align: middle;\n",
       "    }\n",
       "\n",
       "    .dataframe tbody tr th {\n",
       "        vertical-align: top;\n",
       "    }\n",
       "\n",
       "    .dataframe thead th {\n",
       "        text-align: right;\n",
       "    }\n",
       "</style>\n",
       "<table border=\"1\" class=\"dataframe\">\n",
       "  <thead>\n",
       "    <tr style=\"text-align: right;\">\n",
       "      <th></th>\n",
       "      <th>TREML2</th>\n",
       "      <th>PTPRN</th>\n",
       "      <th>PGLYRP1</th>\n",
       "      <th>NOG</th>\n",
       "      <th>VIP</th>\n",
       "      <th>RIMKLB</th>\n",
       "      <th>NKAIN4</th>\n",
       "      <th>FAM171B</th>\n",
       "      <th>ZNF417</th>\n",
       "      <th>GLRA2</th>\n",
       "      <th>...</th>\n",
       "      <th>GLTP</th>\n",
       "      <th>METTL7A</th>\n",
       "      <th>CITED2</th>\n",
       "      <th>SCARA5</th>\n",
       "      <th>CDH3</th>\n",
       "      <th>IL6R</th>\n",
       "      <th>PKIB</th>\n",
       "      <th>GLP2R</th>\n",
       "      <th>EPB41L3</th>\n",
       "      <th>NR3C2</th>\n",
       "    </tr>\n",
       "  </thead>\n",
       "  <tbody>\n",
       "    <tr>\n",
       "      <th>TCGA.A6.5665_Tumor1</th>\n",
       "      <td>5.163865</td>\n",
       "      <td>7.045953</td>\n",
       "      <td>0.000000</td>\n",
       "      <td>2.481663</td>\n",
       "      <td>10.630085</td>\n",
       "      <td>8.925217</td>\n",
       "      <td>3.970238</td>\n",
       "      <td>7.505138</td>\n",
       "      <td>7.438055</td>\n",
       "      <td>7.065840</td>\n",
       "      <td>...</td>\n",
       "      <td>12.320419</td>\n",
       "      <td>13.399920</td>\n",
       "      <td>11.965595</td>\n",
       "      <td>11.574300</td>\n",
       "      <td>5.235852</td>\n",
       "      <td>11.012812</td>\n",
       "      <td>12.250186</td>\n",
       "      <td>8.858374</td>\n",
       "      <td>11.055709</td>\n",
       "      <td>11.847057</td>\n",
       "    </tr>\n",
       "    <tr>\n",
       "      <th>TCGA.AA.3662_Healthy</th>\n",
       "      <td>4.494414</td>\n",
       "      <td>5.566627</td>\n",
       "      <td>1.409756</td>\n",
       "      <td>2.765371</td>\n",
       "      <td>8.883848</td>\n",
       "      <td>7.230001</td>\n",
       "      <td>4.134978</td>\n",
       "      <td>6.968887</td>\n",
       "      <td>7.122600</td>\n",
       "      <td>7.329957</td>\n",
       "      <td>...</td>\n",
       "      <td>11.079559</td>\n",
       "      <td>10.185072</td>\n",
       "      <td>10.063010</td>\n",
       "      <td>8.463916</td>\n",
       "      <td>12.636749</td>\n",
       "      <td>9.847715</td>\n",
       "      <td>8.060350</td>\n",
       "      <td>5.980358</td>\n",
       "      <td>8.926231</td>\n",
       "      <td>9.717484</td>\n",
       "    </tr>\n",
       "    <tr>\n",
       "      <th>TCGA.A6.2684_Healthy</th>\n",
       "      <td>5.130507</td>\n",
       "      <td>8.512218</td>\n",
       "      <td>3.625649</td>\n",
       "      <td>4.259210</td>\n",
       "      <td>11.042827</td>\n",
       "      <td>9.282183</td>\n",
       "      <td>4.077288</td>\n",
       "      <td>8.289738</td>\n",
       "      <td>7.466139</td>\n",
       "      <td>4.495193</td>\n",
       "      <td>...</td>\n",
       "      <td>11.973354</td>\n",
       "      <td>13.375031</td>\n",
       "      <td>12.171185</td>\n",
       "      <td>12.763005</td>\n",
       "      <td>5.176484</td>\n",
       "      <td>11.718993</td>\n",
       "      <td>12.312365</td>\n",
       "      <td>8.498709</td>\n",
       "      <td>12.099533</td>\n",
       "      <td>12.006744</td>\n",
       "    </tr>\n",
       "    <tr>\n",
       "      <th>TCGA.A6.5659_Tumor1</th>\n",
       "      <td>1.390835</td>\n",
       "      <td>4.106267</td>\n",
       "      <td>4.992032</td>\n",
       "      <td>3.805130</td>\n",
       "      <td>6.919465</td>\n",
       "      <td>9.289066</td>\n",
       "      <td>1.390835</td>\n",
       "      <td>8.249686</td>\n",
       "      <td>11.917585</td>\n",
       "      <td>10.136038</td>\n",
       "      <td>...</td>\n",
       "      <td>10.236458</td>\n",
       "      <td>10.887394</td>\n",
       "      <td>10.581628</td>\n",
       "      <td>7.474363</td>\n",
       "      <td>10.411630</td>\n",
       "      <td>7.447798</td>\n",
       "      <td>7.262062</td>\n",
       "      <td>3.627154</td>\n",
       "      <td>8.804561</td>\n",
       "      <td>9.454988</td>\n",
       "    </tr>\n",
       "    <tr>\n",
       "      <th>TCGA.AA.3511_Healthy</th>\n",
       "      <td>3.017981</td>\n",
       "      <td>6.444461</td>\n",
       "      <td>1.472531</td>\n",
       "      <td>2.850558</td>\n",
       "      <td>8.858903</td>\n",
       "      <td>8.409564</td>\n",
       "      <td>5.002881</td>\n",
       "      <td>8.382962</td>\n",
       "      <td>7.238352</td>\n",
       "      <td>4.877810</td>\n",
       "      <td>...</td>\n",
       "      <td>10.939757</td>\n",
       "      <td>11.527948</td>\n",
       "      <td>10.070021</td>\n",
       "      <td>8.283735</td>\n",
       "      <td>12.064537</td>\n",
       "      <td>9.143323</td>\n",
       "      <td>8.808388</td>\n",
       "      <td>4.787968</td>\n",
       "      <td>9.854585</td>\n",
       "      <td>9.599585</td>\n",
       "    </tr>\n",
       "    <tr>\n",
       "      <th>TCGA.AZ.6600_Healthy</th>\n",
       "      <td>3.977576</td>\n",
       "      <td>8.669881</td>\n",
       "      <td>3.160928</td>\n",
       "      <td>4.342888</td>\n",
       "      <td>12.103200</td>\n",
       "      <td>10.055780</td>\n",
       "      <td>4.171764</td>\n",
       "      <td>8.539548</td>\n",
       "      <td>7.494323</td>\n",
       "      <td>6.288557</td>\n",
       "      <td>...</td>\n",
       "      <td>11.844244</td>\n",
       "      <td>12.943214</td>\n",
       "      <td>11.804974</td>\n",
       "      <td>12.725764</td>\n",
       "      <td>5.604791</td>\n",
       "      <td>11.635214</td>\n",
       "      <td>11.966696</td>\n",
       "      <td>8.736652</td>\n",
       "      <td>11.906556</td>\n",
       "      <td>12.022857</td>\n",
       "    </tr>\n",
       "    <tr>\n",
       "      <th>TCGA.A6.5667_Tumor</th>\n",
       "      <td>4.634540</td>\n",
       "      <td>5.527445</td>\n",
       "      <td>2.394234</td>\n",
       "      <td>1.829520</td>\n",
       "      <td>7.228764</td>\n",
       "      <td>6.590308</td>\n",
       "      <td>4.584222</td>\n",
       "      <td>7.082368</td>\n",
       "      <td>7.953643</td>\n",
       "      <td>6.442794</td>\n",
       "      <td>...</td>\n",
       "      <td>11.128845</td>\n",
       "      <td>9.393930</td>\n",
       "      <td>12.342774</td>\n",
       "      <td>7.161718</td>\n",
       "      <td>12.650770</td>\n",
       "      <td>8.900208</td>\n",
       "      <td>10.341715</td>\n",
       "      <td>5.059747</td>\n",
       "      <td>8.982645</td>\n",
       "      <td>8.871648</td>\n",
       "    </tr>\n",
       "    <tr>\n",
       "      <th>TCGA.A6.2685_Tumor</th>\n",
       "      <td>4.916248</td>\n",
       "      <td>8.422069</td>\n",
       "      <td>3.640337</td>\n",
       "      <td>3.376315</td>\n",
       "      <td>12.151396</td>\n",
       "      <td>9.643311</td>\n",
       "      <td>6.502569</td>\n",
       "      <td>8.667484</td>\n",
       "      <td>7.093277</td>\n",
       "      <td>5.550845</td>\n",
       "      <td>...</td>\n",
       "      <td>11.899099</td>\n",
       "      <td>12.661834</td>\n",
       "      <td>11.813086</td>\n",
       "      <td>10.758106</td>\n",
       "      <td>7.732441</td>\n",
       "      <td>11.215730</td>\n",
       "      <td>11.941403</td>\n",
       "      <td>9.227620</td>\n",
       "      <td>11.393996</td>\n",
       "      <td>11.491781</td>\n",
       "    </tr>\n",
       "    <tr>\n",
       "      <th>TCGA.A6.2684_Tumor1</th>\n",
       "      <td>3.206278</td>\n",
       "      <td>1.121457</td>\n",
       "      <td>2.511636</td>\n",
       "      <td>5.901671</td>\n",
       "      <td>4.125926</td>\n",
       "      <td>5.550007</td>\n",
       "      <td>0.000000</td>\n",
       "      <td>7.138572</td>\n",
       "      <td>6.816194</td>\n",
       "      <td>0.000000</td>\n",
       "      <td>...</td>\n",
       "      <td>11.054336</td>\n",
       "      <td>9.616860</td>\n",
       "      <td>11.261972</td>\n",
       "      <td>5.813943</td>\n",
       "      <td>11.950234</td>\n",
       "      <td>7.319355</td>\n",
       "      <td>9.069057</td>\n",
       "      <td>3.800364</td>\n",
       "      <td>7.732133</td>\n",
       "      <td>8.527413</td>\n",
       "    </tr>\n",
       "    <tr>\n",
       "      <th>TCGA.AA.3655_Healthy</th>\n",
       "      <td>4.446107</td>\n",
       "      <td>8.773972</td>\n",
       "      <td>4.308667</td>\n",
       "      <td>2.310769</td>\n",
       "      <td>10.452634</td>\n",
       "      <td>10.314724</td>\n",
       "      <td>4.510210</td>\n",
       "      <td>8.280703</td>\n",
       "      <td>7.767462</td>\n",
       "      <td>4.074326</td>\n",
       "      <td>...</td>\n",
       "      <td>11.363796</td>\n",
       "      <td>13.159404</td>\n",
       "      <td>11.826820</td>\n",
       "      <td>12.049773</td>\n",
       "      <td>9.089351</td>\n",
       "      <td>11.307408</td>\n",
       "      <td>9.882385</td>\n",
       "      <td>9.046760</td>\n",
       "      <td>11.920838</td>\n",
       "      <td>11.320875</td>\n",
       "    </tr>\n",
       "  </tbody>\n",
       "</table>\n",
       "<p>10 rows × 29 columns</p>\n",
       "</div>"
      ],
      "text/plain": [
       "                        TREML2     PTPRN   PGLYRP1       NOG        VIP  \\\n",
       "TCGA.A6.5665_Tumor1   5.163865  7.045953  0.000000  2.481663  10.630085   \n",
       "TCGA.AA.3662_Healthy  4.494414  5.566627  1.409756  2.765371   8.883848   \n",
       "TCGA.A6.2684_Healthy  5.130507  8.512218  3.625649  4.259210  11.042827   \n",
       "TCGA.A6.5659_Tumor1   1.390835  4.106267  4.992032  3.805130   6.919465   \n",
       "TCGA.AA.3511_Healthy  3.017981  6.444461  1.472531  2.850558   8.858903   \n",
       "TCGA.AZ.6600_Healthy  3.977576  8.669881  3.160928  4.342888  12.103200   \n",
       "TCGA.A6.5667_Tumor    4.634540  5.527445  2.394234  1.829520   7.228764   \n",
       "TCGA.A6.2685_Tumor    4.916248  8.422069  3.640337  3.376315  12.151396   \n",
       "TCGA.A6.2684_Tumor1   3.206278  1.121457  2.511636  5.901671   4.125926   \n",
       "TCGA.AA.3655_Healthy  4.446107  8.773972  4.308667  2.310769  10.452634   \n",
       "\n",
       "                         RIMKLB    NKAIN4   FAM171B     ZNF417      GLRA2  \\\n",
       "TCGA.A6.5665_Tumor1    8.925217  3.970238  7.505138   7.438055   7.065840   \n",
       "TCGA.AA.3662_Healthy   7.230001  4.134978  6.968887   7.122600   7.329957   \n",
       "TCGA.A6.2684_Healthy   9.282183  4.077288  8.289738   7.466139   4.495193   \n",
       "TCGA.A6.5659_Tumor1    9.289066  1.390835  8.249686  11.917585  10.136038   \n",
       "TCGA.AA.3511_Healthy   8.409564  5.002881  8.382962   7.238352   4.877810   \n",
       "TCGA.AZ.6600_Healthy  10.055780  4.171764  8.539548   7.494323   6.288557   \n",
       "TCGA.A6.5667_Tumor     6.590308  4.584222  7.082368   7.953643   6.442794   \n",
       "TCGA.A6.2685_Tumor     9.643311  6.502569  8.667484   7.093277   5.550845   \n",
       "TCGA.A6.2684_Tumor1    5.550007  0.000000  7.138572   6.816194   0.000000   \n",
       "TCGA.AA.3655_Healthy  10.314724  4.510210  8.280703   7.767462   4.074326   \n",
       "\n",
       "                      ...       GLTP    METTL7A     CITED2     SCARA5  \\\n",
       "TCGA.A6.5665_Tumor1   ...  12.320419  13.399920  11.965595  11.574300   \n",
       "TCGA.AA.3662_Healthy  ...  11.079559  10.185072  10.063010   8.463916   \n",
       "TCGA.A6.2684_Healthy  ...  11.973354  13.375031  12.171185  12.763005   \n",
       "TCGA.A6.5659_Tumor1   ...  10.236458  10.887394  10.581628   7.474363   \n",
       "TCGA.AA.3511_Healthy  ...  10.939757  11.527948  10.070021   8.283735   \n",
       "TCGA.AZ.6600_Healthy  ...  11.844244  12.943214  11.804974  12.725764   \n",
       "TCGA.A6.5667_Tumor    ...  11.128845   9.393930  12.342774   7.161718   \n",
       "TCGA.A6.2685_Tumor    ...  11.899099  12.661834  11.813086  10.758106   \n",
       "TCGA.A6.2684_Tumor1   ...  11.054336   9.616860  11.261972   5.813943   \n",
       "TCGA.AA.3655_Healthy  ...  11.363796  13.159404  11.826820  12.049773   \n",
       "\n",
       "                           CDH3       IL6R       PKIB     GLP2R    EPB41L3  \\\n",
       "TCGA.A6.5665_Tumor1    5.235852  11.012812  12.250186  8.858374  11.055709   \n",
       "TCGA.AA.3662_Healthy  12.636749   9.847715   8.060350  5.980358   8.926231   \n",
       "TCGA.A6.2684_Healthy   5.176484  11.718993  12.312365  8.498709  12.099533   \n",
       "TCGA.A6.5659_Tumor1   10.411630   7.447798   7.262062  3.627154   8.804561   \n",
       "TCGA.AA.3511_Healthy  12.064537   9.143323   8.808388  4.787968   9.854585   \n",
       "TCGA.AZ.6600_Healthy   5.604791  11.635214  11.966696  8.736652  11.906556   \n",
       "TCGA.A6.5667_Tumor    12.650770   8.900208  10.341715  5.059747   8.982645   \n",
       "TCGA.A6.2685_Tumor     7.732441  11.215730  11.941403  9.227620  11.393996   \n",
       "TCGA.A6.2684_Tumor1   11.950234   7.319355   9.069057  3.800364   7.732133   \n",
       "TCGA.AA.3655_Healthy   9.089351  11.307408   9.882385  9.046760  11.920838   \n",
       "\n",
       "                          NR3C2  \n",
       "TCGA.A6.5665_Tumor1   11.847057  \n",
       "TCGA.AA.3662_Healthy   9.717484  \n",
       "TCGA.A6.2684_Healthy  12.006744  \n",
       "TCGA.A6.5659_Tumor1    9.454988  \n",
       "TCGA.AA.3511_Healthy   9.599585  \n",
       "TCGA.AZ.6600_Healthy  12.022857  \n",
       "TCGA.A6.5667_Tumor     8.871648  \n",
       "TCGA.A6.2685_Tumor    11.491781  \n",
       "TCGA.A6.2684_Tumor1    8.527413  \n",
       "TCGA.AA.3655_Healthy  11.320875  \n",
       "\n",
       "[10 rows x 29 columns]"
      ]
     },
     "execution_count": 4,
     "metadata": {},
     "output_type": "execute_result"
    }
   ],
   "source": [
    "df_gene_sig=df[['TREML2', 'PTPRN', 'PGLYRP1', 'NOG', 'VIP',\\\n",
    "    'RIMKLB', 'NKAIN4', 'FAM171B', 'ZNF417', 'GLRA2', 'HOXA7', 'FABP6', 'MUSK',\\\n",
    "    'HTR6', 'GRIP2', 'VEGFA', 'AKAP12', 'RHEB', 'PMEPA1','GLTP', 'METTL7A',\\\n",
    "    'CITED2', 'SCARA5', 'CDH3','IL6R', 'PKIB', 'GLP2R', 'EPB41L3', 'NR3C2']]\n",
    "\n",
    "# Genes not found from gene signature (possible naming issues)\n",
    "# PADI4, NCKIPSD C5orf53 TREML3 HES5 OR8D2 KLRK1 NCRNA00152 PPAP2A LINC00974\n",
    "\n",
    "df_gene_sig.head(10)"
   ]
  },
  {
   "cell_type": "markdown",
   "id": "gentle-pierce",
   "metadata": {},
   "source": [
    "### Using DESeq2"
   ]
  },
  {
   "cell_type": "code",
   "execution_count": 5,
   "id": "latin-bolivia",
   "metadata": {},
   "outputs": [
    {
     "name": "stdout",
     "output_type": "stream",
     "text": [
      "(267, 3)\n"
     ]
    },
    {
     "data": {
      "text/html": [
       "<div>\n",
       "<style scoped>\n",
       "    .dataframe tbody tr th:only-of-type {\n",
       "        vertical-align: middle;\n",
       "    }\n",
       "\n",
       "    .dataframe tbody tr th {\n",
       "        vertical-align: top;\n",
       "    }\n",
       "\n",
       "    .dataframe thead th {\n",
       "        text-align: right;\n",
       "    }\n",
       "</style>\n",
       "<table border=\"1\" class=\"dataframe\">\n",
       "  <thead>\n",
       "    <tr style=\"text-align: right;\">\n",
       "      <th></th>\n",
       "      <th>RNU4-2</th>\n",
       "      <th>SNORA73B</th>\n",
       "      <th>RNU4-1</th>\n",
       "      <th>RNY3</th>\n",
       "      <th>SNORA12</th>\n",
       "      <th>SNORA53</th>\n",
       "      <th>SNORD15B</th>\n",
       "      <th>RNU1-11P</th>\n",
       "      <th>SNORA23</th>\n",
       "      <th>SNORA22</th>\n",
       "      <th>...</th>\n",
       "      <th>LRRN3</th>\n",
       "      <th>SLC5A3</th>\n",
       "      <th>CHORDC1_2093</th>\n",
       "      <th>PLAG1</th>\n",
       "      <th>ZNF451</th>\n",
       "      <th>LYPLA1</th>\n",
       "      <th>ALG10</th>\n",
       "      <th>PABIR3</th>\n",
       "      <th>GUSBP1</th>\n",
       "      <th>SLC10A1</th>\n",
       "    </tr>\n",
       "  </thead>\n",
       "  <tbody>\n",
       "    <tr>\n",
       "      <th>TCGA.A6.5665_Tumor1</th>\n",
       "      <td>0.000000</td>\n",
       "      <td>2.700992</td>\n",
       "      <td>1.502923</td>\n",
       "      <td>0.000000</td>\n",
       "      <td>0.000000</td>\n",
       "      <td>1.907370</td>\n",
       "      <td>0.938912</td>\n",
       "      <td>0.000000</td>\n",
       "      <td>0.000000</td>\n",
       "      <td>0.000000</td>\n",
       "      <td>...</td>\n",
       "      <td>6.590610</td>\n",
       "      <td>9.931882</td>\n",
       "      <td>9.158420</td>\n",
       "      <td>6.446350</td>\n",
       "      <td>10.139671</td>\n",
       "      <td>12.274157</td>\n",
       "      <td>6.830370</td>\n",
       "      <td>6.617808</td>\n",
       "      <td>8.383275</td>\n",
       "      <td>3.470914</td>\n",
       "    </tr>\n",
       "    <tr>\n",
       "      <th>TCGA.AA.3662_Healthy</th>\n",
       "      <td>1.409756</td>\n",
       "      <td>4.546490</td>\n",
       "      <td>0.000000</td>\n",
       "      <td>0.000000</td>\n",
       "      <td>1.409756</td>\n",
       "      <td>2.108974</td>\n",
       "      <td>2.765371</td>\n",
       "      <td>0.000000</td>\n",
       "      <td>1.409756</td>\n",
       "      <td>1.409756</td>\n",
       "      <td>...</td>\n",
       "      <td>3.557041</td>\n",
       "      <td>10.914748</td>\n",
       "      <td>9.852894</td>\n",
       "      <td>5.591628</td>\n",
       "      <td>10.295708</td>\n",
       "      <td>12.017719</td>\n",
       "      <td>6.708154</td>\n",
       "      <td>6.239579</td>\n",
       "      <td>7.581547</td>\n",
       "      <td>1.801317</td>\n",
       "    </tr>\n",
       "    <tr>\n",
       "      <th>TCGA.A6.2684_Healthy</th>\n",
       "      <td>1.093779</td>\n",
       "      <td>2.964573</td>\n",
       "      <td>0.000000</td>\n",
       "      <td>0.000000</td>\n",
       "      <td>1.708694</td>\n",
       "      <td>1.708694</td>\n",
       "      <td>0.000000</td>\n",
       "      <td>0.000000</td>\n",
       "      <td>0.000000</td>\n",
       "      <td>2.138477</td>\n",
       "      <td>...</td>\n",
       "      <td>7.213951</td>\n",
       "      <td>10.397222</td>\n",
       "      <td>9.747661</td>\n",
       "      <td>6.501623</td>\n",
       "      <td>9.949821</td>\n",
       "      <td>11.371584</td>\n",
       "      <td>6.622811</td>\n",
       "      <td>6.446398</td>\n",
       "      <td>6.483449</td>\n",
       "      <td>2.964573</td>\n",
       "    </tr>\n",
       "    <tr>\n",
       "      <th>TCGA.A6.5659_Tumor1</th>\n",
       "      <td>15.782877</td>\n",
       "      <td>12.947932</td>\n",
       "      <td>13.669877</td>\n",
       "      <td>8.729353</td>\n",
       "      <td>10.411630</td>\n",
       "      <td>11.636606</td>\n",
       "      <td>10.674774</td>\n",
       "      <td>11.299458</td>\n",
       "      <td>10.778350</td>\n",
       "      <td>11.328872</td>\n",
       "      <td>...</td>\n",
       "      <td>12.092301</td>\n",
       "      <td>13.950209</td>\n",
       "      <td>13.261148</td>\n",
       "      <td>9.557940</td>\n",
       "      <td>13.321837</td>\n",
       "      <td>12.757258</td>\n",
       "      <td>10.569358</td>\n",
       "      <td>9.471567</td>\n",
       "      <td>9.567225</td>\n",
       "      <td>7.636052</td>\n",
       "    </tr>\n",
       "    <tr>\n",
       "      <th>TCGA.AA.3511_Healthy</th>\n",
       "      <td>1.872878</td>\n",
       "      <td>3.303842</td>\n",
       "      <td>0.000000</td>\n",
       "      <td>0.000000</td>\n",
       "      <td>0.000000</td>\n",
       "      <td>1.872878</td>\n",
       "      <td>2.442999</td>\n",
       "      <td>0.000000</td>\n",
       "      <td>0.000000</td>\n",
       "      <td>0.916508</td>\n",
       "      <td>...</td>\n",
       "      <td>6.059141</td>\n",
       "      <td>9.745448</td>\n",
       "      <td>10.195440</td>\n",
       "      <td>7.570208</td>\n",
       "      <td>10.066443</td>\n",
       "      <td>11.846131</td>\n",
       "      <td>7.304647</td>\n",
       "      <td>6.968734</td>\n",
       "      <td>7.168865</td>\n",
       "      <td>1.872878</td>\n",
       "    </tr>\n",
       "  </tbody>\n",
       "</table>\n",
       "<p>5 rows × 267 columns</p>\n",
       "</div>"
      ],
      "text/plain": [
       "                         RNU4-2   SNORA73B     RNU4-1      RNY3    SNORA12  \\\n",
       "TCGA.A6.5665_Tumor1    0.000000   2.700992   1.502923  0.000000   0.000000   \n",
       "TCGA.AA.3662_Healthy   1.409756   4.546490   0.000000  0.000000   1.409756   \n",
       "TCGA.A6.2684_Healthy   1.093779   2.964573   0.000000  0.000000   1.708694   \n",
       "TCGA.A6.5659_Tumor1   15.782877  12.947932  13.669877  8.729353  10.411630   \n",
       "TCGA.AA.3511_Healthy   1.872878   3.303842   0.000000  0.000000   0.000000   \n",
       "\n",
       "                        SNORA53   SNORD15B   RNU1-11P    SNORA23    SNORA22  \\\n",
       "TCGA.A6.5665_Tumor1    1.907370   0.938912   0.000000   0.000000   0.000000   \n",
       "TCGA.AA.3662_Healthy   2.108974   2.765371   0.000000   1.409756   1.409756   \n",
       "TCGA.A6.2684_Healthy   1.708694   0.000000   0.000000   0.000000   2.138477   \n",
       "TCGA.A6.5659_Tumor1   11.636606  10.674774  11.299458  10.778350  11.328872   \n",
       "TCGA.AA.3511_Healthy   1.872878   2.442999   0.000000   0.000000   0.916508   \n",
       "\n",
       "                      ...      LRRN3     SLC5A3  CHORDC1_2093     PLAG1  \\\n",
       "TCGA.A6.5665_Tumor1   ...   6.590610   9.931882      9.158420  6.446350   \n",
       "TCGA.AA.3662_Healthy  ...   3.557041  10.914748      9.852894  5.591628   \n",
       "TCGA.A6.2684_Healthy  ...   7.213951  10.397222      9.747661  6.501623   \n",
       "TCGA.A6.5659_Tumor1   ...  12.092301  13.950209     13.261148  9.557940   \n",
       "TCGA.AA.3511_Healthy  ...   6.059141   9.745448     10.195440  7.570208   \n",
       "\n",
       "                         ZNF451     LYPLA1      ALG10    PABIR3    GUSBP1  \\\n",
       "TCGA.A6.5665_Tumor1   10.139671  12.274157   6.830370  6.617808  8.383275   \n",
       "TCGA.AA.3662_Healthy  10.295708  12.017719   6.708154  6.239579  7.581547   \n",
       "TCGA.A6.2684_Healthy   9.949821  11.371584   6.622811  6.446398  6.483449   \n",
       "TCGA.A6.5659_Tumor1   13.321837  12.757258  10.569358  9.471567  9.567225   \n",
       "TCGA.AA.3511_Healthy  10.066443  11.846131   7.304647  6.968734  7.168865   \n",
       "\n",
       "                       SLC10A1  \n",
       "TCGA.A6.5665_Tumor1   3.470914  \n",
       "TCGA.AA.3662_Healthy  1.801317  \n",
       "TCGA.A6.2684_Healthy  2.964573  \n",
       "TCGA.A6.5659_Tumor1   7.636052  \n",
       "TCGA.AA.3511_Healthy  1.872878  \n",
       "\n",
       "[5 rows x 267 columns]"
      ]
     },
     "execution_count": 5,
     "metadata": {},
     "output_type": "execute_result"
    }
   ],
   "source": [
    "df_deseq=pd.read_csv('top_genes.csv') # load\n",
    "df_deseq.drop(labels=['baseMean','lfcSE','stat','pvalue'],axis=1,inplace=True)\n",
    "df_deseq.rename(columns={'Unnamed: 0':'genes'},inplace=True)\n",
    "#num_gens=100;\n",
    "#df_deseq=df_deseq[:num_gens].copy()\n",
    "print(np.shape(df_deseq))\n",
    "df_deseq.head()\n",
    "\n",
    "\n",
    "df_SEQ=df[df_deseq['genes'].to_list()]\n",
    "df_SEQ.head()"
   ]
  },
  {
   "cell_type": "markdown",
   "id": "communist-extra",
   "metadata": {},
   "source": [
    "### Using Random Genes"
   ]
  },
  {
   "cell_type": "code",
   "execution_count": 7,
   "id": "studied-bangkok",
   "metadata": {},
   "outputs": [],
   "source": [
    "num_genes=100\n",
    "genes=df.columns.to_list()\n",
    "# generate random genes\n",
    "random.seed(32)\n",
    "n = random.sample(range(0, len(genes)), num_genes)\n",
    "rand_genes=[genes[i] for i in n]\n",
    "# subset dataset\n",
    "rand_df=df[rand_genes].copy()"
   ]
  },
  {
   "cell_type": "markdown",
   "id": "functioning-tours",
   "metadata": {},
   "source": [
    "## Extract tissue sample from columns (healthy or tumor)"
   ]
  },
  {
   "cell_type": "code",
   "execution_count": 8,
   "id": "indirect-involvement",
   "metadata": {},
   "outputs": [],
   "source": [
    "# Create Target vector\n",
    "target=[]\n",
    "sample_names=[]\n",
    "\n",
    "# loop through and extract tumor + healthy\n",
    "for i in samples:\n",
    "    \n",
    "    temp=i.split('_')[1] # Split string using \"_\"\n",
    "    #remove numbers at end (if they have it)\n",
    "    if temp[-1].isnumeric():\n",
    "        temp=temp[:-1]\n",
    "    \n",
    "    target.append(temp)# save tissues type to list (in order)\n",
    "\n",
    "        \n",
    "# Convert to Panda Series\n",
    "target=pd.Series(target,name='Tissue')"
   ]
  },
  {
   "cell_type": "code",
   "execution_count": 9,
   "id": "guilty-documentation",
   "metadata": {},
   "outputs": [],
   "source": [
    "# Convert to binary tumor=(1) + healthy=(0)\n",
    "target_binary=[]\n",
    "for i in target:\n",
    "    if i=='Healthy':\n",
    "        target_binary.append(0)\n",
    "    else:\n",
    "        target_binary.append(1)\n",
    "        \n",
    "# Convert to Panda Series\n",
    "target_binary=pd.Series(target_binary)"
   ]
  },
  {
   "cell_type": "code",
   "execution_count": 10,
   "id": "ranging-angel",
   "metadata": {},
   "outputs": [],
   "source": [
    "# create colors labels for PCA\n",
    "colors=[]\n",
    "for i in target_binary:\n",
    "    if i ==1:\n",
    "        colors.append('orange')\n",
    "    else:\n",
    "        colors.append('blue')"
   ]
  },
  {
   "cell_type": "markdown",
   "id": "random-information",
   "metadata": {},
   "source": [
    "## Vizualize data in a PCA Plots\n",
    "https://towardsdatascience.com/explaining-k-means-clustering-5298dc47bad6"
   ]
  },
  {
   "cell_type": "markdown",
   "id": "colored-venezuela",
   "metadata": {},
   "source": [
    "### PCA Plot Using All Genes"
   ]
  },
  {
   "cell_type": "code",
   "execution_count": 12,
   "id": "another-director",
   "metadata": {},
   "outputs": [
    {
     "data": {
      "text/plain": [
       "Text(0, 0.5, 'Component 2')"
      ]
     },
     "execution_count": 12,
     "metadata": {},
     "output_type": "execute_result"
    },
    {
     "data": {
      "image/png": "[encoded data removed]",
      "text/plain": [
       "<Figure size 432x288 with 1 Axes>"
      ]
     },
     "metadata": {
      "needs_background": "light"
     },
     "output_type": "display_data"
    }
   ],
   "source": [
    "# Generate Colors + numbers\n",
    "num_list=range(0,54)\n",
    "\n",
    "# PCA \n",
    "pca = PCA(n_components=2)\n",
    "X_r = pca.fit(df).transform(df)\n",
    "# Plot\n",
    "\n",
    "for color, i, target_name in zip(colors, num_list, samples):\n",
    "    plt.scatter(X_r[i,0], X_r[i,1], color=color, alpha=.8, lw=2,\n",
    "                label=target_name)\n",
    "    \n",
    "    \n",
    "plt.title('PCA of Samples Using All Genes', fontsize=18, fontweight='black', color = '#333F4B')\n",
    "plt.axvline(x=0,linestyle='--',c='k')\n",
    "plt.axhline(y=0,linestyle='--',c='k')\n",
    "plt.tick_params(axis='y', which='major', labelsize=14)\n",
    "plt.tick_params(axis='x', which='major', labelsize=14)\n",
    "plt.grid(True)\n",
    "plt.xlabel('Component 1', fontsize=14, fontweight='black', color = '#333F4B')\n",
    "plt.ylabel('Component 2', fontsize=14, fontweight='black', color = '#333F4B')\n"
   ]
  },
  {
   "cell_type": "markdown",
   "id": "earned-legislation",
   "metadata": {},
   "source": [
    "### PCA Plot Using Gene Signature"
   ]
  },
  {
   "cell_type": "code",
   "execution_count": 13,
   "id": "bigger-politics",
   "metadata": {},
   "outputs": [
    {
     "data": {
      "text/plain": [
       "Text(0, 0.5, 'Component 2')"
      ]
     },
     "execution_count": 13,
     "metadata": {},
     "output_type": "execute_result"
    },
    {
     "data": {
      "image/png": "[encoded data removed]",
      "text/plain": [
       "<Figure size 432x288 with 1 Axes>"
      ]
     },
     "metadata": {
      "needs_background": "light"
     },
     "output_type": "display_data"
    }
   ],
   "source": [
    "# Generate Colors + numbers\n",
    "num_list=range(0,54)\n",
    "\n",
    "# PCA \n",
    "pca = PCA(n_components=2)\n",
    "X_r = pca.fit(df_gene_sig).transform(df_gene_sig)\n",
    "# Plot\n",
    "\n",
    "for color, i, target_name in zip(colors, num_list, samples):\n",
    "    plt.scatter(X_r[i,0], X_r[i,1], color=color, alpha=.8, lw=2,\n",
    "                label=target_name)\n",
    "    \n",
    "    \n",
    "plt.title('PCA of Samples Using Gene Signature', fontsize=18, fontweight='black', color = '#333F4B')\n",
    "plt.axvline(x=0,linestyle='--',c='k')\n",
    "plt.axhline(y=0,linestyle='--',c='k')\n",
    "plt.tick_params(axis='y', which='major', labelsize=14)\n",
    "plt.tick_params(axis='x', which='major', labelsize=14)\n",
    "plt.grid(True)\n",
    "plt.xlabel('Component 1', fontsize=14, fontweight='black', color = '#333F4B')\n",
    "plt.ylabel('Component 2', fontsize=14, fontweight='black', color = '#333F4B')"
   ]
  },
  {
   "cell_type": "markdown",
   "id": "impressed-usage",
   "metadata": {},
   "source": [
    "### PCA Plot Using DESeq2 Signature"
   ]
  },
  {
   "cell_type": "code",
   "execution_count": 14,
   "id": "ethical-pride",
   "metadata": {},
   "outputs": [
    {
     "data": {
      "text/plain": [
       "Text(0, 0.5, 'Component 2')"
      ]
     },
     "execution_count": 14,
     "metadata": {},
     "output_type": "execute_result"
    },
    {
     "data": {
      "image/png": "[encoded data removed]",
      "text/plain": [
       "<Figure size 432x288 with 1 Axes>"
      ]
     },
     "metadata": {
      "needs_background": "light"
     },
     "output_type": "display_data"
    }
   ],
   "source": [
    "# Generate Colors + numbers\n",
    "num_list=range(0,54)\n",
    "\n",
    "# PCA \n",
    "pca = PCA(n_components=2)\n",
    "X_r = pca.fit(df_SEQ).transform(df_SEQ)\n",
    "# Plot\n",
    "\n",
    "for color, i, target_name in zip(colors, num_list, samples):\n",
    "    plt.scatter(X_r[i,0], X_r[i,1], color=color, alpha=.8, lw=2,\n",
    "                label=target_name)\n",
    "    \n",
    "    \n",
    "plt.title('PCA of Samples Using DESeq2 Signature', fontsize=18, fontweight='black', color = '#333F4B')\n",
    "plt.axvline(x=0,linestyle='--',c='k')\n",
    "plt.axhline(y=0,linestyle='--',c='k')\n",
    "plt.tick_params(axis='y', which='major', labelsize=14)\n",
    "plt.tick_params(axis='x', which='major', labelsize=14)\n",
    "plt.grid(True)\n",
    "plt.xlabel('Component 1', fontsize=14, fontweight='black', color = '#333F4B')\n",
    "plt.ylabel('Component 2', fontsize=14, fontweight='black', color = '#333F4B')"
   ]
  },
  {
   "cell_type": "markdown",
   "id": "fuzzy-confidence",
   "metadata": {},
   "source": [
    "## Random Forest Model\n",
    "https://towardsdatascience.com/hyperparameter-tuning-the-random-forest-in-python-using-scikit-learn-28d2aa77dd74"
   ]
  },
  {
   "cell_type": "code",
   "execution_count": 95,
   "id": "professional-thomas",
   "metadata": {},
   "outputs": [],
   "source": [
    "# to make ROC plots\n",
    "def plot_roc_curve(fpr, tpr, data_type, test_or_train, auc_k):\n",
    "    plt.plot(fpr, tpr, color='orange', label=('ROC ' + data_type +' (AUC = '+str(auc_k)+\")\"))\n",
    "    plt.plot([0, 1], [0, 1], color='darkblue', linestyle='--', label='Random Guess')\n",
    "    plt.xlabel('False Positive Rate')\n",
    "    plt.ylabel('True Positive Rate')\n",
    "    plt.title('ROC Curve' + ' ' + test_or_train + ' ' + data_type)\n",
    "    plt.legend()\n",
    "    plt.show()"
   ]
  },
  {
   "cell_type": "markdown",
   "id": "handy-commonwealth",
   "metadata": {},
   "source": [
    "### Create, Train, and Test Model with Gene Signature"
   ]
  },
  {
   "cell_type": "markdown",
   "id": "particular-continuity",
   "metadata": {},
   "source": [
    "#### Split Into Training and Test Data"
   ]
  },
  {
   "cell_type": "code",
   "execution_count": 99,
   "id": "fifteen-crisis",
   "metadata": {},
   "outputs": [
    {
     "name": "stdout",
     "output_type": "stream",
     "text": [
      "Our Training Data Set has 40 patient samples\n",
      "Our Testing Data Set has 15 patient samples\n"
     ]
    }
   ],
   "source": [
    "# independent dataset : df_gene_sig : features that determine if patient has cancer\n",
    "# dependent dataset : target_bianry : diagnosis\n",
    "\n",
    "x_train, x_test, y_train, y_test = train_test_split(df_gene_sig, target_binary, test_size=15,shuffle=True, random_state=12)\n",
    "# display size of \n",
    "print('Our Training Data Set has %d patient samples'%(np.shape(x_train)[0]))\n",
    "print('Our Testing Data Set has %d patient samples'%(np.shape(x_test)[0]))"
   ]
  },
  {
   "cell_type": "markdown",
   "id": "offshore-discount",
   "metadata": {},
   "source": [
    "#### Train Data"
   ]
  },
  {
   "cell_type": "code",
   "execution_count": 100,
   "id": "employed-language",
   "metadata": {},
   "outputs": [
    {
     "name": "stdout",
     "output_type": "stream",
     "text": [
      "\n",
      "Train Data:\n",
      "[[19  0]\n",
      " [ 0 21]]\n",
      "AUC: 1.0000\n"
     ]
    },
    {
     "data": {
      "image/png": "[encoded data removed]",
      "text/plain": [
       "<Figure size 432x288 with 1 Axes>"
      ]
     },
     "metadata": {
      "needs_background": "light"
     },
     "output_type": "display_data"
    }
   ],
   "source": [
    "# X =df_gene_sig, y = target_binary,\n",
    "# x_train, x_test, y_train, y_test\n",
    "print('\\nTrain Data:')\n",
    "\n",
    "# Initialize random forest mode\n",
    "rfc = RandomForestClassifier()\n",
    "\n",
    "# Train model on training data\n",
    "rfc.fit(x_train, y_train)\n",
    "\n",
    "# Get the reults of the training data\n",
    "results = rfc.predict(x_train)\n",
    "\n",
    "# Create Confusion matrix using prediction + truth \n",
    "cm=confusion_matrix(y_train, results)\n",
    "print(cm)\n",
    "\n",
    "# Generate ROC Curve\n",
    "fpr_rfc, tpr_rfc, thresholds_rfc = roc_curve(y_train, results)\n",
    "\n",
    "# Calculate AUC (Area under the ROC Curve )\n",
    "auc_k = auc(fpr_rfc, tpr_rfc)\n",
    "print('AUC: %.4f'%(auc_k))\n",
    "\n",
    "#predict probs for test data\n",
    "probs = rfc.predict_proba(x_test)\n",
    "# keep probs of positive calss only\n",
    "probs = probs[:, 1]\n",
    "# plot ROC curve usinf function\n",
    "plot_roc_curve(fpr_rfc, tpr_rfc, 'Gene Signature', 'Train', auc_k)"
   ]
  },
  {
   "cell_type": "markdown",
   "id": "abstract-institute",
   "metadata": {},
   "source": [
    "#### Test Data"
   ]
  },
  {
   "cell_type": "code",
   "execution_count": 101,
   "id": "cultural-cooling",
   "metadata": {},
   "outputs": [
    {
     "name": "stdout",
     "output_type": "stream",
     "text": [
      "\n",
      "Test Data:\n",
      "[[3 2]\n",
      " [3 7]]\n",
      "AUC: 0.6500\n"
     ]
    },
    {
     "data": {
      "image/png": "[encoded data removed]",
      "text/plain": [
       "<Figure size 432x288 with 1 Axes>"
      ]
     },
     "metadata": {
      "needs_background": "light"
     },
     "output_type": "display_data"
    }
   ],
   "source": [
    "# Test Set - now that we've trained, we can now use test set to\n",
    "print('\\nTest Data:')\n",
    "\n",
    "# run it foward - to predict using TEST\n",
    "results=rfc.predict(x_test)\n",
    "\n",
    "# Create Confusion matrix using prediction + truth \n",
    "cm=confusion_matrix(y_test, results)\n",
    "print(cm)\n",
    "\n",
    "# Generate ROC Curve \n",
    "fpr_rfc, tpr_rfc, thresholds_rf = roc_curve(y_test, results)\n",
    "\n",
    "# Calculate AUC (Area under the ROC Curve )\n",
    "auc_k = auc(fpr_rfc, tpr_rfc)\n",
    "print('AUC: %.4f'%(auc_k))\n",
    "\n",
    "# label for plot\n",
    "plt.plot(fpr_rfc, tpr_rfc)\n",
    "\n",
    "#predict probs for test data\n",
    "probs = rfc.predict_proba(x_test)\n",
    "# keep probs of positive calss only\n",
    "probs = probs[:, 1]\n",
    "# plot ROC curve usinf function\n",
    "plot_roc_curve(fpr_rfc, tpr_rfc, 'Gene Signature', 'Test', auc_k)"
   ]
  },
  {
   "cell_type": "markdown",
   "id": "confirmed-development",
   "metadata": {},
   "source": [
    "### Create, Train, and Test Model with DESeq2 Signature"
   ]
  },
  {
   "cell_type": "markdown",
   "id": "specialized-albany",
   "metadata": {},
   "source": [
    "#### Split into trainnig and testing data"
   ]
  },
  {
   "cell_type": "code",
   "execution_count": 102,
   "id": "prospective-capability",
   "metadata": {},
   "outputs": [
    {
     "name": "stdout",
     "output_type": "stream",
     "text": [
      "Our Training Data Set has 40 patient samples\n",
      "Our Testing Data Set has 15 patient samples\n"
     ]
    }
   ],
   "source": [
    "# Re-split Data - this doesn't chnage rows but since we're using more genes we need to re-split to capture\n",
    "\n",
    "# Split Into Training and Test Data\n",
    "x_train, x_test, y_train, y_test = train_test_split(df_SEQ, target_binary, test_size=15,shuffle=True, random_state=12)\n",
    "print('Our Training Data Set has %d patient samples'%(np.shape(x_train)[0]))\n",
    "print('Our Testing Data Set has %d patient samples'%(np.shape(x_test)[0]))"
   ]
  },
  {
   "cell_type": "markdown",
   "id": "medical-relaxation",
   "metadata": {},
   "source": [
    "#### Train Data"
   ]
  },
  {
   "cell_type": "code",
   "execution_count": 103,
   "id": "inappropriate-delight",
   "metadata": {},
   "outputs": [
    {
     "name": "stdout",
     "output_type": "stream",
     "text": [
      "\n",
      "Train Data:\n",
      "[[19  0]\n",
      " [ 0 21]]\n",
      "AUC: 1.0000\n"
     ]
    },
    {
     "data": {
      "image/png": "[encoded data removed]",
      "text/plain": [
       "<Figure size 432x288 with 1 Axes>"
      ]
     },
     "metadata": {
      "needs_background": "light"
     },
     "output_type": "display_data"
    }
   ],
   "source": [
    "# X =df_gene_sig, y = target_binary,\n",
    "# x_train, x_test, y_train, y_test\n",
    "print('\\nTrain Data:')\n",
    "\n",
    "# Initialize random forest mode\n",
    "rfc = RandomForestClassifier()\n",
    "\n",
    "# Train model on training data\n",
    "rfc.fit(x_train, y_train)\n",
    "\n",
    "# Get the reults of the training data\n",
    "results = rfc.predict(x_train)\n",
    "\n",
    "# Create Confusion matrix using prediction + truth \n",
    "cm=confusion_matrix(y_train, results)\n",
    "print(cm)\n",
    "\n",
    "# Generate ROC Curve\n",
    "fpr_rfc, tpr_rfc, thresholds_rfc = roc_curve(y_train, results)\n",
    "\n",
    "# Calculate AUC (Area under the ROC Curve )\n",
    "auc_k = auc(fpr_rfc, tpr_rfc)\n",
    "print('AUC: %.4f'%(auc_k))\n",
    "\n",
    "# plot ROC curve usinf function\n",
    "plot_roc_curve(fpr_rfc, tpr_rfc, 'DESeq2 Genes', 'Train', auc_k)"
   ]
  },
  {
   "cell_type": "markdown",
   "id": "worldwide-airplane",
   "metadata": {},
   "source": [
    "#### Test Data"
   ]
  },
  {
   "cell_type": "code",
   "execution_count": 104,
   "id": "psychological-unemployment",
   "metadata": {},
   "outputs": [
    {
     "name": "stdout",
     "output_type": "stream",
     "text": [
      "\n",
      "Test Data:\n",
      "[[5 0]\n",
      " [4 6]]\n",
      "AUC: 0.8000\n"
     ]
    },
    {
     "data": {
      "image/png": "[encoded data removed]",
      "text/plain": [
       "<Figure size 432x288 with 1 Axes>"
      ]
     },
     "metadata": {
      "needs_background": "light"
     },
     "output_type": "display_data"
    }
   ],
   "source": [
    "# Test Set - now that we've trained, we can now use test set to\n",
    "print('\\nTest Data:')\n",
    "\n",
    "# run it foward - to predict using TEST\n",
    "results=rfc.predict(x_test)\n",
    "\n",
    "# Create Confusion matrix using prediction + truth \n",
    "cm=confusion_matrix(y_test, results)\n",
    "print(cm)\n",
    "\n",
    "# Generate ROC Curve \n",
    "fpr_rfc, tpr_rfc, thresholds_rf = roc_curve(y_test, results)\n",
    "\n",
    "# Calculate AUC (Area under the ROC Curve )\n",
    "auc_k = auc(fpr_rfc, tpr_rfc)\n",
    "print('AUC: %.4f'%(auc_k))\n",
    "\n",
    "# label for plot\n",
    "plt.plot(fpr_rfc, tpr_rfc)\n",
    "\n",
    "# plot ROC curve usinf function\n",
    "plot_roc_curve(fpr_rfc, tpr_rfc, 'DESeq2', 'Test', auc_k)"
   ]
  },
  {
   "cell_type": "markdown",
   "id": "specified-fleece",
   "metadata": {},
   "source": [
    "### Create, Train, and Test Model with Random Genes"
   ]
  },
  {
   "cell_type": "markdown",
   "id": "valid-freight",
   "metadata": {},
   "source": [
    "#### Split Into Training and Test Data"
   ]
  },
  {
   "cell_type": "code",
   "execution_count": 105,
   "id": "rough-craft",
   "metadata": {},
   "outputs": [
    {
     "name": "stdout",
     "output_type": "stream",
     "text": [
      "Our Training Data Set has 40 patient samples\n",
      "Our Testing Data Set has 15 patient samples\n"
     ]
    }
   ],
   "source": [
    "# Re-split Data - this doesn't chnage rows but since we're using more genes we need to re-split to capture\n",
    "\n",
    "# Split Into Training and Test Data\n",
    "x_train, x_test, y_train, y_test = train_test_split(rand_df, target_binary, test_size=15,shuffle=True, random_state=12)\n",
    "print('Our Training Data Set has %d patient samples'%(np.shape(x_train)[0]))\n",
    "print('Our Testing Data Set has %d patient samples'%(np.shape(x_test)[0]))"
   ]
  },
  {
   "cell_type": "markdown",
   "id": "seventh-packaging",
   "metadata": {},
   "source": [
    "#### Train Data"
   ]
  },
  {
   "cell_type": "code",
   "execution_count": 106,
   "id": "motivated-prerequisite",
   "metadata": {},
   "outputs": [
    {
     "name": "stdout",
     "output_type": "stream",
     "text": [
      "\n",
      "Train Data:\n",
      "[[19  0]\n",
      " [ 0 21]]\n",
      "AUC: 1.0000\n"
     ]
    },
    {
     "data": {
      "image/png": "[encoded data removed]",
      "text/plain": [
       "<Figure size 432x288 with 1 Axes>"
      ]
     },
     "metadata": {
      "needs_background": "light"
     },
     "output_type": "display_data"
    }
   ],
   "source": [
    "# X =df_gene_sig, y = target_binary,\n",
    "# x_train, x_test, y_train, y_test\n",
    "print('\\nTrain Data:')\n",
    "\n",
    "# Initialize random forest mode\n",
    "rfc = RandomForestClassifier()\n",
    "\n",
    "# Train model on training data\n",
    "rfc.fit(x_train, y_train)\n",
    "\n",
    "# Get the reults of the training data\n",
    "results = rfc.predict(x_train)\n",
    "\n",
    "# Create Confusion matrix using prediction + truth \n",
    "cm=confusion_matrix(y_train, results)\n",
    "print(cm)\n",
    "\n",
    "# Generate ROC Curve\n",
    "fpr_rfc, tpr_rfc, thresholds_rfc = roc_curve(y_train, results)\n",
    "\n",
    "# Calculate AUC (Area under the ROC Curve )\n",
    "auc_k = auc(fpr_rfc, tpr_rfc)\n",
    "print('AUC: %.4f'%(auc_k))\n",
    "\n",
    "# plot ROC curve usinf function\n",
    "plot_roc_curve(fpr_rfc, tpr_rfc, 'Random Genes', 'Train', auc_k)"
   ]
  },
  {
   "cell_type": "markdown",
   "id": "indian-sleeve",
   "metadata": {},
   "source": [
    "#### Test Data"
   ]
  },
  {
   "cell_type": "code",
   "execution_count": 107,
   "id": "blank-village",
   "metadata": {},
   "outputs": [
    {
     "name": "stdout",
     "output_type": "stream",
     "text": [
      "\n",
      "Test Data:\n",
      "[[4 1]\n",
      " [6 4]]\n",
      "AUC: 0.6000\n"
     ]
    },
    {
     "data": {
      "image/png": "[encoded data removed]",
      "text/plain": [
       "<Figure size 432x288 with 1 Axes>"
      ]
     },
     "metadata": {
      "needs_background": "light"
     },
     "output_type": "display_data"
    }
   ],
   "source": [
    "# Test Set - now that we've trained, we can now use test set to\n",
    "print('\\nTest Data:')\n",
    "\n",
    "# run it foward - to predict using TEST\n",
    "results=rfc.predict(x_test)\n",
    "\n",
    "# Create Confusion matrix using prediction + truth \n",
    "cm=confusion_matrix(y_test, results)\n",
    "print(cm)\n",
    "\n",
    "# Generate ROC Curve \n",
    "fpr_rfc, tpr_rfc, thresholds_rf = roc_curve(y_test, results)\n",
    "\n",
    "# Calculate AUC (Area under the ROC Curve )\n",
    "auc_k = auc(fpr_rfc, tpr_rfc)\n",
    "print('AUC: %.4f'%(auc_k))\n",
    "\n",
    "# label for plot\n",
    "plt.plot(fpr_rfc, tpr_rfc)\n",
    "\n",
    "# plot ROC curve usinf function\n",
    "plot_roc_curve(fpr_rfc, tpr_rfc, 'Random Genes', 'Test', auc_k)"
   ]
  },
  {
   "cell_type": "markdown",
   "id": "south-release",
   "metadata": {},
   "source": [
    "## Plot of Combined Results"
   ]
  },
  {
   "cell_type": "code",
   "execution_count": null,
   "id": "dynamic-austin",
   "metadata": {},
   "outputs": [],
   "source": []
  },
  {
   "cell_type": "markdown",
   "id": "engaged-traffic",
   "metadata": {},
   "source": [
    "## Cross Validation"
   ]
  },
  {
   "cell_type": "code",
   "execution_count": null,
   "id": "liked-induction",
   "metadata": {},
   "outputs": [],
   "source": []
  },
  {
   "cell_type": "code",
   "execution_count": null,
   "id": "protecting-declaration",
   "metadata": {},
   "outputs": [],
   "source": []
  },
  {
   "cell_type": "code",
   "execution_count": null,
   "id": "honest-clinic",
   "metadata": {},
   "outputs": [],
   "source": []
  },
  {
   "cell_type": "code",
   "execution_count": null,
   "id": "middle-precipitation",
   "metadata": {},
   "outputs": [],
   "source": []
  },
  {
   "cell_type": "code",
   "execution_count": null,
   "id": "twenty-imperial",
   "metadata": {},
   "outputs": [],
   "source": []
  }
 ],
 "metadata": {
  "kernelspec": {
   "display_name": "Python 3",
   "language": "python",
   "name": "python3"
  },
  "language_info": {
   "codemirror_mode": {
    "name": "ipython",
    "version": 3
   },
   "file_extension": ".py",
   "mimetype": "text/x-python",
   "name": "python",
   "nbconvert_exporter": "python",
   "pygments_lexer": "ipython3",
   "version": "3.9.1"
  }
 },
 "nbformat": 4,
 "nbformat_minor": 5
}
