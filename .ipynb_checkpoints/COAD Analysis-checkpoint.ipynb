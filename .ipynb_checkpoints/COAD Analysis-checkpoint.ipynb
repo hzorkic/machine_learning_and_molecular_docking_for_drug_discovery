{
 "cells": [
  {
   "cell_type": "markdown",
   "id": "accepted-surname",
   "metadata": {},
   "source": [
    "# TCGA - COAD ML"
   ]
  },
  {
   "cell_type": "code",
   "execution_count": 1,
   "id": "quality-number",
   "metadata": {},
   "outputs": [],
   "source": [
    "# import libs\n",
    "#import libs\n",
    "import pandas as pd\n",
    "from scipy import stats\n",
    "import matplotlib.pyplot as plt\n",
    "import seaborn as sns\n",
    "import numpy as np\n",
    "import sklearn\n",
    "from matplotlib import cm\n",
    "# PCA Analyis\n",
    "from sklearn.decomposition import PCA\n",
    "from sklearn.discriminant_analysis import LinearDiscriminantAnalysis\n",
    "from IPython.display import Image\n",
    "# ML \n",
    "from sklearn.model_selection import train_test_split,KFold, StratifiedKFold\n",
    "from sklearn.model_selection import cross_val_score\n",
    "from sklearn.preprocessing import LabelEncoder\n",
    "from sklearn.pipeline import Pipeline\n",
    "# Deep Learning\n",
    "from keras.models import Sequential\n",
    "from keras.layers import Dense\n",
    "from keras.wrappers.scikit_learn import KerasClassifier\n",
    "from keras.utils import np_utils\n"
   ]
  },
  {
   "cell_type": "markdown",
   "id": "positive-wichita",
   "metadata": {},
   "source": [
    "Read in data to using pandas. Has to be transformed to be used downstream (transposed)"
   ]
  },
  {
   "cell_type": "code",
   "execution_count": 2,
   "id": "american-massage",
   "metadata": {},
   "outputs": [
    {
     "data": {
      "text/html": [
       "<div>\n",
       "<style scoped>\n",
       "    .dataframe tbody tr th:only-of-type {\n",
       "        vertical-align: middle;\n",
       "    }\n",
       "\n",
       "    .dataframe tbody tr th {\n",
       "        vertical-align: top;\n",
       "    }\n",
       "\n",
       "    .dataframe thead th {\n",
       "        text-align: right;\n",
       "    }\n",
       "</style>\n",
       "<table border=\"1\" class=\"dataframe\">\n",
       "  <thead>\n",
       "    <tr style=\"text-align: right;\">\n",
       "      <th></th>\n",
       "      <th>TSPAN6</th>\n",
       "      <th>TNMD</th>\n",
       "      <th>DPM1</th>\n",
       "      <th>SCYL3</th>\n",
       "      <th>C1orf112</th>\n",
       "      <th>FGR</th>\n",
       "      <th>CFH</th>\n",
       "      <th>FUCA2</th>\n",
       "      <th>GCLC</th>\n",
       "      <th>NFYA</th>\n",
       "      <th>...</th>\n",
       "      <th>RPS3P6</th>\n",
       "      <th>GSTM2</th>\n",
       "      <th>ST13P11</th>\n",
       "      <th>RANP6</th>\n",
       "      <th>NAP1L1P3</th>\n",
       "      <th>LINC00671</th>\n",
       "      <th>GAPDHP71</th>\n",
       "      <th>COG8</th>\n",
       "      <th>EIF4E2P1</th>\n",
       "      <th>ARHGAP19</th>\n",
       "    </tr>\n",
       "  </thead>\n",
       "  <tbody>\n",
       "    <tr>\n",
       "      <th>TCGA.A6.5665_Tumor1</th>\n",
       "      <td>6730.462949</td>\n",
       "      <td>27.512452</td>\n",
       "      <td>1557.204808</td>\n",
       "      <td>811.617347</td>\n",
       "      <td>190.753004</td>\n",
       "      <td>213.680047</td>\n",
       "      <td>2604.512164</td>\n",
       "      <td>3091.482573</td>\n",
       "      <td>1705.772051</td>\n",
       "      <td>1042.721947</td>\n",
       "      <td>...</td>\n",
       "      <td>0.000000</td>\n",
       "      <td>367.7498</td>\n",
       "      <td>0.000000</td>\n",
       "      <td>0.917082</td>\n",
       "      <td>2.751245</td>\n",
       "      <td>4.585409</td>\n",
       "      <td>0.000000</td>\n",
       "      <td>851.9689</td>\n",
       "      <td>0.0000</td>\n",
       "      <td>464.0434</td>\n",
       "    </tr>\n",
       "    <tr>\n",
       "      <th>TCGA.AA.3662_Healthy</th>\n",
       "      <td>6785.922984</td>\n",
       "      <td>20.711522</td>\n",
       "      <td>2561.601009</td>\n",
       "      <td>957.700765</td>\n",
       "      <td>510.331896</td>\n",
       "      <td>207.943678</td>\n",
       "      <td>1122.564478</td>\n",
       "      <td>4752.880009</td>\n",
       "      <td>2023.101444</td>\n",
       "      <td>1378.558887</td>\n",
       "      <td>...</td>\n",
       "      <td>1.656922</td>\n",
       "      <td>177.2906</td>\n",
       "      <td>0.828461</td>\n",
       "      <td>1.656922</td>\n",
       "      <td>3.313843</td>\n",
       "      <td>0.828461</td>\n",
       "      <td>43.908430</td>\n",
       "      <td>932.8469</td>\n",
       "      <td>0.0000</td>\n",
       "      <td>357.8951</td>\n",
       "    </tr>\n",
       "    <tr>\n",
       "      <th>TCGA.A6.2684_Healthy</th>\n",
       "      <td>3596.940007</td>\n",
       "      <td>51.044560</td>\n",
       "      <td>1121.846000</td>\n",
       "      <td>722.564107</td>\n",
       "      <td>210.984182</td>\n",
       "      <td>425.371335</td>\n",
       "      <td>2409.303240</td>\n",
       "      <td>2755.271926</td>\n",
       "      <td>2166.557998</td>\n",
       "      <td>1134.323559</td>\n",
       "      <td>...</td>\n",
       "      <td>2.268647</td>\n",
       "      <td>781.5489</td>\n",
       "      <td>0.000000</td>\n",
       "      <td>0.000000</td>\n",
       "      <td>3.402971</td>\n",
       "      <td>15.880530</td>\n",
       "      <td>1.134324</td>\n",
       "      <td>1037.9060</td>\n",
       "      <td>0.0000</td>\n",
       "      <td>535.4007</td>\n",
       "    </tr>\n",
       "    <tr>\n",
       "      <th>TCGA.A6.5659_Tumor1</th>\n",
       "      <td>25713.506410</td>\n",
       "      <td>102.205104</td>\n",
       "      <td>3165.113628</td>\n",
       "      <td>987.982675</td>\n",
       "      <td>1017.184134</td>\n",
       "      <td>74.625949</td>\n",
       "      <td>608.363716</td>\n",
       "      <td>1966.231531</td>\n",
       "      <td>5022.650843</td>\n",
       "      <td>3264.074126</td>\n",
       "      <td>...</td>\n",
       "      <td>0.000000</td>\n",
       "      <td>168.7195</td>\n",
       "      <td>0.000000</td>\n",
       "      <td>0.000000</td>\n",
       "      <td>21.089940</td>\n",
       "      <td>6.489213</td>\n",
       "      <td>0.000000</td>\n",
       "      <td>1495.7640</td>\n",
       "      <td>595.3853</td>\n",
       "      <td>666.7666</td>\n",
       "    </tr>\n",
       "    <tr>\n",
       "      <th>TCGA.AA.3511_Healthy</th>\n",
       "      <td>5526.721541</td>\n",
       "      <td>37.276747</td>\n",
       "      <td>4557.526115</td>\n",
       "      <td>460.634090</td>\n",
       "      <td>259.162147</td>\n",
       "      <td>551.163333</td>\n",
       "      <td>2647.536592</td>\n",
       "      <td>3907.845664</td>\n",
       "      <td>2214.416291</td>\n",
       "      <td>1257.646447</td>\n",
       "      <td>...</td>\n",
       "      <td>5.325250</td>\n",
       "      <td>235.1985</td>\n",
       "      <td>0.887542</td>\n",
       "      <td>0.887542</td>\n",
       "      <td>3.550166</td>\n",
       "      <td>2.662625</td>\n",
       "      <td>11.538040</td>\n",
       "      <td>1026.8860</td>\n",
       "      <td>0.0000</td>\n",
       "      <td>439.3331</td>\n",
       "    </tr>\n",
       "  </tbody>\n",
       "</table>\n",
       "<p>5 rows × 21083 columns</p>\n",
       "</div>"
      ],
      "text/plain": [
       "                            TSPAN6        TNMD         DPM1       SCYL3  \\\n",
       "TCGA.A6.5665_Tumor1    6730.462949   27.512452  1557.204808  811.617347   \n",
       "TCGA.AA.3662_Healthy   6785.922984   20.711522  2561.601009  957.700765   \n",
       "TCGA.A6.2684_Healthy   3596.940007   51.044560  1121.846000  722.564107   \n",
       "TCGA.A6.5659_Tumor1   25713.506410  102.205104  3165.113628  987.982675   \n",
       "TCGA.AA.3511_Healthy   5526.721541   37.276747  4557.526115  460.634090   \n",
       "\n",
       "                         C1orf112         FGR          CFH        FUCA2  \\\n",
       "TCGA.A6.5665_Tumor1    190.753004  213.680047  2604.512164  3091.482573   \n",
       "TCGA.AA.3662_Healthy   510.331896  207.943678  1122.564478  4752.880009   \n",
       "TCGA.A6.2684_Healthy   210.984182  425.371335  2409.303240  2755.271926   \n",
       "TCGA.A6.5659_Tumor1   1017.184134   74.625949   608.363716  1966.231531   \n",
       "TCGA.AA.3511_Healthy   259.162147  551.163333  2647.536592  3907.845664   \n",
       "\n",
       "                             GCLC         NFYA  ...    RPS3P6     GSTM2  \\\n",
       "TCGA.A6.5665_Tumor1   1705.772051  1042.721947  ...  0.000000  367.7498   \n",
       "TCGA.AA.3662_Healthy  2023.101444  1378.558887  ...  1.656922  177.2906   \n",
       "TCGA.A6.2684_Healthy  2166.557998  1134.323559  ...  2.268647  781.5489   \n",
       "TCGA.A6.5659_Tumor1   5022.650843  3264.074126  ...  0.000000  168.7195   \n",
       "TCGA.AA.3511_Healthy  2214.416291  1257.646447  ...  5.325250  235.1985   \n",
       "\n",
       "                       ST13P11     RANP6   NAP1L1P3  LINC00671   GAPDHP71  \\\n",
       "TCGA.A6.5665_Tumor1   0.000000  0.917082   2.751245   4.585409   0.000000   \n",
       "TCGA.AA.3662_Healthy  0.828461  1.656922   3.313843   0.828461  43.908430   \n",
       "TCGA.A6.2684_Healthy  0.000000  0.000000   3.402971  15.880530   1.134324   \n",
       "TCGA.A6.5659_Tumor1   0.000000  0.000000  21.089940   6.489213   0.000000   \n",
       "TCGA.AA.3511_Healthy  0.887542  0.887542   3.550166   2.662625  11.538040   \n",
       "\n",
       "                           COG8  EIF4E2P1  ARHGAP19  \n",
       "TCGA.A6.5665_Tumor1    851.9689    0.0000  464.0434  \n",
       "TCGA.AA.3662_Healthy   932.8469    0.0000  357.8951  \n",
       "TCGA.A6.2684_Healthy  1037.9060    0.0000  535.4007  \n",
       "TCGA.A6.5659_Tumor1   1495.7640  595.3853  666.7666  \n",
       "TCGA.AA.3511_Healthy  1026.8860    0.0000  439.3331  \n",
       "\n",
       "[5 rows x 21083 columns]"
      ]
     },
     "execution_count": 2,
     "metadata": {},
     "output_type": "execute_result"
    }
   ],
   "source": [
    "# Load in Data + Trnasform Direction\n",
    "df=pd.read_csv('COAD_normalized_counts.csv') # load\n",
    "df=df.transpose()\n",
    "\n",
    "genes=df.loc['new_gene'].to_list() # saves all genes as list\n",
    "df.columns=genes\n",
    "\n",
    "samples=df.index.to_list()\n",
    "samples=samples[1:] # removes the \"New_Gene\" Label\n",
    "\n",
    "df=df.drop(['new_gene']).reset_index(drop=True) # remove gene column \n",
    "df.index=samples # set index names \n",
    "\n",
    "df=df.astype(float) # weird nonsense step thats needed ~sometimes~\n",
    "df.head() # show results"
   ]
  },
  {
   "cell_type": "markdown",
   "id": "transsexual-fusion",
   "metadata": {},
   "source": [
    "### We could add a pre-processing step here to remove genes that have low expression\n",
    "Like if a gene as 0 counts for at least 45/55 sampels. Not necessary but could help reduce size\n"
   ]
  },
  {
   "cell_type": "code",
   "execution_count": 3,
   "id": "secondary-tomorrow",
   "metadata": {},
   "outputs": [],
   "source": [
    "# Pre-Process\n",
    "thresh=45"
   ]
  },
  {
   "cell_type": "markdown",
   "id": "distributed-static",
   "metadata": {},
   "source": [
    "Extract Tissue sample from columns (healthy or tumor) adn then stick that into a panda series (single column dataframe). This is out \"Y\" while the df1 which contains all the genes is our \"X\".\n",
    "\n",
    "We can do this since the \"X\" and \"y\" align via index. \n",
    "\n",
    "E.g 3rd row in df1 (TCGA.A6.2684_Healthy) has target  of \"healthy\" in Y!"
   ]
  },
  {
   "cell_type": "code",
   "execution_count": 4,
   "id": "temporal-january",
   "metadata": {},
   "outputs": [],
   "source": [
    "# Create Target vector\n",
    "target=[]\n",
    "sample_names=[]\n",
    "\n",
    "# loop through and extract tumor(1) + healthy(0)\n",
    "for i in samples:\n",
    "    \n",
    "    temp=i.split('_')[1] # Split string using \"_\"\n",
    "    #remove numbers at end (if they have it)\n",
    "    if temp[-1].isnumeric():\n",
    "        temp=temp[:-1]\n",
    "    \n",
    "    target.append(temp)# save tissues type to list (in order)\n",
    "\n",
    "        \n",
    "# Convert to Panda Series\n",
    "target=pd.Series(target,name='Tissue')"
   ]
  },
  {
   "cell_type": "markdown",
   "id": "superb-brand",
   "metadata": {},
   "source": [
    "# Visualize Data\n",
    "just resuing old code, not really optimized tbh"
   ]
  },
  {
   "cell_type": "code",
   "execution_count": 5,
   "id": "superior-brick",
   "metadata": {},
   "outputs": [
    {
     "data": {
      "text/plain": [
       "Text(0, 0.5, 'Component 2')"
      ]
     },
     "execution_count": 5,
     "metadata": {},
     "output_type": "execute_result"
    },
    {
     "data": {
      "image/png": "[encoded data removed]",
      "text/plain": [
       "<Figure size 432x288 with 1 Axes>"
      ]
     },
     "metadata": {
      "needs_background": "light"
     },
     "output_type": "display_data"
    }
   ],
   "source": [
    "# Generate Colors + numbers\n",
    "colors=['black','dimgrey','darkgrey',\\\n",
    "       'green','green','cyan','cyan','red','red','orange','orange'\\\n",
    "       ,'purple','purple','lawngreen','lawngreen','darkblue','darkblue'\\\n",
    "       ,'magenta','magenta','saddlebrown','saddlebrown','black','dimgrey','darkgrey',\\\n",
    "       'green','green','cyan','cyan','red','red','orange','orange'\\\n",
    "       ,'purple','purple','lawngreen','lawngreen','darkblue','darkblue'\\\n",
    "       ,'magenta','magenta','saddlebrown','saddlebrown','black','dimgrey','darkgrey',\\\n",
    "       'green','green','cyan','cyan','red','red','orange','orange'\\\n",
    "       ,'purple','purple','lawngreen','lawngreen','darkblue','darkblue'\\\n",
    "       ,'magenta','magenta','saddlebrown','saddlebrown']\n",
    "\n",
    "num_list=range(0,54)\n",
    "\n",
    "# PCA \n",
    "pca = PCA(n_components=2)\n",
    "X_r = pca.fit(df).transform(df)\n",
    "# Plot\n",
    "\n",
    "for color, i, target_name in zip(colors, num_list, samples):\n",
    "    plt.scatter(X_r[i,0], X_r[i,1], color=color, alpha=.8, lw=2,\n",
    "                label=target_name)\n",
    "    \n",
    "    \n",
    "plt.title('PCA of Samples', fontsize=18, fontweight='black', color = '#333F4B')\n",
    "plt.axvline(x=0,linestyle='--',c='k')\n",
    "plt.axhline(y=0,linestyle='--',c='k')\n",
    "plt.tick_params(axis='y', which='major', labelsize=14)\n",
    "plt.tick_params(axis='x', which='major', labelsize=14)\n",
    "plt.grid(True)\n",
    "plt.xlabel('Component 1', fontsize=14, fontweight='black', color = '#333F4B')\n",
    "plt.ylabel('Component 2', fontsize=14, fontweight='black', color = '#333F4B')"
   ]
  },
  {
   "cell_type": "markdown",
   "id": "thousand-painting",
   "metadata": {},
   "source": [
    "RIP to clustering with PCA haha"
   ]
  },
  {
   "cell_type": "code",
   "execution_count": 6,
   "id": "little-wagon",
   "metadata": {},
   "outputs": [],
   "source": [
    "# Other Visuals \n"
   ]
  },
  {
   "cell_type": "markdown",
   "id": "verified-sterling",
   "metadata": {},
   "source": [
    "## Split Data - K Folds Cross Validation"
   ]
  },
  {
   "cell_type": "code",
   "execution_count": 7,
   "id": "informational-style",
   "metadata": {},
   "outputs": [
    {
     "name": "stdout",
     "output_type": "stream",
     "text": [
      "(55, 21083)\n",
      "(55,)\n"
     ]
    }
   ],
   "source": [
    "print(np.shape(df))\n",
    "print(np.shape(target))"
   ]
  },
  {
   "cell_type": "markdown",
   "id": "happy-consumer",
   "metadata": {},
   "source": [
    "(rows=patients,genes=columns)"
   ]
  },
  {
   "cell_type": "markdown",
   "id": "dangerous-intent",
   "metadata": {},
   "source": [
    "### Split into testing and training data first"
   ]
  },
  {
   "cell_type": "code",
   "execution_count": 8,
   "id": "specific-harvard",
   "metadata": {},
   "outputs": [
    {
     "name": "stdout",
     "output_type": "stream",
     "text": [
      "Our Training Data Set has 45 patient samples\n",
      "Our Testing Data Set has 10 patient samples\n"
     ]
    }
   ],
   "source": [
    "# Split Into Training and Test Data\n",
    "x_train, x_test, y_train, y_test = train_test_split(df, target, test_size=10,shuffle=True, random_state=7)\n",
    "# display size of \n",
    "print('Our Training Data Set has %d patient samples'%(np.shape(x_train)[0]))\n",
    "print('Our Testing Data Set has %d patient samples'%(np.shape(x_test)[0]))"
   ]
  },
  {
   "cell_type": "markdown",
   "id": "forbidden-mapping",
   "metadata": {},
   "source": [
    "### Split traing Data further into K- Folds"
   ]
  },
  {
   "cell_type": "code",
   "execution_count": 9,
   "id": "least-arnold",
   "metadata": {},
   "outputs": [
    {
     "name": "stdout",
     "output_type": "stream",
     "text": [
      "TRAIN: [ 0  3  4  5  6  7  8  9 12 13 14 15 16 17 19 20 21 22 23 24 25 26 27 28\n",
      " 29 30 31 32 33 35 36 37 38 39 42 44] \n",
      "TEST: [ 1  2 10 11 18 34 40 41 43] \n",
      "\n",
      "TRAIN: [ 0  1  2  3  4  5  6  7 10 11 12 13 14 15 16 17 18 19 20 23 24 25 26 28\n",
      " 30 31 33 34 37 38 39 40 41 42 43 44] \n",
      "TEST: [ 8  9 21 22 27 29 32 35 36] \n",
      "\n",
      "TRAIN: [ 1  2  3  4  6  7  8  9 10 11 13 14 15 16 18 19 20 21 22 23 25 26 27 28\n",
      " 29 31 32 33 34 35 36 37 40 41 43 44] \n",
      "TEST: [ 0  5 12 17 24 30 38 39 42] \n",
      "\n",
      "TRAIN: [ 0  1  2  5  6  8  9 10 11 12 13 14 15 16 17 18 20 21 22 24 27 28 29 30\n",
      " 32 34 35 36 37 38 39 40 41 42 43 44] \n",
      "TEST: [ 3  4  7 19 23 25 26 31 33] \n",
      "\n",
      "TRAIN: [ 0  1  2  3  4  5  7  8  9 10 11 12 17 18 19 21 22 23 24 25 26 27 29 30\n",
      " 31 32 33 34 35 36 38 39 40 41 42 43] \n",
      "TEST: [ 6 13 14 15 16 20 28 37 44] \n",
      "\n"
     ]
    }
   ],
   "source": [
    "# Cross Fold Validation - Create 5 sets (from traing data)\n",
    "kf = KFold(n_splits = 5)                      \n",
    "skf = StratifiedKFold(n_splits = 5, random_state = 7, shuffle = True) # Generates indicies\n",
    "\n",
    "# This code would be used in the ML algorithm\n",
    "# Show Each Fold (indicies)\n",
    "for train_index, test_index in skf.split(x_train, y_train):\n",
    "    \n",
    "    # Insert ML code here\n",
    "    #\n",
    "    # Example code on how to get data from indicies\n",
    "    # x_train.iloc[train_index]\n",
    "    #\n",
    "    \n",
    "    print(\"TRAIN:\", train_index, \"\\nTEST:\", test_index,'\\n') # used to show indexes"
   ]
  },
  {
   "cell_type": "markdown",
   "id": "warming-watts",
   "metadata": {},
   "source": [
    "# Deep Learning"
   ]
  },
  {
   "cell_type": "code",
   "execution_count": 54,
   "id": "consistent-association",
   "metadata": {},
   "outputs": [],
   "source": [
    "# Creating Model\n",
    "# input = 21083 nodes (all genes... for now)\n",
    "# hidden nodes = 125 (basic for now)\n",
    "# output = 2 nodes\n",
    "\n",
    "# define baseline model\n",
    "\n",
    "# create model\n",
    "model = Sequential()\n",
    "model.add(Dense(125, input_dim=21083, activation='relu'))\n",
    "model.add(Dense(2, activation='softmax'))\n",
    "# Compile model\n",
    "model.compile(loss='categorical_crossentropy', optimizer='adam', metrics=['accuracy'])"
   ]
  },
  {
   "cell_type": "code",
   "execution_count": 65,
   "id": "commercial-queensland",
   "metadata": {},
   "outputs": [],
   "source": [
    "estimator = KerasClassifier(build_fn=baseline_model, epochs=15, batch_size=5, verbose=2)"
   ]
  },
  {
   "cell_type": "code",
   "execution_count": 64,
   "id": "absolute-leather",
   "metadata": {},
   "outputs": [
    {
     "name": "stdout",
     "output_type": "stream",
     "text": [
      "Epoch 1/15\n",
      "9/9 [==============================] - 1s 20ms/step - loss: 11068.8839 - accuracy: 0.5860\n",
      "Epoch 2/15\n",
      "9/9 [==============================] - 0s 46ms/step - loss: 4838.6328 - accuracy: 0.6416\n",
      "Epoch 3/15\n",
      "9/9 [==============================] - 0s 42ms/step - loss: 4496.7434 - accuracy: 0.6298\n",
      "Epoch 4/15\n",
      "9/9 [==============================] - 0s 40ms/step - loss: 3229.9762 - accuracy: 0.7347\n",
      "Epoch 5/15\n",
      "9/9 [==============================] - 0s 37ms/step - loss: 1298.8057 - accuracy: 0.6544\n",
      "Epoch 6/15\n",
      "9/9 [==============================] - 0s 36ms/step - loss: 997.8383 - accuracy: 0.7607\n",
      "Epoch 7/15\n",
      "9/9 [==============================] - 0s 37ms/step - loss: 1075.8332 - accuracy: 0.6997\n",
      "Epoch 8/15\n",
      "9/9 [==============================] - 0s 36ms/step - loss: 0.5625 - accuracy: 0.6496\n",
      "Epoch 9/15\n",
      "9/9 [==============================] - 0s 32ms/step - loss: 0.5101 - accuracy: 0.6562\n",
      "Epoch 10/15\n",
      "9/9 [==============================] - 0s 34ms/step - loss: 0.5622 - accuracy: 0.6029\n",
      "Epoch 11/15\n",
      "9/9 [==============================] - 0s 35ms/step - loss: 0.6005 - accuracy: 0.6669\n",
      "Epoch 12/15\n",
      "9/9 [==============================] - 0s 39ms/step - loss: 0.5626 - accuracy: 0.6664\n",
      "Epoch 13/15\n",
      "9/9 [==============================] - 0s 41ms/step - loss: 0.5736 - accuracy: 0.6104\n",
      "Epoch 14/15\n",
      "9/9 [==============================] - 0s 34ms/step - loss: 0.5684 - accuracy: 0.4942\n",
      "Epoch 15/15\n",
      "9/9 [==============================] - 0s 43ms/step - loss: 0.5216 - accuracy: 0.6417\n"
     ]
    },
    {
     "data": {
      "text/plain": [
       "<tensorflow.python.keras.callbacks.History at 0x7f92241ddb80>"
      ]
     },
     "execution_count": 64,
     "metadata": {},
     "output_type": "execute_result"
    }
   ],
   "source": [
    "# not using K-Fold\n",
    "estimator.fit(x_train, y_train)"
   ]
  },
  {
   "cell_type": "code",
   "execution_count": 52,
   "id": "bridal-general",
   "metadata": {},
   "outputs": [
    {
     "name": "stdout",
     "output_type": "stream",
     "text": [
      "\n",
      "Fold Number 1\n",
      "Epoch 1/10\n",
      "8/8 - 1s - loss: 5017.1763 - accuracy: 0.4722\n",
      "Epoch 2/10\n",
      "8/8 - 0s - loss: 0.6932 - accuracy: 0.4444\n",
      "Epoch 3/10\n",
      "8/8 - 0s - loss: 0.6933 - accuracy: 0.4444\n",
      "Epoch 4/10\n",
      "8/8 - 0s - loss: 0.6931 - accuracy: 0.5278\n",
      "Epoch 5/10\n",
      "8/8 - 0s - loss: 0.6928 - accuracy: 0.5556\n",
      "Epoch 6/10\n",
      "8/8 - 0s - loss: 0.6926 - accuracy: 0.5556\n",
      "Epoch 7/10\n",
      "8/8 - 0s - loss: 0.6926 - accuracy: 0.5556\n",
      "Epoch 8/10\n",
      "8/8 - 0s - loss: 0.6921 - accuracy: 0.5556\n",
      "Epoch 9/10\n",
      "8/8 - 0s - loss: 0.6920 - accuracy: 0.5556\n",
      "Epoch 10/10\n",
      "8/8 - 0s - loss: 0.6922 - accuracy: 0.5556\n",
      "\n",
      "Fold Number 2\n",
      "Epoch 1/10\n",
      "8/8 - 1s - loss: 4527.0200 - accuracy: 0.5000\n",
      "Epoch 2/10\n",
      "8/8 - 0s - loss: 490.3239 - accuracy: 0.5556\n",
      "Epoch 3/10\n",
      "8/8 - 0s - loss: 0.6928 - accuracy: 0.5833\n",
      "Epoch 4/10\n",
      "8/8 - 0s - loss: 0.6923 - accuracy: 0.5833\n",
      "Epoch 5/10\n",
      "8/8 - 0s - loss: 0.6919 - accuracy: 0.5833\n",
      "Epoch 6/10\n",
      "8/8 - 0s - loss: 0.6915 - accuracy: 0.5833\n",
      "Epoch 7/10\n",
      "8/8 - 0s - loss: 0.6913 - accuracy: 0.5833\n",
      "Epoch 8/10\n",
      "8/8 - 0s - loss: 0.6911 - accuracy: 0.5833\n",
      "Epoch 9/10\n",
      "8/8 - 0s - loss: 0.6910 - accuracy: 0.5833\n",
      "Epoch 10/10\n",
      "8/8 - 0s - loss: 0.6908 - accuracy: 0.5833\n",
      "\n",
      "Fold Number 3\n",
      "Epoch 1/10\n",
      "8/8 - 1s - loss: 9799.7930 - accuracy: 0.4444\n",
      "Epoch 2/10\n",
      "8/8 - 0s - loss: 0.6928 - accuracy: 0.5833\n",
      "Epoch 3/10\n",
      "8/8 - 0s - loss: 0.6920 - accuracy: 0.5833\n",
      "Epoch 4/10\n",
      "8/8 - 0s - loss: 0.6918 - accuracy: 0.5833\n",
      "Epoch 5/10\n",
      "8/8 - 0s - loss: 0.6917 - accuracy: 0.5833\n",
      "Epoch 6/10\n",
      "8/8 - 0s - loss: 0.6915 - accuracy: 0.5833\n",
      "Epoch 7/10\n",
      "8/8 - 0s - loss: 0.6914 - accuracy: 0.5833\n",
      "Epoch 8/10\n",
      "8/8 - 0s - loss: 0.6911 - accuracy: 0.5833\n",
      "Epoch 9/10\n",
      "8/8 - 0s - loss: 0.6908 - accuracy: 0.5833\n",
      "Epoch 10/10\n",
      "8/8 - 0s - loss: 0.6907 - accuracy: 0.5833\n",
      "\n",
      "Fold Number 4\n",
      "Epoch 1/10\n",
      "8/8 - 1s - loss: 2542.4775 - accuracy: 0.4444\n",
      "Epoch 2/10\n",
      "8/8 - 0s - loss: 0.6930 - accuracy: 0.5833\n",
      "Epoch 3/10\n",
      "8/8 - 0s - loss: 0.6927 - accuracy: 0.5833\n",
      "Epoch 4/10\n",
      "8/8 - 0s - loss: 0.6923 - accuracy: 0.5833\n",
      "Epoch 5/10\n",
      "8/8 - 0s - loss: 0.6919 - accuracy: 0.5833\n",
      "Epoch 6/10\n",
      "8/8 - 0s - loss: 0.6915 - accuracy: 0.5833\n",
      "Epoch 7/10\n",
      "8/8 - 0s - loss: 0.6912 - accuracy: 0.5833\n",
      "Epoch 8/10\n",
      "8/8 - 0s - loss: 0.6910 - accuracy: 0.5833\n",
      "Epoch 9/10\n",
      "8/8 - 0s - loss: 0.6907 - accuracy: 0.5833\n",
      "Epoch 10/10\n",
      "8/8 - 0s - loss: 0.6906 - accuracy: 0.5833\n",
      "\n",
      "Fold Number 5\n",
      "Epoch 1/10\n",
      "8/8 - 1s - loss: 9614.8418 - accuracy: 0.4722\n",
      "Epoch 2/10\n",
      "8/8 - 0s - loss: 0.8195 - accuracy: 0.5833\n",
      "Epoch 3/10\n",
      "8/8 - 0s - loss: 0.6729 - accuracy: 0.6111\n",
      "Epoch 4/10\n",
      "8/8 - 0s - loss: 0.6723 - accuracy: 0.6111\n",
      "Epoch 5/10\n",
      "8/8 - 0s - loss: 0.6718 - accuracy: 0.6111\n",
      "Epoch 6/10\n",
      "8/8 - 0s - loss: 0.6714 - accuracy: 0.6111\n",
      "Epoch 7/10\n",
      "8/8 - 0s - loss: 0.6711 - accuracy: 0.6111\n",
      "Epoch 8/10\n",
      "8/8 - 0s - loss: 0.6708 - accuracy: 0.6111\n",
      "Epoch 9/10\n",
      "8/8 - 0s - loss: 0.6707 - accuracy: 0.6111\n",
      "Epoch 10/10\n",
      "8/8 - 0s - loss: 0.6700 - accuracy: 0.6111\n"
     ]
    }
   ],
   "source": [
    "# Using K-Fold\n",
    "c=1\n",
    "for train_index, test_index in skf.split(x_train, y_train):\n",
    "    print('\\nFold Number %d'%(c))\n",
    "    X=x_train.iloc[train_index]\n",
    "    Y=y_train.iloc[train_index]\n",
    "    estimator.fit(X, Y)\n",
    "    c+=1\n"
   ]
  }
 ],
 "metadata": {
  "kernelspec": {
   "display_name": "Python 3",
   "language": "python",
   "name": "python3"
  },
  "language_info": {
   "codemirror_mode": {
    "name": "ipython",
    "version": 3
   },
   "file_extension": ".py",
   "mimetype": "text/x-python",
   "name": "python",
   "nbconvert_exporter": "python",
   "pygments_lexer": "ipython3",
   "version": "3.8.5"
  }
 },
 "nbformat": 4,
 "nbformat_minor": 5
}
